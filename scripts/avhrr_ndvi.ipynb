{
 "cells": [
  {
   "cell_type": "code",
   "execution_count": 8,
   "metadata": {},
   "outputs": [],
   "source": [
    "import numpy as np\n",
    "import matplotlib.pyplot as plt\n",
    "import os, glob\n",
    "import geopandas as gpd\n",
    "import rioxarray as rxr\n",
    "import rasterio\n",
    "from rasterio.plot import show, adjust_band\n",
    "from matplotlib import cm\n",
    "import matplotlib\n",
    "\n",
    "from constants import *\n",
    "os.chdir(home_dir)"
   ]
  },
  {
   "cell_type": "code",
   "execution_count": 35,
   "metadata": {},
   "outputs": [
    {
     "name": "stdout",
     "output_type": "stream",
     "text": [
      "5\n",
      "6\n"
     ]
    }
   ],
   "source": [
    "# san joaquin watershed\n",
    "sj = sn_watersheds[sn_watersheds.name=='Upper San Joaquin']\n",
    "# clip swe for every year\n",
    "swe_sj = {}\n",
    "for yr in range(1985,1987):\n",
    "    swe = rxr.open_rasterio(data_dir + 'max_swe'+str(yr)+'.tif')\n",
    "    swe = swe.rio.write_crs(sj.crs)\n",
    "    clipped = swe.rio.clip(sj.geometry,all_touched=True)\n",
    "    swe_sj[yr]=clipped\n",
    "\n",
    "#clip PE fpr every year\n",
    "pe_sj = {}\n",
    "for yr in range(2000,2002):\n",
    "    pe = rxr.open_rasterio(pe_data_dir + 'sai_'+str(yr)+'.tif')\n",
    "    #pe = pe.rio.write_crs(sj.crs)\n",
    "    clipped = pe.rio.clip(sj.geometry,all_touched=True)\n",
    "    pe_sj[yr]=clipped\n",
    "\n",
    "#clip GPP for every year\n",
    "gpp_sj = {}\n",
    "for yr in range(2000,2002):\n",
    "    id = yr-2000\n",
    "    gpp_means = []\n",
    "    for mo in range(1,13):\n",
    "        tmp = rxr.open_rasterio(data_dir + 'modis_clip_'+str(id)+'_'+str(mo)+'.tif')\n",
    "        clipped = tmp.rio.clip(sj.geometry,all_touched=True)\n",
    "        gpp_means.append(np.nanmean(clipped))\n",
    "    max_mo = np.nanargmax(gpp_means)+1\n",
    "    gpp = rxr.open_rasterio(data_dir+'modis_clip_'+str(id)+'_'+str(max_mo)+'.tif')\n",
    "    clipped = gpp.rio.clip(sj.geometry,all_touched=True)\n",
    "    print(max_mo)\n",
    "    gpp_sj[yr]=clipped\n",
    "\n",
    "\n",
    "#clip NDVI for every year\n",
    "ndvi_sj = {}\n",
    "for yr in range(2000,2002):\n",
    "    ndvi = rxr.open_rasterio(data_dir + 'pe_snow_fires_data/max-ndvi/max-ndvi-' + str(yr)+'.tif')\n",
    "    #pe = pe.rio.write_crs(sj.crs)\n",
    "    clipped = ndvi.rio.clip(sj.geometry,all_touched=True)\n",
    "    ndvi_sj[yr]=clipped\n"
   ]
  },
  {
   "cell_type": "code",
   "execution_count": 36,
   "metadata": {},
   "outputs": [
    {
     "data": {
      "text/plain": [
       "<matplotlib.collections.QuadMesh at 0x15dbba23130>"
      ]
     },
     "execution_count": 36,
     "metadata": {},
     "output_type": "execute_result"
    },
    {
     "data": {
      "image/png": "[encoded data removed]",
      "text/plain": [
       "<Figure size 432x288 with 2 Axes>"
      ]
     },
     "metadata": {
      "needs_background": "light"
     },
     "output_type": "display_data"
    }
   ],
   "source": []
  },
  {
   "cell_type": "code",
   "execution_count": null,
   "metadata": {},
   "outputs": [],
   "source": []
  }
 ],
 "metadata": {
  "interpreter": {
   "hash": "de5d231dad5132826100b9f4984636fcf38463b4e554017da8ead88e76106218"
  },
  "kernelspec": {
   "display_name": "Python 3.9.7 64-bit ('swe': conda)",
   "name": "python3"
  },
  "language_info": {
   "codemirror_mode": {
    "name": "ipython",
    "version": 3
   },
   "file_extension": ".py",
   "mimetype": "text/x-python",
   "name": "python",
   "nbconvert_exporter": "python",
   "pygments_lexer": "ipython3",
   "version": "3.9.7"
  },
  "orig_nbformat": 4
 },
 "nbformat": 4,
 "nbformat_minor": 2
}

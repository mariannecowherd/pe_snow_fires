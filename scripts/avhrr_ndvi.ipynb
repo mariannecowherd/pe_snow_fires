{
 "cells": [
  {
   "cell_type": "code",
   "execution_count": 26,
   "source": [
    "import numpy as np\r\n",
    "import matplotlib.pyplot as plt\r\n",
    "import os, glob\r\n",
    "from osgeo import gdal"
   ],
   "outputs": [],
   "metadata": {}
  },
  {
   "cell_type": "code",
   "execution_count": 27,
   "source": [
    "files_to_mosaic = glob.glob('\\\\users\\\\marianne\\\\documents\\\\data\\\\avhrr_ndvi_monthly\\\\2015-01*.tif')\r\n",
    "files_to_mosaic"
   ],
   "outputs": [
    {
     "output_type": "execute_result",
     "data": {
      "text/plain": [
       "['\\\\users\\\\marianne\\\\documents\\\\data\\\\avhrr_ndvi_monthly\\\\2015-01-0000000000-0000000000.tif',\n",
       " '\\\\users\\\\marianne\\\\documents\\\\data\\\\avhrr_ndvi_monthly\\\\2015-01-0000000000-0000023296.tif',\n",
       " '\\\\users\\\\marianne\\\\documents\\\\data\\\\avhrr_ndvi_monthly\\\\2015-01-0000000000-0000046592.tif',\n",
       " '\\\\users\\\\marianne\\\\documents\\\\data\\\\avhrr_ndvi_monthly\\\\2015-01-0000000000-0000069888.tif',\n",
       " '\\\\users\\\\marianne\\\\documents\\\\data\\\\avhrr_ndvi_monthly\\\\2015-01-0000000000-0000093184.tif',\n",
       " '\\\\users\\\\marianne\\\\documents\\\\data\\\\avhrr_ndvi_monthly\\\\2015-01-0000000000-0000116480.tif',\n",
       " '\\\\users\\\\marianne\\\\documents\\\\data\\\\avhrr_ndvi_monthly\\\\2015-01-0000000000-0000139776.tif',\n",
       " '\\\\users\\\\marianne\\\\documents\\\\data\\\\avhrr_ndvi_monthly\\\\2015-01-0000000000-0000163072.tif',\n",
       " '\\\\users\\\\marianne\\\\documents\\\\data\\\\avhrr_ndvi_monthly\\\\2015-01-0000000000-0000186368.tif',\n",
       " '\\\\users\\\\marianne\\\\documents\\\\data\\\\avhrr_ndvi_monthly\\\\2015-01-0000000000-0000209664.tif',\n",
       " '\\\\users\\\\marianne\\\\documents\\\\data\\\\avhrr_ndvi_monthly\\\\2015-01-0000000000-0000232960.tif',\n",
       " '\\\\users\\\\marianne\\\\documents\\\\data\\\\avhrr_ndvi_monthly\\\\2015-01-0000000000-0000256256.tif',\n",
       " '\\\\users\\\\marianne\\\\documents\\\\data\\\\avhrr_ndvi_monthly\\\\2015-01-0000000000-0000279552.tif',\n",
       " '\\\\users\\\\marianne\\\\documents\\\\data\\\\avhrr_ndvi_monthly\\\\2015-01-0000000000-0000302848.tif',\n",
       " '\\\\users\\\\marianne\\\\documents\\\\data\\\\avhrr_ndvi_monthly\\\\2015-01-0000000000-0000326144.tif']"
      ]
     },
     "metadata": {},
     "execution_count": 27
    }
   ],
   "metadata": {}
  },
  {
   "cell_type": "code",
   "execution_count": 28,
   "source": [
    "files_string = \" \".join(files_to_mosaic)\r\n",
    "print(files_string)"
   ],
   "outputs": [
    {
     "output_type": "stream",
     "name": "stdout",
     "text": [
      "\\users\\marianne\\documents\\data\\avhrr_ndvi_monthly\\2015-01-0000000000-0000000000.tif \\users\\marianne\\documents\\data\\avhrr_ndvi_monthly\\2015-01-0000000000-0000023296.tif \\users\\marianne\\documents\\data\\avhrr_ndvi_monthly\\2015-01-0000000000-0000046592.tif \\users\\marianne\\documents\\data\\avhrr_ndvi_monthly\\2015-01-0000000000-0000069888.tif \\users\\marianne\\documents\\data\\avhrr_ndvi_monthly\\2015-01-0000000000-0000093184.tif \\users\\marianne\\documents\\data\\avhrr_ndvi_monthly\\2015-01-0000000000-0000116480.tif \\users\\marianne\\documents\\data\\avhrr_ndvi_monthly\\2015-01-0000000000-0000139776.tif \\users\\marianne\\documents\\data\\avhrr_ndvi_monthly\\2015-01-0000000000-0000163072.tif \\users\\marianne\\documents\\data\\avhrr_ndvi_monthly\\2015-01-0000000000-0000186368.tif \\users\\marianne\\documents\\data\\avhrr_ndvi_monthly\\2015-01-0000000000-0000209664.tif \\users\\marianne\\documents\\data\\avhrr_ndvi_monthly\\2015-01-0000000000-0000232960.tif \\users\\marianne\\documents\\data\\avhrr_ndvi_monthly\\2015-01-0000000000-0000256256.tif \\users\\marianne\\documents\\data\\avhrr_ndvi_monthly\\2015-01-0000000000-0000279552.tif \\users\\marianne\\documents\\data\\avhrr_ndvi_monthly\\2015-01-0000000000-0000302848.tif \\users\\marianne\\documents\\data\\avhrr_ndvi_monthly\\2015-01-0000000000-0000326144.tif\n"
     ]
    }
   ],
   "metadata": {}
  },
  {
   "cell_type": "code",
   "execution_count": 35,
   "source": [
    "os.chdir('\\\\users\\\\marianne\\\\documents\\\\data\\\\avhrr_ndvi_monthly')\r\n",
    "command = \"gdal_merge.py -o \\\\users\\\\marianne\\\\documents\\\\data\\\\avhrr_ndvi_monthly\\\\2015-01-all -of gtiff \" + files_string\r\n",
    "print(os.popen(command).read())"
   ],
   "outputs": [
    {
     "output_type": "stream",
     "name": "stdout",
     "text": [
      "\n"
     ]
    }
   ],
   "metadata": {}
  },
  {
   "cell_type": "code",
   "execution_count": 53,
   "source": [
    "glob.glob('\\\\users\\\\marianne\\\\documents\\\\data\\\\avhrr_ndvi_monthly\\\\2015-05*.tif')\r\n"
   ],
   "outputs": [
    {
     "output_type": "execute_result",
     "data": {
      "text/plain": [
       "['\\\\users\\\\marianne\\\\documents\\\\data\\\\avhrr_ndvi_monthly\\\\2015-05-0000000000-0000000000.tif',\n",
       " '\\\\users\\\\marianne\\\\documents\\\\data\\\\avhrr_ndvi_monthly\\\\2015-05-0000000000-0000023296.tif',\n",
       " '\\\\users\\\\marianne\\\\documents\\\\data\\\\avhrr_ndvi_monthly\\\\2015-05-0000000000-0000046592.tif',\n",
       " '\\\\users\\\\marianne\\\\documents\\\\data\\\\avhrr_ndvi_monthly\\\\2015-05-0000000000-0000069888.tif',\n",
       " '\\\\users\\\\marianne\\\\documents\\\\data\\\\avhrr_ndvi_monthly\\\\2015-05-0000000000-0000093184.tif',\n",
       " '\\\\users\\\\marianne\\\\documents\\\\data\\\\avhrr_ndvi_monthly\\\\2015-05-0000000000-0000116480.tif',\n",
       " '\\\\users\\\\marianne\\\\documents\\\\data\\\\avhrr_ndvi_monthly\\\\2015-05-0000000000-0000139776.tif',\n",
       " '\\\\users\\\\marianne\\\\documents\\\\data\\\\avhrr_ndvi_monthly\\\\2015-05-0000000000-0000163072.tif',\n",
       " '\\\\users\\\\marianne\\\\documents\\\\data\\\\avhrr_ndvi_monthly\\\\2015-05-0000000000-0000186368.tif',\n",
       " '\\\\users\\\\marianne\\\\documents\\\\data\\\\avhrr_ndvi_monthly\\\\2015-05-0000000000-0000209664.tif',\n",
       " '\\\\users\\\\marianne\\\\documents\\\\data\\\\avhrr_ndvi_monthly\\\\2015-05-0000000000-0000232960.tif',\n",
       " '\\\\users\\\\marianne\\\\documents\\\\data\\\\avhrr_ndvi_monthly\\\\2015-05-0000000000-0000256256.tif',\n",
       " '\\\\users\\\\marianne\\\\documents\\\\data\\\\avhrr_ndvi_monthly\\\\2015-05-0000000000-0000279552.tif',\n",
       " '\\\\users\\\\marianne\\\\documents\\\\data\\\\avhrr_ndvi_monthly\\\\2015-05-0000000000-0000302848.tif',\n",
       " '\\\\users\\\\marianne\\\\documents\\\\data\\\\avhrr_ndvi_monthly\\\\2015-05-0000000000-0000326144.tif',\n",
       " '\\\\users\\\\marianne\\\\documents\\\\data\\\\avhrr_ndvi_monthly\\\\2015-05-0000023296-0000000000.tif',\n",
       " '\\\\users\\\\marianne\\\\documents\\\\data\\\\avhrr_ndvi_monthly\\\\2015-05-0000023296-0000023296.tif',\n",
       " '\\\\users\\\\marianne\\\\documents\\\\data\\\\avhrr_ndvi_monthly\\\\2015-05-0000023296-0000046592.tif',\n",
       " '\\\\users\\\\marianne\\\\documents\\\\data\\\\avhrr_ndvi_monthly\\\\2015-05-0000023296-0000069888.tif',\n",
       " '\\\\users\\\\marianne\\\\documents\\\\data\\\\avhrr_ndvi_monthly\\\\2015-05-0000023296-0000093184.tif',\n",
       " '\\\\users\\\\marianne\\\\documents\\\\data\\\\avhrr_ndvi_monthly\\\\2015-05-0000023296-0000116480.tif',\n",
       " '\\\\users\\\\marianne\\\\documents\\\\data\\\\avhrr_ndvi_monthly\\\\2015-05-0000023296-0000139776.tif',\n",
       " '\\\\users\\\\marianne\\\\documents\\\\data\\\\avhrr_ndvi_monthly\\\\2015-05-0000023296-0000163072.tif',\n",
       " '\\\\users\\\\marianne\\\\documents\\\\data\\\\avhrr_ndvi_monthly\\\\2015-05-0000023296-0000186368.tif',\n",
       " '\\\\users\\\\marianne\\\\documents\\\\data\\\\avhrr_ndvi_monthly\\\\2015-05-0000023296-0000209664.tif',\n",
       " '\\\\users\\\\marianne\\\\documents\\\\data\\\\avhrr_ndvi_monthly\\\\2015-05-0000023296-0000232960.tif',\n",
       " '\\\\users\\\\marianne\\\\documents\\\\data\\\\avhrr_ndvi_monthly\\\\2015-05-0000023296-0000256256.tif',\n",
       " '\\\\users\\\\marianne\\\\documents\\\\data\\\\avhrr_ndvi_monthly\\\\2015-05-0000023296-0000279552.tif',\n",
       " '\\\\users\\\\marianne\\\\documents\\\\data\\\\avhrr_ndvi_monthly\\\\2015-05-0000023296-0000302848.tif',\n",
       " '\\\\users\\\\marianne\\\\documents\\\\data\\\\avhrr_ndvi_monthly\\\\2015-05-0000023296-0000326144.tif',\n",
       " '\\\\users\\\\marianne\\\\documents\\\\data\\\\avhrr_ndvi_monthly\\\\2015-05-0000046592-0000000000.tif',\n",
       " '\\\\users\\\\marianne\\\\documents\\\\data\\\\avhrr_ndvi_monthly\\\\2015-05-0000046592-0000023296.tif',\n",
       " '\\\\users\\\\marianne\\\\documents\\\\data\\\\avhrr_ndvi_monthly\\\\2015-05-0000046592-0000046592.tif',\n",
       " '\\\\users\\\\marianne\\\\documents\\\\data\\\\avhrr_ndvi_monthly\\\\2015-05-0000046592-0000069888.tif',\n",
       " '\\\\users\\\\marianne\\\\documents\\\\data\\\\avhrr_ndvi_monthly\\\\2015-05-0000046592-0000093184.tif',\n",
       " '\\\\users\\\\marianne\\\\documents\\\\data\\\\avhrr_ndvi_monthly\\\\2015-05-0000046592-0000116480.tif',\n",
       " '\\\\users\\\\marianne\\\\documents\\\\data\\\\avhrr_ndvi_monthly\\\\2015-05-0000046592-0000139776.tif',\n",
       " '\\\\users\\\\marianne\\\\documents\\\\data\\\\avhrr_ndvi_monthly\\\\2015-05-0000046592-0000163072.tif',\n",
       " '\\\\users\\\\marianne\\\\documents\\\\data\\\\avhrr_ndvi_monthly\\\\2015-05-0000046592-0000186368.tif',\n",
       " '\\\\users\\\\marianne\\\\documents\\\\data\\\\avhrr_ndvi_monthly\\\\2015-05-0000046592-0000209664.tif',\n",
       " '\\\\users\\\\marianne\\\\documents\\\\data\\\\avhrr_ndvi_monthly\\\\2015-05-0000046592-0000232960.tif',\n",
       " '\\\\users\\\\marianne\\\\documents\\\\data\\\\avhrr_ndvi_monthly\\\\2015-05-0000046592-0000256256.tif',\n",
       " '\\\\users\\\\marianne\\\\documents\\\\data\\\\avhrr_ndvi_monthly\\\\2015-05-0000046592-0000279552.tif',\n",
       " '\\\\users\\\\marianne\\\\documents\\\\data\\\\avhrr_ndvi_monthly\\\\2015-05-0000046592-0000302848.tif',\n",
       " '\\\\users\\\\marianne\\\\documents\\\\data\\\\avhrr_ndvi_monthly\\\\2015-05-0000046592-0000326144.tif']"
      ]
     },
     "metadata": {},
     "execution_count": 53
    }
   ],
   "metadata": {}
  },
  {
   "cell_type": "code",
   "execution_count": 34,
   "source": [
    "command"
   ],
   "outputs": [
    {
     "output_type": "execute_result",
     "data": {
      "text/plain": [
       "'gdal_merge.py -o \\\\users\\\\marianne\\\\documents\\\\data\\\\avhrr_ndvi_monthly\\\\2015-01-all -of gtiff \\\\users\\\\marianne\\\\documents\\\\data\\\\avhrr_ndvi_monthly\\\\2015-01-0000000000-0000000000.tif \\\\users\\\\marianne\\\\documents\\\\data\\\\avhrr_ndvi_monthly\\\\2015-01-0000000000-0000023296.tif \\\\users\\\\marianne\\\\documents\\\\data\\\\avhrr_ndvi_monthly\\\\2015-01-0000000000-0000046592.tif \\\\users\\\\marianne\\\\documents\\\\data\\\\avhrr_ndvi_monthly\\\\2015-01-0000000000-0000069888.tif \\\\users\\\\marianne\\\\documents\\\\data\\\\avhrr_ndvi_monthly\\\\2015-01-0000000000-0000093184.tif \\\\users\\\\marianne\\\\documents\\\\data\\\\avhrr_ndvi_monthly\\\\2015-01-0000000000-0000116480.tif \\\\users\\\\marianne\\\\documents\\\\data\\\\avhrr_ndvi_monthly\\\\2015-01-0000000000-0000139776.tif \\\\users\\\\marianne\\\\documents\\\\data\\\\avhrr_ndvi_monthly\\\\2015-01-0000000000-0000163072.tif \\\\users\\\\marianne\\\\documents\\\\data\\\\avhrr_ndvi_monthly\\\\2015-01-0000000000-0000186368.tif \\\\users\\\\marianne\\\\documents\\\\data\\\\avhrr_ndvi_monthly\\\\2015-01-0000000000-0000209664.tif \\\\users\\\\marianne\\\\documents\\\\data\\\\avhrr_ndvi_monthly\\\\2015-01-0000000000-0000232960.tif \\\\users\\\\marianne\\\\documents\\\\data\\\\avhrr_ndvi_monthly\\\\2015-01-0000000000-0000256256.tif \\\\users\\\\marianne\\\\documents\\\\data\\\\avhrr_ndvi_monthly\\\\2015-01-0000000000-0000279552.tif \\\\users\\\\marianne\\\\documents\\\\data\\\\avhrr_ndvi_monthly\\\\2015-01-0000000000-0000302848.tif \\\\users\\\\marianne\\\\documents\\\\data\\\\avhrr_ndvi_monthly\\\\2015-01-0000000000-0000326144.tif'"
      ]
     },
     "metadata": {},
     "execution_count": 34
    }
   ],
   "metadata": {}
  },
  {
   "cell_type": "code",
   "execution_count": 73,
   "source": [
    "import rasterio\r\n",
    "dataset = rasterio.open('\\\\users\\\\marianne\\\\documents\\\\data\\\\avhrr_ndvi_monthly\\\\2015-05-0000046592-0000326144.tif')\r\n",
    "raster = '\\\\users\\\\marianne\\\\documents\\\\data\\\\avhrr_ndvi_monthly\\\\2015-05-0000046592-0000326144.tif'\r\n",
    "ds = gdal.Open(raster)"
   ],
   "outputs": [],
   "metadata": {}
  },
  {
   "cell_type": "code",
   "execution_count": null,
   "source": [],
   "outputs": [],
   "metadata": {}
  },
  {
   "cell_type": "code",
   "execution_count": 41,
   "source": [
    "import numpy as np\r\n",
    "from rasterio.plot import show, adjust_band\r\n",
    "show(dataset)  # factor 3 to increase brightness\r\n"
   ],
   "outputs": [
    {
     "output_type": "stream",
     "name": "stderr",
     "text": [
      "C:\\Users\\Marianne\\anaconda3\\envs\\swe\\lib\\site-packages\\matplotlib\\image.py:446: UserWarning: Warning: converting a masked element to nan.\n",
      "  dv = np.float64(self.norm.vmax) - np.float64(self.norm.vmin)\n",
      "C:\\Users\\Marianne\\anaconda3\\envs\\swe\\lib\\site-packages\\matplotlib\\image.py:453: UserWarning: Warning: converting a masked element to nan.\n",
      "  a_min = np.float64(newmin)\n",
      "C:\\Users\\Marianne\\anaconda3\\envs\\swe\\lib\\site-packages\\matplotlib\\image.py:458: UserWarning: Warning: converting a masked element to nan.\n",
      "  a_max = np.float64(newmax)\n"
     ]
    },
    {
     "output_type": "display_data",
     "data": {
      "text/plain": [
       "<Figure size 432x288 with 1 Axes>"
      ],
      "image/svg+xml": "<?xml version=\"1.0\" encoding=\"utf-8\" standalone=\"no\"?>\r\n<!DOCTYPE svg PUBLIC \"-//W3C//DTD SVG 1.1//EN\"\r\n  \"http://www.w3.org/Graphics/SVG/1.1/DTD/svg11.dtd\">\r\n<!-- Created with matplotlib (https://matplotlib.org/) -->\r\n<svg height=\"248.518125pt\" version=\"1.1\" viewBox=\"0 0 258.300853 248.518125\" width=\"258.300853pt\" xmlns=\"http://www.w3.org/2000/svg\" xmlns:xlink=\"http://www.w3.org/1999/xlink\">\r\n <metadata>\r\n  <rdf:RDF xmlns:cc=\"http://creativecommons.org/ns#\" xmlns:dc=\"http://purl.org/dc/elements/1.1/\" xmlns:rdf=\"http://www.w3.org/1999/02/22-rdf-syntax-ns#\">\r\n   <cc:Work>\r\n    <dc:type rdf:resource=\"http://purl.org/dc/dcmitype/StillImage\"/>\r\n    <dc:date>2021-08-12T10:44:41.557847</dc:date>\r\n    <dc:format>image/svg+xml</dc:format>\r\n    <dc:creator>\r\n     <cc:Agent>\r\n      <dc:title>Matplotlib v3.3.4, https://matplotlib.org/</dc:title>\r\n     </cc:Agent>\r\n    </dc:creator>\r\n   </cc:Work>\r\n  </rdf:RDF>\r\n </metadata>\r\n <defs>\r\n  <style type=\"text/css\">*{stroke-linecap:butt;stroke-linejoin:round;}</style>\r\n </defs>\r\n <g id=\"figure_1\">\r\n  <g id=\"patch_1\">\r\n   <path d=\"M 0 248.518125 \r\nL 258.300853 248.518125 \r\nL 258.300853 0 \r\nL 0 0 \r\nz\r\n\" style=\"fill:none;\"/>\r\n  </g>\r\n  <g id=\"axes_1\">\r\n   <g id=\"patch_2\">\r\n    <path d=\"M 26.925 224.64 \r\nL 244.365 224.64 \r\nL 244.365 7.2 \r\nL 26.925 7.2 \r\nz\r\n\" style=\"fill:#ffffff;\"/>\r\n   </g>\r\n   <g clip-path=\"url(#pc74ecd4d27)\">\r\n    <image height=\"218\" id=\"image462899ee8e\" transform=\"scale(1 -1)translate(0 -218)\" width=\"218\" x=\"26.925\" xlink:href=\"data:image/png;base64,\r\niVBORw0KGgoAAAANSUhEUgAAANoAAADaCAYAAADAHVzbAAAAz0lEQVR4nO3BAQ0AAADCoPdPbQ43oAAAAAAAAAAAAAAAAAAAAAAAAAAAAAAAAAAAAAAAAAAAAAAAAAAAAAAAAAAAAAAAAAAAAAAAAAAAAAAAAAAAAAAAAAAAAAAAAAAAAAAAAAAAAAAAAAAAAAAAAAAAAAAAAAAAAAAAAAAAAAAAAAAAAAAAAAAAAAAAAAAAAAAAAAAAAAAAAAAAAAAAAAAAAAAAAAAAAAAAAAAAAAAAAAAAAAAAAAAAAAAAAAAAAAAAAAAAAAAAAAAAAAD4MOeIAAH5lAYlAAAAAElFTkSuQmCC\" y=\"-6.64\"/>\r\n   </g>\r\n   <g id=\"matplotlib.axis_1\">\r\n    <g id=\"xtick_1\">\r\n     <g id=\"line2d_1\">\r\n      <defs>\r\n       <path d=\"M 0 0 \r\nL 0 3.5 \r\n\" id=\"m163c11ca4e\" style=\"stroke:#000000;stroke-width:0.8;\"/>\r\n      </defs>\r\n      <g>\r\n       <use style=\"stroke:#000000;stroke-width:0.8;\" x=\"33.750526\" xlink:href=\"#m163c11ca4e\" y=\"224.64\"/>\r\n      </g>\r\n     </g>\r\n     <g id=\"text_1\">\r\n      <!-- 259 -->\r\n      <g transform=\"translate(24.206776 239.238437)scale(0.1 -0.1)\">\r\n       <defs>\r\n        <path d=\"M 19.1875 8.296875 \r\nL 53.609375 8.296875 \r\nL 53.609375 0 \r\nL 7.328125 0 \r\nL 7.328125 8.296875 \r\nQ 12.9375 14.109375 22.625 23.890625 \r\nQ 32.328125 33.6875 34.8125 36.53125 \r\nQ 39.546875 41.84375 41.421875 45.53125 \r\nQ 43.3125 49.21875 43.3125 52.78125 \r\nQ 43.3125 58.59375 39.234375 62.25 \r\nQ 35.15625 65.921875 28.609375 65.921875 \r\nQ 23.96875 65.921875 18.8125 64.3125 \r\nQ 13.671875 62.703125 7.8125 59.421875 \r\nL 7.8125 69.390625 \r\nQ 13.765625 71.78125 18.9375 73 \r\nQ 24.125 74.21875 28.421875 74.21875 \r\nQ 39.75 74.21875 46.484375 68.546875 \r\nQ 53.21875 62.890625 53.21875 53.421875 \r\nQ 53.21875 48.921875 51.53125 44.890625 \r\nQ 49.859375 40.875 45.40625 35.40625 \r\nQ 44.1875 33.984375 37.640625 27.21875 \r\nQ 31.109375 20.453125 19.1875 8.296875 \r\nz\r\n\" id=\"DejaVuSans-50\"/>\r\n        <path d=\"M 10.796875 72.90625 \r\nL 49.515625 72.90625 \r\nL 49.515625 64.59375 \r\nL 19.828125 64.59375 \r\nL 19.828125 46.734375 \r\nQ 21.96875 47.46875 24.109375 47.828125 \r\nQ 26.265625 48.1875 28.421875 48.1875 \r\nQ 40.625 48.1875 47.75 41.5 \r\nQ 54.890625 34.8125 54.890625 23.390625 \r\nQ 54.890625 11.625 47.5625 5.09375 \r\nQ 40.234375 -1.421875 26.90625 -1.421875 \r\nQ 22.3125 -1.421875 17.546875 -0.640625 \r\nQ 12.796875 0.140625 7.71875 1.703125 \r\nL 7.71875 11.625 \r\nQ 12.109375 9.234375 16.796875 8.0625 \r\nQ 21.484375 6.890625 26.703125 6.890625 \r\nQ 35.15625 6.890625 40.078125 11.328125 \r\nQ 45.015625 15.765625 45.015625 23.390625 \r\nQ 45.015625 31 40.078125 35.4375 \r\nQ 35.15625 39.890625 26.703125 39.890625 \r\nQ 22.75 39.890625 18.8125 39.015625 \r\nQ 14.890625 38.140625 10.796875 36.28125 \r\nz\r\n\" id=\"DejaVuSans-53\"/>\r\n        <path d=\"M 10.984375 1.515625 \r\nL 10.984375 10.5 \r\nQ 14.703125 8.734375 18.5 7.8125 \r\nQ 22.3125 6.890625 25.984375 6.890625 \r\nQ 35.75 6.890625 40.890625 13.453125 \r\nQ 46.046875 20.015625 46.78125 33.40625 \r\nQ 43.953125 29.203125 39.59375 26.953125 \r\nQ 35.25 24.703125 29.984375 24.703125 \r\nQ 19.046875 24.703125 12.671875 31.3125 \r\nQ 6.296875 37.9375 6.296875 49.421875 \r\nQ 6.296875 60.640625 12.9375 67.421875 \r\nQ 19.578125 74.21875 30.609375 74.21875 \r\nQ 43.265625 74.21875 49.921875 64.515625 \r\nQ 56.59375 54.828125 56.59375 36.375 \r\nQ 56.59375 19.140625 48.40625 8.859375 \r\nQ 40.234375 -1.421875 26.421875 -1.421875 \r\nQ 22.703125 -1.421875 18.890625 -0.6875 \r\nQ 15.09375 0.046875 10.984375 1.515625 \r\nz\r\nM 30.609375 32.421875 \r\nQ 37.25 32.421875 41.125 36.953125 \r\nQ 45.015625 41.5 45.015625 49.421875 \r\nQ 45.015625 57.28125 41.125 61.84375 \r\nQ 37.25 66.40625 30.609375 66.40625 \r\nQ 23.96875 66.40625 20.09375 61.84375 \r\nQ 16.21875 57.28125 16.21875 49.421875 \r\nQ 16.21875 41.5 20.09375 36.953125 \r\nQ 23.96875 32.421875 30.609375 32.421875 \r\nz\r\n\" id=\"DejaVuSans-57\"/>\r\n       </defs>\r\n       <use xlink:href=\"#DejaVuSans-50\"/>\r\n       <use x=\"63.623047\" xlink:href=\"#DejaVuSans-53\"/>\r\n       <use x=\"127.246094\" xlink:href=\"#DejaVuSans-57\"/>\r\n      </g>\r\n     </g>\r\n    </g>\r\n    <g id=\"xtick_2\">\r\n     <g id=\"line2d_2\">\r\n      <g>\r\n       <use style=\"stroke:#000000;stroke-width:0.8;\" x=\"68.384956\" xlink:href=\"#m163c11ca4e\" y=\"224.64\"/>\r\n      </g>\r\n     </g>\r\n     <g id=\"text_2\">\r\n      <!-- 260 -->\r\n      <g transform=\"translate(58.841206 239.238437)scale(0.1 -0.1)\">\r\n       <defs>\r\n        <path d=\"M 33.015625 40.375 \r\nQ 26.375 40.375 22.484375 35.828125 \r\nQ 18.609375 31.296875 18.609375 23.390625 \r\nQ 18.609375 15.53125 22.484375 10.953125 \r\nQ 26.375 6.390625 33.015625 6.390625 \r\nQ 39.65625 6.390625 43.53125 10.953125 \r\nQ 47.40625 15.53125 47.40625 23.390625 \r\nQ 47.40625 31.296875 43.53125 35.828125 \r\nQ 39.65625 40.375 33.015625 40.375 \r\nz\r\nM 52.59375 71.296875 \r\nL 52.59375 62.3125 \r\nQ 48.875 64.0625 45.09375 64.984375 \r\nQ 41.3125 65.921875 37.59375 65.921875 \r\nQ 27.828125 65.921875 22.671875 59.328125 \r\nQ 17.53125 52.734375 16.796875 39.40625 \r\nQ 19.671875 43.65625 24.015625 45.921875 \r\nQ 28.375 48.1875 33.59375 48.1875 \r\nQ 44.578125 48.1875 50.953125 41.515625 \r\nQ 57.328125 34.859375 57.328125 23.390625 \r\nQ 57.328125 12.15625 50.6875 5.359375 \r\nQ 44.046875 -1.421875 33.015625 -1.421875 \r\nQ 20.359375 -1.421875 13.671875 8.265625 \r\nQ 6.984375 17.96875 6.984375 36.375 \r\nQ 6.984375 53.65625 15.1875 63.9375 \r\nQ 23.390625 74.21875 37.203125 74.21875 \r\nQ 40.921875 74.21875 44.703125 73.484375 \r\nQ 48.484375 72.75 52.59375 71.296875 \r\nz\r\n\" id=\"DejaVuSans-54\"/>\r\n        <path d=\"M 31.78125 66.40625 \r\nQ 24.171875 66.40625 20.328125 58.90625 \r\nQ 16.5 51.421875 16.5 36.375 \r\nQ 16.5 21.390625 20.328125 13.890625 \r\nQ 24.171875 6.390625 31.78125 6.390625 \r\nQ 39.453125 6.390625 43.28125 13.890625 \r\nQ 47.125 21.390625 47.125 36.375 \r\nQ 47.125 51.421875 43.28125 58.90625 \r\nQ 39.453125 66.40625 31.78125 66.40625 \r\nz\r\nM 31.78125 74.21875 \r\nQ 44.046875 74.21875 50.515625 64.515625 \r\nQ 56.984375 54.828125 56.984375 36.375 \r\nQ 56.984375 17.96875 50.515625 8.265625 \r\nQ 44.046875 -1.421875 31.78125 -1.421875 \r\nQ 19.53125 -1.421875 13.0625 8.265625 \r\nQ 6.59375 17.96875 6.59375 36.375 \r\nQ 6.59375 54.828125 13.0625 64.515625 \r\nQ 19.53125 74.21875 31.78125 74.21875 \r\nz\r\n\" id=\"DejaVuSans-48\"/>\r\n       </defs>\r\n       <use xlink:href=\"#DejaVuSans-50\"/>\r\n       <use x=\"63.623047\" xlink:href=\"#DejaVuSans-54\"/>\r\n       <use x=\"127.246094\" xlink:href=\"#DejaVuSans-48\"/>\r\n      </g>\r\n     </g>\r\n    </g>\r\n    <g id=\"xtick_3\">\r\n     <g id=\"line2d_3\">\r\n      <g>\r\n       <use style=\"stroke:#000000;stroke-width:0.8;\" x=\"103.019385\" xlink:href=\"#m163c11ca4e\" y=\"224.64\"/>\r\n      </g>\r\n     </g>\r\n     <g id=\"text_3\">\r\n      <!-- 261 -->\r\n      <g transform=\"translate(93.475635 239.238437)scale(0.1 -0.1)\">\r\n       <defs>\r\n        <path d=\"M 12.40625 8.296875 \r\nL 28.515625 8.296875 \r\nL 28.515625 63.921875 \r\nL 10.984375 60.40625 \r\nL 10.984375 69.390625 \r\nL 28.421875 72.90625 \r\nL 38.28125 72.90625 \r\nL 38.28125 8.296875 \r\nL 54.390625 8.296875 \r\nL 54.390625 0 \r\nL 12.40625 0 \r\nz\r\n\" id=\"DejaVuSans-49\"/>\r\n       </defs>\r\n       <use xlink:href=\"#DejaVuSans-50\"/>\r\n       <use x=\"63.623047\" xlink:href=\"#DejaVuSans-54\"/>\r\n       <use x=\"127.246094\" xlink:href=\"#DejaVuSans-49\"/>\r\n      </g>\r\n     </g>\r\n    </g>\r\n    <g id=\"xtick_4\">\r\n     <g id=\"line2d_4\">\r\n      <g>\r\n       <use style=\"stroke:#000000;stroke-width:0.8;\" x=\"137.653815\" xlink:href=\"#m163c11ca4e\" y=\"224.64\"/>\r\n      </g>\r\n     </g>\r\n     <g id=\"text_4\">\r\n      <!-- 262 -->\r\n      <g transform=\"translate(128.110065 239.238437)scale(0.1 -0.1)\">\r\n       <use xlink:href=\"#DejaVuSans-50\"/>\r\n       <use x=\"63.623047\" xlink:href=\"#DejaVuSans-54\"/>\r\n       <use x=\"127.246094\" xlink:href=\"#DejaVuSans-50\"/>\r\n      </g>\r\n     </g>\r\n    </g>\r\n    <g id=\"xtick_5\">\r\n     <g id=\"line2d_5\">\r\n      <g>\r\n       <use style=\"stroke:#000000;stroke-width:0.8;\" x=\"172.288244\" xlink:href=\"#m163c11ca4e\" y=\"224.64\"/>\r\n      </g>\r\n     </g>\r\n     <g id=\"text_5\">\r\n      <!-- 263 -->\r\n      <g transform=\"translate(162.744494 239.238437)scale(0.1 -0.1)\">\r\n       <defs>\r\n        <path d=\"M 40.578125 39.3125 \r\nQ 47.65625 37.796875 51.625 33 \r\nQ 55.609375 28.21875 55.609375 21.1875 \r\nQ 55.609375 10.40625 48.1875 4.484375 \r\nQ 40.765625 -1.421875 27.09375 -1.421875 \r\nQ 22.515625 -1.421875 17.65625 -0.515625 \r\nQ 12.796875 0.390625 7.625 2.203125 \r\nL 7.625 11.71875 \r\nQ 11.71875 9.328125 16.59375 8.109375 \r\nQ 21.484375 6.890625 26.8125 6.890625 \r\nQ 36.078125 6.890625 40.9375 10.546875 \r\nQ 45.796875 14.203125 45.796875 21.1875 \r\nQ 45.796875 27.640625 41.28125 31.265625 \r\nQ 36.765625 34.90625 28.71875 34.90625 \r\nL 20.21875 34.90625 \r\nL 20.21875 43.015625 \r\nL 29.109375 43.015625 \r\nQ 36.375 43.015625 40.234375 45.921875 \r\nQ 44.09375 48.828125 44.09375 54.296875 \r\nQ 44.09375 59.90625 40.109375 62.90625 \r\nQ 36.140625 65.921875 28.71875 65.921875 \r\nQ 24.65625 65.921875 20.015625 65.03125 \r\nQ 15.375 64.15625 9.8125 62.3125 \r\nL 9.8125 71.09375 \r\nQ 15.4375 72.65625 20.34375 73.4375 \r\nQ 25.25 74.21875 29.59375 74.21875 \r\nQ 40.828125 74.21875 47.359375 69.109375 \r\nQ 53.90625 64.015625 53.90625 55.328125 \r\nQ 53.90625 49.265625 50.4375 45.09375 \r\nQ 46.96875 40.921875 40.578125 39.3125 \r\nz\r\n\" id=\"DejaVuSans-51\"/>\r\n       </defs>\r\n       <use xlink:href=\"#DejaVuSans-50\"/>\r\n       <use x=\"63.623047\" xlink:href=\"#DejaVuSans-54\"/>\r\n       <use x=\"127.246094\" xlink:href=\"#DejaVuSans-51\"/>\r\n      </g>\r\n     </g>\r\n    </g>\r\n    <g id=\"xtick_6\">\r\n     <g id=\"line2d_6\">\r\n      <g>\r\n       <use style=\"stroke:#000000;stroke-width:0.8;\" x=\"206.922674\" xlink:href=\"#m163c11ca4e\" y=\"224.64\"/>\r\n      </g>\r\n     </g>\r\n     <g id=\"text_6\">\r\n      <!-- 264 -->\r\n      <g transform=\"translate(197.378924 239.238437)scale(0.1 -0.1)\">\r\n       <defs>\r\n        <path d=\"M 37.796875 64.3125 \r\nL 12.890625 25.390625 \r\nL 37.796875 25.390625 \r\nz\r\nM 35.203125 72.90625 \r\nL 47.609375 72.90625 \r\nL 47.609375 25.390625 \r\nL 58.015625 25.390625 \r\nL 58.015625 17.1875 \r\nL 47.609375 17.1875 \r\nL 47.609375 0 \r\nL 37.796875 0 \r\nL 37.796875 17.1875 \r\nL 4.890625 17.1875 \r\nL 4.890625 26.703125 \r\nz\r\n\" id=\"DejaVuSans-52\"/>\r\n       </defs>\r\n       <use xlink:href=\"#DejaVuSans-50\"/>\r\n       <use x=\"63.623047\" xlink:href=\"#DejaVuSans-54\"/>\r\n       <use x=\"127.246094\" xlink:href=\"#DejaVuSans-52\"/>\r\n      </g>\r\n     </g>\r\n    </g>\r\n    <g id=\"xtick_7\">\r\n     <g id=\"line2d_7\">\r\n      <g>\r\n       <use style=\"stroke:#000000;stroke-width:0.8;\" x=\"241.557103\" xlink:href=\"#m163c11ca4e\" y=\"224.64\"/>\r\n      </g>\r\n     </g>\r\n     <g id=\"text_7\">\r\n      <!-- 265 -->\r\n      <g transform=\"translate(232.013353 239.238437)scale(0.1 -0.1)\">\r\n       <use xlink:href=\"#DejaVuSans-50\"/>\r\n       <use x=\"63.623047\" xlink:href=\"#DejaVuSans-54\"/>\r\n       <use x=\"127.246094\" xlink:href=\"#DejaVuSans-53\"/>\r\n      </g>\r\n     </g>\r\n    </g>\r\n   </g>\r\n   <g id=\"matplotlib.axis_2\">\r\n    <g id=\"ytick_1\">\r\n     <g id=\"line2d_8\">\r\n      <defs>\r\n       <path d=\"M 0 0 \r\nL -3.5 0 \r\n\" id=\"maf2861d562\" style=\"stroke:#000000;stroke-width:0.8;\"/>\r\n      </defs>\r\n      <g>\r\n       <use style=\"stroke:#000000;stroke-width:0.8;\" x=\"26.925\" xlink:href=\"#maf2861d562\" y=\"191.331083\"/>\r\n      </g>\r\n     </g>\r\n     <g id=\"text_8\">\r\n      <!-- 41 -->\r\n      <g transform=\"translate(7.2 195.130302)scale(0.1 -0.1)\">\r\n       <use xlink:href=\"#DejaVuSans-52\"/>\r\n       <use x=\"63.623047\" xlink:href=\"#DejaVuSans-49\"/>\r\n      </g>\r\n     </g>\r\n    </g>\r\n    <g id=\"ytick_2\">\r\n     <g id=\"line2d_9\">\r\n      <g>\r\n       <use style=\"stroke:#000000;stroke-width:0.8;\" x=\"26.925\" xlink:href=\"#maf2861d562\" y=\"156.696654\"/>\r\n      </g>\r\n     </g>\r\n     <g id=\"text_9\">\r\n      <!-- 42 -->\r\n      <g transform=\"translate(7.2 160.495873)scale(0.1 -0.1)\">\r\n       <use xlink:href=\"#DejaVuSans-52\"/>\r\n       <use x=\"63.623047\" xlink:href=\"#DejaVuSans-50\"/>\r\n      </g>\r\n     </g>\r\n    </g>\r\n    <g id=\"ytick_3\">\r\n     <g id=\"line2d_10\">\r\n      <g>\r\n       <use style=\"stroke:#000000;stroke-width:0.8;\" x=\"26.925\" xlink:href=\"#maf2861d562\" y=\"122.062224\"/>\r\n      </g>\r\n     </g>\r\n     <g id=\"text_10\">\r\n      <!-- 43 -->\r\n      <g transform=\"translate(7.2 125.861443)scale(0.1 -0.1)\">\r\n       <use xlink:href=\"#DejaVuSans-52\"/>\r\n       <use x=\"63.623047\" xlink:href=\"#DejaVuSans-51\"/>\r\n      </g>\r\n     </g>\r\n    </g>\r\n    <g id=\"ytick_4\">\r\n     <g id=\"line2d_11\">\r\n      <g>\r\n       <use style=\"stroke:#000000;stroke-width:0.8;\" x=\"26.925\" xlink:href=\"#maf2861d562\" y=\"87.427795\"/>\r\n      </g>\r\n     </g>\r\n     <g id=\"text_11\">\r\n      <!-- 44 -->\r\n      <g transform=\"translate(7.2 91.227014)scale(0.1 -0.1)\">\r\n       <use xlink:href=\"#DejaVuSans-52\"/>\r\n       <use x=\"63.623047\" xlink:href=\"#DejaVuSans-52\"/>\r\n      </g>\r\n     </g>\r\n    </g>\r\n    <g id=\"ytick_5\">\r\n     <g id=\"line2d_12\">\r\n      <g>\r\n       <use style=\"stroke:#000000;stroke-width:0.8;\" x=\"26.925\" xlink:href=\"#maf2861d562\" y=\"52.793366\"/>\r\n      </g>\r\n     </g>\r\n     <g id=\"text_12\">\r\n      <!-- 45 -->\r\n      <g transform=\"translate(7.2 56.592584)scale(0.1 -0.1)\">\r\n       <use xlink:href=\"#DejaVuSans-52\"/>\r\n       <use x=\"63.623047\" xlink:href=\"#DejaVuSans-53\"/>\r\n      </g>\r\n     </g>\r\n    </g>\r\n    <g id=\"ytick_6\">\r\n     <g id=\"line2d_13\">\r\n      <g>\r\n       <use style=\"stroke:#000000;stroke-width:0.8;\" x=\"26.925\" xlink:href=\"#maf2861d562\" y=\"18.158936\"/>\r\n      </g>\r\n     </g>\r\n     <g id=\"text_13\">\r\n      <!-- 46 -->\r\n      <g transform=\"translate(7.2 21.958155)scale(0.1 -0.1)\">\r\n       <use xlink:href=\"#DejaVuSans-52\"/>\r\n       <use x=\"63.623047\" xlink:href=\"#DejaVuSans-54\"/>\r\n      </g>\r\n     </g>\r\n    </g>\r\n   </g>\r\n   <g id=\"patch_3\">\r\n    <path d=\"M 26.925 224.64 \r\nL 26.925 7.2 \r\n\" style=\"fill:none;stroke:#000000;stroke-linecap:square;stroke-linejoin:miter;stroke-width:0.8;\"/>\r\n   </g>\r\n   <g id=\"patch_4\">\r\n    <path d=\"M 244.365 224.64 \r\nL 244.365 7.2 \r\n\" style=\"fill:none;stroke:#000000;stroke-linecap:square;stroke-linejoin:miter;stroke-width:0.8;\"/>\r\n   </g>\r\n   <g id=\"patch_5\">\r\n    <path d=\"M 26.925 224.64 \r\nL 244.365 224.64 \r\n\" style=\"fill:none;stroke:#000000;stroke-linecap:square;stroke-linejoin:miter;stroke-width:0.8;\"/>\r\n   </g>\r\n   <g id=\"patch_6\">\r\n    <path d=\"M 26.925 7.2 \r\nL 244.365 7.2 \r\n\" style=\"fill:none;stroke:#000000;stroke-linecap:square;stroke-linejoin:miter;stroke-width:0.8;\"/>\r\n   </g>\r\n  </g>\r\n </g>\r\n <defs>\r\n  <clipPath id=\"pc74ecd4d27\">\r\n   <rect height=\"217.44\" width=\"217.44\" x=\"26.925\" y=\"7.2\"/>\r\n  </clipPath>\r\n </defs>\r\n</svg>\r\n",
      "image/png": "[encoded data removed]"
     },
     "metadata": {
      "needs_background": "light"
     }
    },
    {
     "output_type": "execute_result",
     "data": {
      "text/plain": [
       "<AxesSubplot:>"
      ]
     },
     "metadata": {},
     "execution_count": 41
    }
   ],
   "metadata": {}
  },
  {
   "cell_type": "code",
   "execution_count": 63,
   "source": [
    "import xarray as xr"
   ],
   "outputs": [],
   "metadata": {}
  },
  {
   "cell_type": "code",
   "execution_count": 112,
   "source": [
    "data = xr.open_rasterio(\"\\\\users\\\\marianne\\\\documents\\\\data\\\\avhrr_ndvi_monthly\\\\2002-06-0000023296-0000209664.tif\")\r\n",
    "# show(data)"
   ],
   "outputs": [],
   "metadata": {}
  },
  {
   "cell_type": "code",
   "execution_count": 110,
   "source": [
    "np.where(~np.isnan(data.values))"
   ],
   "outputs": [
    {
     "output_type": "execute_result",
     "data": {
      "text/plain": [
       "(array([], dtype=int64), array([], dtype=int64), array([], dtype=int64))"
      ]
     },
     "metadata": {},
     "execution_count": 110
    }
   ],
   "metadata": {}
  },
  {
   "cell_type": "code",
   "execution_count": 121,
   "source": [
    "print(data.to_numpy[:,1,1])"
   ],
   "outputs": [
    {
     "output_type": "error",
     "ename": "AttributeError",
     "evalue": "'DataArray' object has no attribute 'to_numpy'",
     "traceback": [
      "\u001b[1;31m---------------------------------------------------------------------------\u001b[0m",
      "\u001b[1;31mAttributeError\u001b[0m                            Traceback (most recent call last)",
      "\u001b[1;32m<ipython-input-121-e2362c0dcbba>\u001b[0m in \u001b[0;36m<module>\u001b[1;34m\u001b[0m\n\u001b[1;32m----> 1\u001b[1;33m \u001b[0mprint\u001b[0m\u001b[1;33m(\u001b[0m\u001b[0mdata\u001b[0m\u001b[1;33m.\u001b[0m\u001b[0mto_numpy\u001b[0m\u001b[1;33m[\u001b[0m\u001b[1;33m:\u001b[0m\u001b[1;33m,\u001b[0m\u001b[1;36m1\u001b[0m\u001b[1;33m,\u001b[0m\u001b[1;36m1\u001b[0m\u001b[1;33m]\u001b[0m\u001b[1;33m)\u001b[0m\u001b[1;33m\u001b[0m\u001b[1;33m\u001b[0m\u001b[0m\n\u001b[0m",
      "\u001b[1;32m~\\anaconda3\\envs\\swe\\lib\\site-packages\\xarray\\core\\common.py\u001b[0m in \u001b[0;36m__getattr__\u001b[1;34m(self, name)\u001b[0m\n\u001b[0;32m    238\u001b[0m                     \u001b[1;32mreturn\u001b[0m \u001b[0msource\u001b[0m\u001b[1;33m[\u001b[0m\u001b[0mname\u001b[0m\u001b[1;33m]\u001b[0m\u001b[1;33m\u001b[0m\u001b[1;33m\u001b[0m\u001b[0m\n\u001b[0;32m    239\u001b[0m         raise AttributeError(\n\u001b[1;32m--> 240\u001b[1;33m             \u001b[1;34m\"{!r} object has no attribute {!r}\"\u001b[0m\u001b[1;33m.\u001b[0m\u001b[0mformat\u001b[0m\u001b[1;33m(\u001b[0m\u001b[0mtype\u001b[0m\u001b[1;33m(\u001b[0m\u001b[0mself\u001b[0m\u001b[1;33m)\u001b[0m\u001b[1;33m.\u001b[0m\u001b[0m__name__\u001b[0m\u001b[1;33m,\u001b[0m \u001b[0mname\u001b[0m\u001b[1;33m)\u001b[0m\u001b[1;33m\u001b[0m\u001b[1;33m\u001b[0m\u001b[0m\n\u001b[0m\u001b[0;32m    241\u001b[0m         )\n\u001b[0;32m    242\u001b[0m \u001b[1;33m\u001b[0m\u001b[0m\n",
      "\u001b[1;31mAttributeError\u001b[0m: 'DataArray' object has no attribute 'to_numpy'"
     ]
    }
   ],
   "metadata": {}
  }
 ],
 "metadata": {
  "orig_nbformat": 4,
  "language_info": {
   "name": "python",
   "version": "3.7.10",
   "mimetype": "text/x-python",
   "codemirror_mode": {
    "name": "ipython",
    "version": 3
   },
   "pygments_lexer": "ipython3",
   "nbconvert_exporter": "python",
   "file_extension": ".py"
  },
  "kernelspec": {
   "name": "python3",
   "display_name": "Python 3.7.10 64-bit ('swe': conda)"
  },
  "interpreter": {
   "hash": "de5d231dad5132826100b9f4984636fcf38463b4e554017da8ead88e76106218"
  }
 },
 "nbformat": 4,
 "nbformat_minor": 2
}
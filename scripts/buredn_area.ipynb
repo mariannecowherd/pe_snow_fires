{
 "cells": [
  {
   "cell_type": "code",
   "execution_count": 1,
   "metadata": {},
   "outputs": [],
   "source": [
    "import numpy as np\n",
    "import matplotlib.pyplot as plt\n",
    "import os, glob\n",
    "import geopandas as gpd\n",
    "import rioxarray as rxr\n",
    "import rasterio\n",
    "from rasterio.plot import show, adjust_band\n",
    "from matplotlib import cm\n",
    "import matplotlib\n",
    "from scipy import stats\n",
    "import datetime\n",
    "from constants import *\n",
    "\n",
    "os.chdir(home_dir)\n",
    "# plt.style.use(home_dir+'stylefile.mplstyle')\n",
    "\n",
    "tmp = []\n",
    "for i in range(len(fire_sn)):\n",
    "    tmp.append(datetime.datetime.strptime(fire_sn['Ig_Date'][i], '%Y-%m-%d'))\n",
    "fire_sn['dt'] = tmp"
   ]
  },
  {
   "cell_type": "code",
   "execution_count": 6,
   "metadata": {},
   "outputs": [
    {
     "name": "stdout",
     "output_type": "stream",
     "text": [
      "/Users/marianne/documents/pe_snow_fires/data/\n"
     ]
    }
   ],
   "source": [
    "print(pe_data_dir)"
   ]
  },
  {
   "cell_type": "code",
   "execution_count": 103,
   "metadata": {},
   "outputs": [],
   "source": [
    "wfigs = gpd.read_file(pe_data_dir + 'WFIGS_Wildland_Fire_Perimeters_Full_History/FH_Perimeter.shp')\n",
    "all_years = gpd.read_file(pe_data_dir + 'Interagency_Fire_Perimeter_History_All_Years/InteragencyFirePerimeterHistory.shp')"
   ]
  },
  {
   "cell_type": "code",
   "execution_count": 77,
   "metadata": {},
   "outputs": [],
   "source": [
    "idxs = sn_wfigs.irwin_Cont.keys()\n",
    "tmp = []\n",
    "for i,x in enumerate(idxs):\n",
    "    tmp.append(x)\n",
    "sn_wfigs['count']=tmp\n",
    "\n"
   ]
  },
  {
   "cell_type": "code",
   "execution_count": 104,
   "metadata": {},
   "outputs": [],
   "source": [
    "sn_allyears = gpd.sjoin(sn_watersheds,all_years)"
   ]
  },
  {
   "cell_type": "code",
   "execution_count": 117,
   "metadata": {},
   "outputs": [
    {
     "data": {
      "text/html": [
       "<div>\n",
       "<style scoped>\n",
       "    .dataframe tbody tr th:only-of-type {\n",
       "        vertical-align: middle;\n",
       "    }\n",
       "\n",
       "    .dataframe tbody tr th {\n",
       "        vertical-align: top;\n",
       "    }\n",
       "\n",
       "    .dataframe thead th {\n",
       "        text-align: right;\n",
       "    }\n",
       "</style>\n",
       "<table border=\"1\" class=\"dataframe\">\n",
       "  <thead>\n",
       "    <tr style=\"text-align: right;\">\n",
       "      <th></th>\n",
       "      <th>tnmid</th>\n",
       "      <th>metasource</th>\n",
       "      <th>sourcedata</th>\n",
       "      <th>sourceorig</th>\n",
       "      <th>sourcefeat</th>\n",
       "      <th>loaddate</th>\n",
       "      <th>gnis_id</th>\n",
       "      <th>areaacres</th>\n",
       "      <th>areasqkm</th>\n",
       "      <th>states</th>\n",
       "      <th>...</th>\n",
       "      <th>UNIT_ID</th>\n",
       "      <th>POO_RESP_I</th>\n",
       "      <th>FEATURE_CA</th>\n",
       "      <th>GIS_ACRES</th>\n",
       "      <th>USER_NAME</th>\n",
       "      <th>SOURCE</th>\n",
       "      <th>AGENCY</th>\n",
       "      <th>FIRE_YEAR_</th>\n",
       "      <th>SHAPE_Leng</th>\n",
       "      <th>SHAPE_Area</th>\n",
       "    </tr>\n",
       "  </thead>\n",
       "  <tbody>\n",
       "    <tr>\n",
       "      <th>0</th>\n",
       "      <td>{5AE4114D-8323-42BB-9F33-8B7C27B16203}</td>\n",
       "      <td>None</td>\n",
       "      <td>None</td>\n",
       "      <td>None</td>\n",
       "      <td>None</td>\n",
       "      <td>2012-06-11</td>\n",
       "      <td>0.0</td>\n",
       "      <td>1198581.0</td>\n",
       "      <td>4850.592025</td>\n",
       "      <td>CA</td>\n",
       "      <td>...</td>\n",
       "      <td>STF</td>\n",
       "      <td>None</td>\n",
       "      <td>Final Wildfire Perimeter</td>\n",
       "      <td>380.170990</td>\n",
       "      <td>None</td>\n",
       "      <td>USFS</td>\n",
       "      <td>USFS</td>\n",
       "      <td>1915.0</td>\n",
       "      <td>0.054096</td>\n",
       "      <td>0.000158</td>\n",
       "    </tr>\n",
       "    <tr>\n",
       "      <th>0</th>\n",
       "      <td>{5AE4114D-8323-42BB-9F33-8B7C27B16203}</td>\n",
       "      <td>None</td>\n",
       "      <td>None</td>\n",
       "      <td>None</td>\n",
       "      <td>None</td>\n",
       "      <td>2012-06-11</td>\n",
       "      <td>0.0</td>\n",
       "      <td>1198581.0</td>\n",
       "      <td>4850.592025</td>\n",
       "      <td>CA</td>\n",
       "      <td>...</td>\n",
       "      <td>STF</td>\n",
       "      <td>None</td>\n",
       "      <td>Final Wildfire Perimeter</td>\n",
       "      <td>5.798000</td>\n",
       "      <td>None</td>\n",
       "      <td>USFS</td>\n",
       "      <td>USFS</td>\n",
       "      <td>1960.0</td>\n",
       "      <td>0.006032</td>\n",
       "      <td>0.000002</td>\n",
       "    </tr>\n",
       "    <tr>\n",
       "      <th>0</th>\n",
       "      <td>{5AE4114D-8323-42BB-9F33-8B7C27B16203}</td>\n",
       "      <td>None</td>\n",
       "      <td>None</td>\n",
       "      <td>None</td>\n",
       "      <td>None</td>\n",
       "      <td>2012-06-11</td>\n",
       "      <td>0.0</td>\n",
       "      <td>1198581.0</td>\n",
       "      <td>4850.592025</td>\n",
       "      <td>CA</td>\n",
       "      <td>...</td>\n",
       "      <td>STF</td>\n",
       "      <td>None</td>\n",
       "      <td>Final Wildfire Perimeter</td>\n",
       "      <td>2116.257080</td>\n",
       "      <td>None</td>\n",
       "      <td>USFS</td>\n",
       "      <td>USFS</td>\n",
       "      <td>1960.0</td>\n",
       "      <td>0.161393</td>\n",
       "      <td>0.000879</td>\n",
       "    </tr>\n",
       "    <tr>\n",
       "      <th>0</th>\n",
       "      <td>{5AE4114D-8323-42BB-9F33-8B7C27B16203}</td>\n",
       "      <td>None</td>\n",
       "      <td>None</td>\n",
       "      <td>None</td>\n",
       "      <td>None</td>\n",
       "      <td>2012-06-11</td>\n",
       "      <td>0.0</td>\n",
       "      <td>1198581.0</td>\n",
       "      <td>4850.592025</td>\n",
       "      <td>CA</td>\n",
       "      <td>...</td>\n",
       "      <td>STF</td>\n",
       "      <td>None</td>\n",
       "      <td>Final Wildfire Perimeter</td>\n",
       "      <td>185.998993</td>\n",
       "      <td>None</td>\n",
       "      <td>USFS</td>\n",
       "      <td>USFS</td>\n",
       "      <td>1918.0</td>\n",
       "      <td>0.039244</td>\n",
       "      <td>0.000077</td>\n",
       "    </tr>\n",
       "    <tr>\n",
       "      <th>0</th>\n",
       "      <td>{5AE4114D-8323-42BB-9F33-8B7C27B16203}</td>\n",
       "      <td>None</td>\n",
       "      <td>None</td>\n",
       "      <td>None</td>\n",
       "      <td>None</td>\n",
       "      <td>2012-06-11</td>\n",
       "      <td>0.0</td>\n",
       "      <td>1198581.0</td>\n",
       "      <td>4850.592025</td>\n",
       "      <td>CA</td>\n",
       "      <td>...</td>\n",
       "      <td>STF</td>\n",
       "      <td>None</td>\n",
       "      <td>Final Wildfire Perimeter</td>\n",
       "      <td>79.393997</td>\n",
       "      <td>None</td>\n",
       "      <td>USFS</td>\n",
       "      <td>USFS</td>\n",
       "      <td>1916.0</td>\n",
       "      <td>0.021942</td>\n",
       "      <td>0.000033</td>\n",
       "    </tr>\n",
       "    <tr>\n",
       "      <th>...</th>\n",
       "      <td>...</td>\n",
       "      <td>...</td>\n",
       "      <td>...</td>\n",
       "      <td>...</td>\n",
       "      <td>...</td>\n",
       "      <td>...</td>\n",
       "      <td>...</td>\n",
       "      <td>...</td>\n",
       "      <td>...</td>\n",
       "      <td>...</td>\n",
       "      <td>...</td>\n",
       "      <td>...</td>\n",
       "      <td>...</td>\n",
       "      <td>...</td>\n",
       "      <td>...</td>\n",
       "      <td>...</td>\n",
       "      <td>...</td>\n",
       "      <td>...</td>\n",
       "      <td>...</td>\n",
       "      <td>...</td>\n",
       "      <td>...</td>\n",
       "    </tr>\n",
       "    <tr>\n",
       "      <th>39</th>\n",
       "      <td>{919052BE-A14A-457C-8C3B-F4A816379391}</td>\n",
       "      <td>None</td>\n",
       "      <td>None</td>\n",
       "      <td>None</td>\n",
       "      <td>None</td>\n",
       "      <td>2012-06-11</td>\n",
       "      <td>0.0</td>\n",
       "      <td>775359.0</td>\n",
       "      <td>3137.835335</td>\n",
       "      <td>CA</td>\n",
       "      <td>...</td>\n",
       "      <td>PNF</td>\n",
       "      <td>None</td>\n",
       "      <td>Final Wildfire Perimeter</td>\n",
       "      <td>243.386002</td>\n",
       "      <td>None</td>\n",
       "      <td>USFS</td>\n",
       "      <td>USFS</td>\n",
       "      <td>1932.0</td>\n",
       "      <td>0.043458</td>\n",
       "      <td>0.000103</td>\n",
       "    </tr>\n",
       "    <tr>\n",
       "      <th>39</th>\n",
       "      <td>{919052BE-A14A-457C-8C3B-F4A816379391}</td>\n",
       "      <td>None</td>\n",
       "      <td>None</td>\n",
       "      <td>None</td>\n",
       "      <td>None</td>\n",
       "      <td>2012-06-11</td>\n",
       "      <td>0.0</td>\n",
       "      <td>775359.0</td>\n",
       "      <td>3137.835335</td>\n",
       "      <td>CA</td>\n",
       "      <td>...</td>\n",
       "      <td>BTU</td>\n",
       "      <td>None</td>\n",
       "      <td>Final Wildfire Perimeter</td>\n",
       "      <td>1834.890015</td>\n",
       "      <td>None</td>\n",
       "      <td>USFS</td>\n",
       "      <td>USFS</td>\n",
       "      <td>2000.0</td>\n",
       "      <td>0.187692</td>\n",
       "      <td>0.000780</td>\n",
       "    </tr>\n",
       "    <tr>\n",
       "      <th>39</th>\n",
       "      <td>{919052BE-A14A-457C-8C3B-F4A816379391}</td>\n",
       "      <td>None</td>\n",
       "      <td>None</td>\n",
       "      <td>None</td>\n",
       "      <td>None</td>\n",
       "      <td>2012-06-11</td>\n",
       "      <td>0.0</td>\n",
       "      <td>775359.0</td>\n",
       "      <td>3137.835335</td>\n",
       "      <td>CA</td>\n",
       "      <td>...</td>\n",
       "      <td>CABTU</td>\n",
       "      <td>None</td>\n",
       "      <td>Wildfire</td>\n",
       "      <td>1834.890015</td>\n",
       "      <td>None</td>\n",
       "      <td>CalFire FRAP</td>\n",
       "      <td>CDF</td>\n",
       "      <td>2000.0</td>\n",
       "      <td>0.187692</td>\n",
       "      <td>0.000780</td>\n",
       "    </tr>\n",
       "    <tr>\n",
       "      <th>39</th>\n",
       "      <td>{919052BE-A14A-457C-8C3B-F4A816379391}</td>\n",
       "      <td>None</td>\n",
       "      <td>None</td>\n",
       "      <td>None</td>\n",
       "      <td>None</td>\n",
       "      <td>2012-06-11</td>\n",
       "      <td>0.0</td>\n",
       "      <td>775359.0</td>\n",
       "      <td>3137.835335</td>\n",
       "      <td>CA</td>\n",
       "      <td>...</td>\n",
       "      <td>PNF</td>\n",
       "      <td>None</td>\n",
       "      <td>Final Wildfire Perimeter</td>\n",
       "      <td>231.035995</td>\n",
       "      <td>None</td>\n",
       "      <td>USFS</td>\n",
       "      <td>USFS</td>\n",
       "      <td>1930.0</td>\n",
       "      <td>0.039716</td>\n",
       "      <td>0.000098</td>\n",
       "    </tr>\n",
       "    <tr>\n",
       "      <th>39</th>\n",
       "      <td>{919052BE-A14A-457C-8C3B-F4A816379391}</td>\n",
       "      <td>None</td>\n",
       "      <td>None</td>\n",
       "      <td>None</td>\n",
       "      <td>None</td>\n",
       "      <td>2012-06-11</td>\n",
       "      <td>0.0</td>\n",
       "      <td>775359.0</td>\n",
       "      <td>3137.835335</td>\n",
       "      <td>CA</td>\n",
       "      <td>...</td>\n",
       "      <td>PNF</td>\n",
       "      <td>None</td>\n",
       "      <td>Final Wildfire Perimeter</td>\n",
       "      <td>334.726013</td>\n",
       "      <td>None</td>\n",
       "      <td>USFS</td>\n",
       "      <td>USFS</td>\n",
       "      <td>1932.0</td>\n",
       "      <td>0.051481</td>\n",
       "      <td>0.000142</td>\n",
       "    </tr>\n",
       "  </tbody>\n",
       "</table>\n",
       "<p>16884 rows × 51 columns</p>\n",
       "</div>"
      ],
      "text/plain": [
       "                                     tnmid metasource sourcedata sourceorig  \\\n",
       "0   {5AE4114D-8323-42BB-9F33-8B7C27B16203}       None       None       None   \n",
       "0   {5AE4114D-8323-42BB-9F33-8B7C27B16203}       None       None       None   \n",
       "0   {5AE4114D-8323-42BB-9F33-8B7C27B16203}       None       None       None   \n",
       "0   {5AE4114D-8323-42BB-9F33-8B7C27B16203}       None       None       None   \n",
       "0   {5AE4114D-8323-42BB-9F33-8B7C27B16203}       None       None       None   \n",
       "..                                     ...        ...        ...        ...   \n",
       "39  {919052BE-A14A-457C-8C3B-F4A816379391}       None       None       None   \n",
       "39  {919052BE-A14A-457C-8C3B-F4A816379391}       None       None       None   \n",
       "39  {919052BE-A14A-457C-8C3B-F4A816379391}       None       None       None   \n",
       "39  {919052BE-A14A-457C-8C3B-F4A816379391}       None       None       None   \n",
       "39  {919052BE-A14A-457C-8C3B-F4A816379391}       None       None       None   \n",
       "\n",
       "   sourcefeat    loaddate  gnis_id  areaacres     areasqkm states  ...  \\\n",
       "0        None  2012-06-11      0.0  1198581.0  4850.592025     CA  ...   \n",
       "0        None  2012-06-11      0.0  1198581.0  4850.592025     CA  ...   \n",
       "0        None  2012-06-11      0.0  1198581.0  4850.592025     CA  ...   \n",
       "0        None  2012-06-11      0.0  1198581.0  4850.592025     CA  ...   \n",
       "0        None  2012-06-11      0.0  1198581.0  4850.592025     CA  ...   \n",
       "..        ...         ...      ...        ...          ...    ...  ...   \n",
       "39       None  2012-06-11      0.0   775359.0  3137.835335     CA  ...   \n",
       "39       None  2012-06-11      0.0   775359.0  3137.835335     CA  ...   \n",
       "39       None  2012-06-11      0.0   775359.0  3137.835335     CA  ...   \n",
       "39       None  2012-06-11      0.0   775359.0  3137.835335     CA  ...   \n",
       "39       None  2012-06-11      0.0   775359.0  3137.835335     CA  ...   \n",
       "\n",
       "   UNIT_ID POO_RESP_I                FEATURE_CA    GIS_ACRES  USER_NAME  \\\n",
       "0      STF       None  Final Wildfire Perimeter   380.170990       None   \n",
       "0      STF       None  Final Wildfire Perimeter     5.798000       None   \n",
       "0      STF       None  Final Wildfire Perimeter  2116.257080       None   \n",
       "0      STF       None  Final Wildfire Perimeter   185.998993       None   \n",
       "0      STF       None  Final Wildfire Perimeter    79.393997       None   \n",
       "..     ...        ...                       ...          ...        ...   \n",
       "39     PNF       None  Final Wildfire Perimeter   243.386002       None   \n",
       "39     BTU       None  Final Wildfire Perimeter  1834.890015       None   \n",
       "39   CABTU       None                  Wildfire  1834.890015       None   \n",
       "39     PNF       None  Final Wildfire Perimeter   231.035995       None   \n",
       "39     PNF       None  Final Wildfire Perimeter   334.726013       None   \n",
       "\n",
       "          SOURCE AGENCY FIRE_YEAR_ SHAPE_Leng SHAPE_Area  \n",
       "0           USFS   USFS     1915.0   0.054096   0.000158  \n",
       "0           USFS   USFS     1960.0   0.006032   0.000002  \n",
       "0           USFS   USFS     1960.0   0.161393   0.000879  \n",
       "0           USFS   USFS     1918.0   0.039244   0.000077  \n",
       "0           USFS   USFS     1916.0   0.021942   0.000033  \n",
       "..           ...    ...        ...        ...        ...  \n",
       "39          USFS   USFS     1932.0   0.043458   0.000103  \n",
       "39          USFS   USFS     2000.0   0.187692   0.000780  \n",
       "39  CalFire FRAP    CDF     2000.0   0.187692   0.000780  \n",
       "39          USFS   USFS     1930.0   0.039716   0.000098  \n",
       "39          USFS   USFS     1932.0   0.051481   0.000142  \n",
       "\n",
       "[16884 rows x 51 columns]"
      ]
     },
     "execution_count": 117,
     "metadata": {},
     "output_type": "execute_result"
    }
   ],
   "source": [
    "sn_allyears"
   ]
  },
  {
   "cell_type": "code",
   "execution_count": 118,
   "metadata": {},
   "outputs": [
    {
     "data": {
      "text/plain": [
       "[<matplotlib.lines.Line2D at 0x15c4f72e0>]"
      ]
     },
     "execution_count": 118,
     "metadata": {},
     "output_type": "execute_result"
    },
    {
     "data": {
      "image/png": "[encoded data removed]",
      "text/plain": [
       "<Figure size 432x288 with 1 Axes>"
      ]
     },
     "metadata": {
      "needs_background": "light"
     },
     "output_type": "display_data"
    }
   ],
   "source": [
    "plt.plot(sn_allyears.FIRE_YEAR,sn_allyears.GIS_ACRES,'o')"
   ]
  },
  {
   "cell_type": "code",
   "execution_count": 91,
   "metadata": {},
   "outputs": [],
   "source": [
    "# sn_wfigs = gpd.sjoin(wfigs,sn_watersheds)\n",
    "tmp = []\n",
    "for i in sn_wfigs.irwin_Cont.keys():\n",
    "    try: tmp.append(datetime.datetime.strptime(sn_wfigs.irwin_Cont[i], '%Y-%m-%d'))\n",
    "    except: tmp.append(np.nan)\n",
    "sn_wfigs['dt'] = tmp"
   ]
  },
  {
   "cell_type": "code",
   "execution_count": 126,
   "metadata": {},
   "outputs": [
    {
     "data": {
      "text/plain": [
       "0       79978\n",
       "1        2814\n",
       "2       34459\n",
       "3        1761\n",
       "4       49588\n",
       "        ...  \n",
       "1017     1089\n",
       "1018     1477\n",
       "1019     3014\n",
       "1020     3014\n",
       "1021    12765\n",
       "Name: BurnBndAc, Length: 1022, dtype: int64"
      ]
     },
     "execution_count": 126,
     "metadata": {},
     "output_type": "execute_result"
    }
   ],
   "source": [
    "fire_sn.BurnBndAc"
   ]
  },
  {
   "cell_type": "code",
   "execution_count": 127,
   "metadata": {},
   "outputs": [
    {
     "data": {
      "text/plain": [
       "[<matplotlib.lines.Line2D at 0x15c90e0d0>]"
      ]
     },
     "execution_count": 127,
     "metadata": {},
     "output_type": "execute_result"
    },
    {
     "data": {
      "image/png": "[encoded data removed]",
      "text/plain": [
       "<Figure size 432x288 with 1 Axes>"
      ]
     },
     "metadata": {
      "needs_background": "light"
     },
     "output_type": "display_data"
    }
   ],
   "source": [
    "fig,ax=plt.subplots()\n",
    "ax.plot(sn_wfigs.dt,sn_wfigs.poly_Acres,'o',color='orange')\n",
    "ax.plot(fire_sn.dt,fire_sn.BurnBndAc,'o',color='blue')"
   ]
  },
  {
   "cell_type": "code",
   "execution_count": 150,
   "metadata": {},
   "outputs": [],
   "source": [
    "vals = fire_sn.dt\n",
    "fire_sn['year'] = [v.year for v in vals]\n",
    "vals = sn_wfigs.dt\n",
    "sn_wfigs['year'] = [v.year for v in vals]"
   ]
  },
  {
   "cell_type": "code",
   "execution_count": 151,
   "metadata": {},
   "outputs": [],
   "source": [
    "yearly_acres = fire_sn.groupby([\"year\"])[\"BurnBndAc\"].sum()\n",
    "yearly_acres_recent = sn_wfigs.groupby(['year'])['poly_Acres'].sum()\n"
   ]
  },
  {
   "cell_type": "code",
   "execution_count": 164,
   "metadata": {},
   "outputs": [],
   "source": [
    "yearly_acres = yearly_acres.append(yearly_acres_recent)\n",
    "km2ac = 0.0040468564224\n",
    "yearly_km = [yearly_acres[i]/km2ac for i in yearly_acres.keys()]"
   ]
  },
  {
   "cell_type": "code",
   "execution_count": 210,
   "metadata": {},
   "outputs": [],
   "source": [
    "yearly_acres_list = yearly_acres.tolist()\n",
    "yearly_acres_list = yearly_acres_list[0:37]\n",
    "ac2km = 0.0040468564224\n",
    "\n",
    "yearly_km_list = [v*ac2km for v in yearly_acres_list]"
   ]
  },
  {
   "cell_type": "code",
   "execution_count": 211,
   "metadata": {},
   "outputs": [
    {
     "data": {
      "text/plain": [
       "Text(0.5, 0, 'year')"
      ]
     },
     "execution_count": 211,
     "metadata": {},
     "output_type": "execute_result"
    },
    {
     "data": {
      "image/png": "[encoded data removed]",
      "text/plain": [
       "<Figure size 432x288 with 1 Axes>"
      ]
     },
     "metadata": {
      "needs_background": "light"
     },
     "output_type": "display_data"
    },
    {
     "data": {
      "image/png": "[encoded data removed]",
      "text/plain": [
       "<Figure size 432x288 with 1 Axes>"
      ]
     },
     "metadata": {
      "needs_background": "light"
     },
     "output_type": "display_data"
    }
   ],
   "source": [
    "years = range(1985,2022)\n",
    "fig,ax= plt.subplots()\n",
    "ax.bar(years,yearly_acres_list[0:len(years)])\n",
    "#  ax.bar(yearly_acres_recent.keys(),[yearly_acres_recent[i] for i in yearly_acres_recent.keys()])\n",
    "ax.set_ylabel('area burned [acres]')\n",
    "ax.set_xlabel('year')\n",
    "# x.text(1990,4e6,'Sierra Nevada Only')\n",
    "\n",
    "fig,ax= plt.subplots()\n",
    "ax.bar(years,yearly_km_list[0:len(years)])\n",
    "#  ax.bar(yearly_acres_recent.keys(),[yearly_acres_recent[i] for i in yearly_acres_recent.keys()])\n",
    "ax.set_ylabel('area burned [km^2]')\n",
    "ax.set_xlabel('year')\n"
   ]
  },
  {
   "cell_type": "code",
   "execution_count": null,
   "metadata": {},
   "outputs": [],
   "source": []
  },
  {
   "cell_type": "code",
   "execution_count": 146,
   "metadata": {},
   "outputs": [
    {
     "data": {
      "text/plain": [
       "<AxesSubplot:>"
      ]
     },
     "execution_count": 146,
     "metadata": {},
     "output_type": "execute_result"
    },
    {
     "data": {
      "image/png": "[encoded data removed]",
      "text/plain": [
       "<Figure size 432x288 with 1 Axes>"
      ]
     },
     "metadata": {
      "needs_background": "light"
     },
     "output_type": "display_data"
    }
   ],
   "source": [
    "fig,ax= plt.subplots()\n",
    "sn_wfigs.plot(ax=ax)"
   ]
  },
  {
   "cell_type": "code",
   "execution_count": null,
   "metadata": {},
   "outputs": [],
   "source": []
  },
  {
   "cell_type": "code",
   "execution_count": 147,
   "metadata": {},
   "outputs": [
    {
     "data": {
      "text/plain": [
       "Index(['Event_ID', 'irwinID', 'Incid_Name', 'Incid_Type', 'Map_ID', 'Map_Prog',\n",
       "       'Asmnt_Type', 'BurnBndAc', 'BurnBndLat', 'BurnBndLon', 'Ig_Date',\n",
       "       'Pre_ID', 'Post_ID', 'Perim_ID', 'dNBR_offst', 'dNBR_stdDv', 'NoData_T',\n",
       "       'IncGreen_T', 'Low_T', 'Mod_T', 'High_T', 'Comment', 'index_righ',\n",
       "       'tnmid', 'metasource', 'sourcedata', 'sourceorig', 'sourcefeat',\n",
       "       'loaddate', 'gnis_id', 'areaacres', 'areasqkm', 'states', 'huc8',\n",
       "       'name', 'shape_star', 'shape_stle', 'index_ri_1', 'US_L3CODE',\n",
       "       'US_L3NAME', 'NA_L3CODE', 'NA_L3NAME', 'NA_L2CODE', 'NA_L2NAME',\n",
       "       'NA_L1CODE', 'NA_L1NAME', 'STATE_NAME', 'EPA_REGION', 'L3_KEY',\n",
       "       'L2_KEY', 'L1_KEY', 'geometry', 'dt', 'year'],\n",
       "      dtype='object')"
      ]
     },
     "execution_count": 147,
     "metadata": {},
     "output_type": "execute_result"
    }
   ],
   "source": [
    "fire_sn.keys()"
   ]
  },
  {
   "cell_type": "code",
   "execution_count": null,
   "metadata": {},
   "outputs": [],
   "source": []
  }
 ],
 "metadata": {
  "interpreter": {
   "hash": "d805da05da2befce44113386a6b383db81baed553e6363c924410f071efc3371"
  },
  "kernelspec": {
   "display_name": "Python 3.9.6 64-bit ('earthenv': conda)",
   "language": "python",
   "name": "python3"
  },
  "language_info": {
   "codemirror_mode": {
    "name": "ipython",
    "version": 3
   },
   "file_extension": ".py",
   "mimetype": "text/x-python",
   "name": "python",
   "nbconvert_exporter": "python",
   "pygments_lexer": "ipython3",
   "version": "3.9.6"
  },
  "orig_nbformat": 4
 },
 "nbformat": 4,
 "nbformat_minor": 2
}

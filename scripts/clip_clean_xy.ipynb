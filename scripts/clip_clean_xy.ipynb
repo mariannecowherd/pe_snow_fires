{
 "cells": [
  {
   "cell_type": "code",
   "execution_count": 10,
   "metadata": {},
   "outputs": [],
   "source": [
    "from glob import glob\n",
    "import os\n",
    "\n",
    "import numpy as np\n",
    "import numpy.ma as ma\n",
    "import matplotlib.pyplot as plt\n",
    "from matplotlib import cm\n",
    "import geopandas as gpd\n",
    "import rioxarray as rxr\n",
    "import xarray as xr\n",
    "from rasterio.plot import plotting_extent\n",
    "from shapely.geometry import box\n",
    "from shapely.geometry import Polygon\n",
    "from shapely.geometry import MultiPolygon\n",
    "import scipy.io\n",
    "from scipy.io import loadmat\n",
    "import pandas as pd\n",
    "import h5py\n",
    "import geopandas as gpd\n",
    "# optional - turn off warnings\n",
    "import warnings\n",
    "warnings.filterwarnings('ignore')\n",
    "\n",
    "os.chdir('/users/marianne/documents/pe_snow_fires/')"
   ]
  },
  {
   "cell_type": "code",
   "execution_count": 4,
   "metadata": {},
   "outputs": [],
   "source": [
    "#### define functions\n",
    "\n",
    "def distance(P1, P2):\n",
    "    return ((P1[0] - P2[0])**2 + (P1[1] - P2[1])**2) ** 0.5\n",
    "\n",
    "\n",
    "def optimized_path(coords, start=None):\n",
    "    if start is None:\n",
    "        start = coords[0]\n",
    "    pass_by = coords\n",
    "    path = [start]\n",
    "    pass_by.remove(start)\n",
    "    while pass_by:\n",
    "        nearest = min(pass_by, key=lambda x: distance(path[-1], x))\n",
    "        path.append(nearest)\n",
    "        pass_by.remove(nearest)\n",
    "    return path\n",
    "\n",
    "import numpy as np\n",
    "from scipy.signal import savgol_filter\n",
    "from sklearn.decomposition import PCA\n",
    "\n",
    "from scipy import interpolate\n",
    "\n",
    "def XYclean(x,y): \n",
    "\n",
    "    xy = np.concatenate((x.reshape(-1,1), y.reshape(-1,1)), axis=1)     \n",
    "\n",
    "    # make PCA object\n",
    "    pca = PCA(2)\n",
    "    # fit on data\n",
    "    pca.fit(xy)\n",
    "    \n",
    "    #transform into pca space   \n",
    "    xypca = pca.transform(xy) \n",
    "    newx = xypca[:,0]\n",
    "    newy = xypca[:,1]\n",
    "\n",
    "    #sort\n",
    "    indexSort = np.argsort(x)\n",
    "    newx = newx[indexSort]\n",
    "    newy = newy[indexSort]\n",
    "\n",
    "    #add some more points (optional)\n",
    "    f = interpolate.interp1d(newx, newy, kind='linear')        \n",
    "    newX=np.linspace(np.min(newx), np.max(newx), 100)\n",
    "    newY = f(newX)            \n",
    "\n",
    "    #smooth with a filter (optional)\n",
    "    window = 43\n",
    "    newY = savgol_filter(newY, window, 2)\n",
    "\n",
    "    #return back to old coordinates\n",
    "    xyclean = pca.inverse_transform(np.concatenate((newX.reshape(-1,1), newY.reshape(-1,1)), axis=1) )\n",
    "    xc=xyclean[:,0]\n",
    "    yc = xyclean[:,1]\n",
    "\n",
    "    return xc, yc\n",
    "\n",
    "\n",
    "def order_points(points, ind):\n",
    "    points_new = [ points.pop(ind) ]  # initialize a new list of points with the known first point\n",
    "    pcurr      = points_new[-1]       # initialize the current point (as the known point)\n",
    "    while len(points)>0:\n",
    "        d      = np.linalg.norm(np.array(points) - np.array(pcurr), axis=1)  # distances between pcurr and all other remaining points\n",
    "        ind    = d.argmin()                   # index of the closest point\n",
    "        points_new.append( points.pop(ind) )  # append the closest point to points_new\n",
    "        pcurr  = points_new[-1]               # update the current point\n",
    "    return points_new\n"
   ]
  },
  {
   "cell_type": "code",
   "execution_count": 11,
   "metadata": {},
   "outputs": [],
   "source": [
    "filepath = '/users/marianne/documents/pe_snow_fires/data/watershed_masks/'\n",
    "files = os.listdir(filepath)\n",
    "tmp_list=[]\n",
    "outlines_list=[]\n",
    "for f in files[0:1]:\n",
    "    try:\n",
    "        mask = h5py.File(filepath + f)\n",
    "        name = f.split('_watershed')[0]\n",
    "        outline = mask[name+'_watershed_outline_coords']\n",
    "        xs =outline['x'][0]\n",
    "        ys = outline['y'][0]\n",
    "        new_xs, new_ys = XYclean(xs,ys)\n",
    "\n",
    "        # find the leftmost point:\n",
    "        ind    = xs.argmin()\n",
    "\n",
    "        # assemble the x and y coordinates into a list of (x,y) tuples:\n",
    "        points = [(xx,yy)  for xx,yy in zip(xs,ys)]\n",
    "\n",
    "        # order the points based on the known first point:\n",
    "        points_new = order_points(points, ind)\n",
    "        xn,yn  = np.array(points_new).T\n",
    "\n",
    "        poly = Polygon(zip(xn,yn))\n",
    "        tmp_list.append({'geometry': poly,'name':name})\n",
    "    except:\n",
    "        continue\n",
    "'''\n",
    "#just for the cosumnes because the matlab file is a different version\n",
    "mask = loadmat(filepath + 'cosumnes_watershed_mask.mat')\n",
    "name = 'cosumnes'\n",
    "outline = mask[name+'_watershed_outline_coords']\n",
    "xs = outline['x'][0][0]\n",
    "ys = outline['y'][0][0]\n",
    "\n",
    "new_xs, new_ys = XYclean(xs,ys)\n",
    "# find the leftmost point:\n",
    "ind    = xs.argmin()\n",
    "# assemble the x and y coordinates into a list of (x,y) tuples:\n",
    "points = [(xx,yy)  for xx,yy in zip(xs,ys)]\n",
    "# order the points based on the known first point:\n",
    "points_new = order_points(points, ind)\n",
    "xn,yn  = np.array(points_new).T\n",
    "poly = Polygon(zip(xn,yn))\n",
    "tmp_list.append({'geometry': poly,'name':name})\n",
    "'''\n",
    "gdf = gpd.GeoDataFrame(tmp_list,crs=4326)\n",
    "gdf.to_file('watersheds.gdf')"
   ]
  },
  {
   "cell_type": "code",
   "execution_count": 12,
   "metadata": {},
   "outputs": [],
   "source": [
    "watersheds=gpd.read_file('watersheds.gdf')"
   ]
  },
  {
   "cell_type": "code",
   "execution_count": 14,
   "metadata": {},
   "outputs": [
    {
     "data": {
      "text/plain": [
       "0    POLYGON ((-121.17542 38.73486, -121.17514 38.7...\n",
       "Name: geometry, dtype: geometry"
      ]
     },
     "execution_count": 14,
     "metadata": {},
     "output_type": "execute_result"
    }
   ],
   "source": [
    "watersheds.geometry"
   ]
  },
  {
   "cell_type": "code",
   "execution_count": 22,
   "metadata": {},
   "outputs": [
    {
     "data": {
      "image/png": "[encoded data removed]",
      "text/plain": [
       "<Figure size 432x288 with 2 Axes>"
      ]
     },
     "metadata": {
      "needs_background": "light"
     },
     "output_type": "display_data"
    }
   ],
   "source": [
    "import earthpy.plot as ep\n",
    "from rasterio.plot import plotting_extent\n",
    "fp = os.path.join('/users/marianne/earth-analytics/data/MOD17/GeoTiff/Monthly_MOD17A2/MOD17A2_GPP.2004.M08.tif')\n",
    "modis_pre = rxr.open_rasterio(fp,\n",
    "                              masked=True)\n",
    "modis_clip = modis_pre.rio.clip(watersheds.geometry,\n",
    "                    all_touched=True)\n",
    "fig,ax=plt.subplots()\n",
    "modis_clip.plot()\n",
    "plt.show()\n",
    "    "
   ]
  },
  {
   "cell_type": "code",
   "execution_count": 60,
   "metadata": {},
   "outputs": [
    {
     "data": {
      "text/plain": [
       "[<matplotlib.lines.Line2D at 0x7fa5fb5139a0>]"
      ]
     },
     "execution_count": 60,
     "metadata": {},
     "output_type": "execute_result"
    },
    {
     "data": {
      "image/png": "[encoded data removed]",
      "text/plain": [
       "<Figure size 432x288 with 1 Axes>"
      ]
     },
     "metadata": {
      "needs_background": "light"
     },
     "output_type": "display_data"
    }
   ],
   "source": [
    "plt.plot(new_xs, new_ys)"
   ]
  },
  {
   "cell_type": "code",
   "execution_count": 59,
   "metadata": {},
   "outputs": [
    {
     "data": {
      "text/plain": [
       "[<matplotlib.lines.Line2D at 0x7fa5f4dddca0>]"
      ]
     },
     "execution_count": 59,
     "metadata": {},
     "output_type": "execute_result"
    },
    {
     "data": {
      "image/png": "[encoded data removed]",
      "text/plain": [
       "<Figure size 432x288 with 1 Axes>"
      ]
     },
     "metadata": {
      "needs_background": "light"
     },
     "output_type": "display_data"
    }
   ],
   "source": [
    "plt.plot(xs,ys,'.')"
   ]
  },
  {
   "cell_type": "code",
   "execution_count": 63,
   "metadata": {},
   "outputs": [
    {
     "data": {
      "image/png": "[encoded data removed]",
      "text/plain": [
       "<Figure size 720x288 with 2 Axes>"
      ]
     },
     "metadata": {
      "needs_background": "light"
     },
     "output_type": "display_data"
    }
   ],
   "source": [
    "\n",
    "\n",
    "\n",
    "points = np.load(\"/Users/imalsky/Desktop/isaac.npy\")\n",
    "xs = points[0]\n",
    "ys = points[1]\n",
    "\n",
    "# plot:\n",
    "fig,ax = plt.subplots(1, 2, figsize=(10,4))\n",
    "\n",
    "ax[0].plot(xs, ys)  # original (shuffled) points\n",
    "ax[1].plot(xn, yn)  # new (ordered) points\n",
    "ax[0].set_title('Original')\n",
    "ax[1].set_title('Ordered')\n",
    "plt.tight_layout()\n",
    "plt.show()"
   ]
  },
  {
   "cell_type": "code",
   "execution_count": 65,
   "metadata": {},
   "outputs": [
    {
     "name": "stdout",
     "output_type": "stream",
     "text": [
      "Requirement already satisfied: geopandas in /Users/imalsky/opt/anaconda3/lib/python3.8/site-packages (0.10.2)\n",
      "Requirement already satisfied: fiona>=1.8 in /Users/imalsky/opt/anaconda3/lib/python3.8/site-packages (from geopandas) (1.8.20)\n",
      "Requirement already satisfied: shapely>=1.6 in /Users/imalsky/opt/anaconda3/lib/python3.8/site-packages (from geopandas) (1.7.1)\n",
      "Requirement already satisfied: pandas>=0.25.0 in /Users/imalsky/opt/anaconda3/lib/python3.8/site-packages (from geopandas) (1.2.4)\n",
      "Requirement already satisfied: pyproj>=2.2.0 in /Users/imalsky/opt/anaconda3/lib/python3.8/site-packages (from geopandas) (3.2.1)\n",
      "Requirement already satisfied: attrs>=17 in /Users/imalsky/opt/anaconda3/lib/python3.8/site-packages (from fiona>=1.8->geopandas) (20.3.0)\n",
      "Requirement already satisfied: click>=4.0 in /Users/imalsky/opt/anaconda3/lib/python3.8/site-packages (from fiona>=1.8->geopandas) (7.1.2)\n",
      "Requirement already satisfied: setuptools in /Users/imalsky/opt/anaconda3/lib/python3.8/site-packages (from fiona>=1.8->geopandas) (52.0.0.post20210125)\n",
      "Requirement already satisfied: click-plugins>=1.0 in /Users/imalsky/opt/anaconda3/lib/python3.8/site-packages (from fiona>=1.8->geopandas) (1.1.1)\n",
      "Requirement already satisfied: cligj>=0.5 in /Users/imalsky/opt/anaconda3/lib/python3.8/site-packages (from fiona>=1.8->geopandas) (0.7.2)\n",
      "Requirement already satisfied: munch in /Users/imalsky/opt/anaconda3/lib/python3.8/site-packages (from fiona>=1.8->geopandas) (2.5.0)\n",
      "Requirement already satisfied: six>=1.7 in /Users/imalsky/opt/anaconda3/lib/python3.8/site-packages (from fiona>=1.8->geopandas) (1.15.0)\n",
      "Requirement already satisfied: certifi in /Users/imalsky/opt/anaconda3/lib/python3.8/site-packages (from fiona>=1.8->geopandas) (2020.12.5)\n",
      "Requirement already satisfied: python-dateutil>=2.7.3 in /Users/imalsky/opt/anaconda3/lib/python3.8/site-packages (from pandas>=0.25.0->geopandas) (2.8.1)\n",
      "Requirement already satisfied: pytz>=2017.3 in /Users/imalsky/opt/anaconda3/lib/python3.8/site-packages (from pandas>=0.25.0->geopandas) (2021.1)\n",
      "Requirement already satisfied: numpy>=1.16.5 in /Users/imalsky/opt/anaconda3/lib/python3.8/site-packages (from pandas>=0.25.0->geopandas) (1.20.1)\n"
     ]
    }
   ],
   "source": [
    "!pip install geopandas\n",
    "import geopandas as gpd\n",
    "from shapely.geometry import Polygon"
   ]
  },
  {
   "cell_type": "code",
   "execution_count": 76,
   "metadata": {},
   "outputs": [],
   "source": [
    "tmp_list=[]\n",
    "name = 'name'\n",
    "poly = Polygon(zip(xn,yn))#.boundary\n",
    "tmp_list.append({'geometry': poly,'name':name})\n"
   ]
  },
  {
   "cell_type": "code",
   "execution_count": 77,
   "metadata": {},
   "outputs": [],
   "source": [
    "gdf = gpd.GeoDataFrame(tmp_list,crs=4326)\n",
    "gdf.to_file('watershed_test.gdf')"
   ]
  },
  {
   "cell_type": "code",
   "execution_count": 78,
   "metadata": {},
   "outputs": [],
   "source": [
    "test = gpd.read_file('watershed_test.gdf')"
   ]
  },
  {
   "cell_type": "code",
   "execution_count": 79,
   "metadata": {},
   "outputs": [
    {
     "data": {
      "text/html": [
       "<div>\n",
       "<style scoped>\n",
       "    .dataframe tbody tr th:only-of-type {\n",
       "        vertical-align: middle;\n",
       "    }\n",
       "\n",
       "    .dataframe tbody tr th {\n",
       "        vertical-align: top;\n",
       "    }\n",
       "\n",
       "    .dataframe thead th {\n",
       "        text-align: right;\n",
       "    }\n",
       "</style>\n",
       "<table border=\"1\" class=\"dataframe\">\n",
       "  <thead>\n",
       "    <tr style=\"text-align: right;\">\n",
       "      <th></th>\n",
       "      <th>name</th>\n",
       "      <th>geometry</th>\n",
       "    </tr>\n",
       "  </thead>\n",
       "  <tbody>\n",
       "    <tr>\n",
       "      <th>0</th>\n",
       "      <td>name</td>\n",
       "      <td>POLYGON ((-121.52958 39.18486, -121.52931 39.1...</td>\n",
       "    </tr>\n",
       "  </tbody>\n",
       "</table>\n",
       "</div>"
      ],
      "text/plain": [
       "   name                                           geometry\n",
       "0  name  POLYGON ((-121.52958 39.18486, -121.52931 39.1..."
      ]
     },
     "execution_count": 79,
     "metadata": {},
     "output_type": "execute_result"
    }
   ],
   "source": [
    "test"
   ]
  },
  {
   "cell_type": "code",
   "execution_count": 80,
   "metadata": {},
   "outputs": [
    {
     "data": {
      "text/plain": [
       "0    POLYGON ((-121.52958 39.18486, -121.52931 39.1...\n",
       "Name: geometry, dtype: geometry"
      ]
     },
     "execution_count": 80,
     "metadata": {},
     "output_type": "execute_result"
    }
   ],
   "source": [
    "test['geometry']"
   ]
  },
  {
   "cell_type": "code",
   "execution_count": null,
   "metadata": {},
   "outputs": [],
   "source": []
  }
 ],
 "metadata": {
  "interpreter": {
   "hash": "aee8b7b246df8f9039afb4144a1f6fd8d2ca17a180786b69acc140d282b71a49"
  },
  "kernelspec": {
   "display_name": "Python 3.9.6 64-bit",
   "name": "python3"
  },
  "language_info": {
   "codemirror_mode": {
    "name": "ipython",
    "version": 3
   },
   "file_extension": ".py",
   "mimetype": "text/x-python",
   "name": "python",
   "nbconvert_exporter": "python",
   "pygments_lexer": "ipython3",
   "version": "3.9.6"
  }
 },
 "nbformat": 4,
 "nbformat_minor": 5
}
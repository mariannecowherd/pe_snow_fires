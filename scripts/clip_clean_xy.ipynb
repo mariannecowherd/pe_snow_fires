{
 "cells": [
  {
   "cell_type": "code",
   "execution_count": 2,
   "metadata": {},
   "outputs": [],
   "source": [
    "from glob import glob\n",
    "import os\n",
    "\n",
    "import numpy as np\n",
    "import numpy.ma as ma\n",
    "import matplotlib.pyplot as plt\n",
    "from matplotlib import cm\n",
    "import geopandas as gpd\n",
    "import rioxarray as rxr\n",
    "import xarray as xr\n",
    "from rasterio.plot import plotting_extent\n",
    "from shapely.geometry import box\n",
    "from shapely.geometry import Polygon\n",
    "from shapely.geometry import MultiPolygon\n",
    "import scipy.io\n",
    "from scipy.io import loadmat\n",
    "import pandas as pd\n",
    "import h5py\n",
    "import geopandas as gpd\n",
    "# optional - turn off warnings\n",
    "import warnings\n",
    "warnings.filterwarnings('ignore')\n",
    "\n",
    "os.chdir('/users/marianne/documents/pe_snow_fires/')"
   ]
  },
  {
   "cell_type": "code",
   "execution_count": 3,
   "metadata": {},
   "outputs": [],
   "source": [
    "#### define functions\n",
    "\n",
    "def distance(P1, P2):\n",
    "    return ((P1[0] - P2[0])**2 + (P1[1] - P2[1])**2) ** 0.5\n",
    "\n",
    "\n",
    "def optimized_path(coords, start=None):\n",
    "    if start is None:\n",
    "        start = coords[0]\n",
    "    pass_by = coords\n",
    "    path = [start]\n",
    "    pass_by.remove(start)\n",
    "    while pass_by:\n",
    "        nearest = min(pass_by, key=lambda x: distance(path[-1], x))\n",
    "        path.append(nearest)\n",
    "        pass_by.remove(nearest)\n",
    "    return path\n",
    "\n",
    "import numpy as np\n",
    "from scipy.signal import savgol_filter\n",
    "from sklearn.decomposition import PCA\n",
    "\n",
    "from scipy import interpolate\n",
    "\n",
    "def XYclean(x,y): \n",
    "\n",
    "    xy = np.concatenate((x.reshape(-1,1), y.reshape(-1,1)), axis=1)     \n",
    "\n",
    "    # make PCA object\n",
    "    pca = PCA(2)\n",
    "    # fit on data\n",
    "    pca.fit(xy)\n",
    "    \n",
    "    #transform into pca space   \n",
    "    xypca = pca.transform(xy) \n",
    "    newx = xypca[:,0]\n",
    "    newy = xypca[:,1]\n",
    "\n",
    "    #sort\n",
    "    indexSort = np.argsort(x)\n",
    "    newx = newx[indexSort]\n",
    "    newy = newy[indexSort]\n",
    "\n",
    "    #add some more points (optional)\n",
    "    f = interpolate.interp1d(newx, newy, kind='linear')        \n",
    "    newX=np.linspace(np.min(newx), np.max(newx), 100)\n",
    "    newY = f(newX)            \n",
    "\n",
    "    #smooth with a filter (optional)\n",
    "    window = 43\n",
    "    newY = savgol_filter(newY, window, 2)\n",
    "\n",
    "    #return back to old coordinates\n",
    "    xyclean = pca.inverse_transform(np.concatenate((newX.reshape(-1,1), newY.reshape(-1,1)), axis=1) )\n",
    "    xc=xyclean[:,0]\n",
    "    yc = xyclean[:,1]\n",
    "\n",
    "    return xc, yc\n",
    "\n",
    "\n",
    "def order_points(points, ind):\n",
    "    points_new = [ points.pop(ind) ]  # initialize a new list of points with the known first point\n",
    "    pcurr      = points_new[-1]       # initialize the current point (as the known point)\n",
    "    while len(points)>0:\n",
    "        d      = np.linalg.norm(np.array(points) - np.array(pcurr), axis=1)  # distances between pcurr and all other remaining points\n",
    "        ind    = d.argmin()                   # index of the closest point\n",
    "        points_new.append( points.pop(ind) )  # append the closest point to points_new\n",
    "        pcurr  = points_new[-1]               # update the current point\n",
    "    return points_new\n"
   ]
  },
  {
   "cell_type": "code",
   "execution_count": 7,
   "metadata": {},
   "outputs": [
    {
     "ename": "ValueError",
     "evalue": "x and y arrays must be equal in length along interpolation axis.",
     "output_type": "error",
     "traceback": [
      "\u001b[0;31m---------------------------------------------------------------------------\u001b[0m",
      "\u001b[0;31mValueError\u001b[0m                                Traceback (most recent call last)",
      "\u001b[0;32m/var/folders/pj/dwdbrbvs73j111lmlw52vz8m0000gn/T/ipykernel_92147/3211413258.py\u001b[0m in \u001b[0;36m<module>\u001b[0;34m\u001b[0m\n\u001b[1;32m     34\u001b[0m \u001b[0mys\u001b[0m \u001b[0;34m=\u001b[0m \u001b[0moutline\u001b[0m\u001b[0;34m[\u001b[0m\u001b[0;34m'y'\u001b[0m\u001b[0;34m]\u001b[0m\u001b[0;34m[\u001b[0m\u001b[0;36m0\u001b[0m\u001b[0;34m]\u001b[0m\u001b[0;34m[\u001b[0m\u001b[0;36m0\u001b[0m\u001b[0;34m]\u001b[0m\u001b[0;34m\u001b[0m\u001b[0;34m\u001b[0m\u001b[0m\n\u001b[1;32m     35\u001b[0m \u001b[0;34m\u001b[0m\u001b[0m\n\u001b[0;32m---> 36\u001b[0;31m \u001b[0mnew_xs\u001b[0m\u001b[0;34m,\u001b[0m \u001b[0mnew_ys\u001b[0m \u001b[0;34m=\u001b[0m \u001b[0mXYclean\u001b[0m\u001b[0;34m(\u001b[0m\u001b[0mxs\u001b[0m\u001b[0;34m,\u001b[0m\u001b[0mys\u001b[0m\u001b[0;34m)\u001b[0m\u001b[0;34m\u001b[0m\u001b[0;34m\u001b[0m\u001b[0m\n\u001b[0m\u001b[1;32m     37\u001b[0m \u001b[0;31m# find the leftmost point:\u001b[0m\u001b[0;34m\u001b[0m\u001b[0;34m\u001b[0m\u001b[0;34m\u001b[0m\u001b[0m\n\u001b[1;32m     38\u001b[0m \u001b[0mind\u001b[0m    \u001b[0;34m=\u001b[0m \u001b[0mxs\u001b[0m\u001b[0;34m.\u001b[0m\u001b[0margmin\u001b[0m\u001b[0;34m(\u001b[0m\u001b[0;34m)\u001b[0m\u001b[0;34m\u001b[0m\u001b[0;34m\u001b[0m\u001b[0m\n",
      "\u001b[0;32m/var/folders/pj/dwdbrbvs73j111lmlw52vz8m0000gn/T/ipykernel_92147/4253567226.py\u001b[0m in \u001b[0;36mXYclean\u001b[0;34m(x, y)\u001b[0m\n\u001b[1;32m     43\u001b[0m \u001b[0;34m\u001b[0m\u001b[0m\n\u001b[1;32m     44\u001b[0m     \u001b[0;31m#add some more points (optional)\u001b[0m\u001b[0;34m\u001b[0m\u001b[0;34m\u001b[0m\u001b[0;34m\u001b[0m\u001b[0m\n\u001b[0;32m---> 45\u001b[0;31m     \u001b[0mf\u001b[0m \u001b[0;34m=\u001b[0m \u001b[0minterpolate\u001b[0m\u001b[0;34m.\u001b[0m\u001b[0minterp1d\u001b[0m\u001b[0;34m(\u001b[0m\u001b[0mnewx\u001b[0m\u001b[0;34m,\u001b[0m \u001b[0mnewy\u001b[0m\u001b[0;34m,\u001b[0m \u001b[0mkind\u001b[0m\u001b[0;34m=\u001b[0m\u001b[0;34m'linear'\u001b[0m\u001b[0;34m)\u001b[0m\u001b[0;34m\u001b[0m\u001b[0;34m\u001b[0m\u001b[0m\n\u001b[0m\u001b[1;32m     46\u001b[0m     \u001b[0mnewX\u001b[0m\u001b[0;34m=\u001b[0m\u001b[0mnp\u001b[0m\u001b[0;34m.\u001b[0m\u001b[0mlinspace\u001b[0m\u001b[0;34m(\u001b[0m\u001b[0mnp\u001b[0m\u001b[0;34m.\u001b[0m\u001b[0mmin\u001b[0m\u001b[0;34m(\u001b[0m\u001b[0mnewx\u001b[0m\u001b[0;34m)\u001b[0m\u001b[0;34m,\u001b[0m \u001b[0mnp\u001b[0m\u001b[0;34m.\u001b[0m\u001b[0mmax\u001b[0m\u001b[0;34m(\u001b[0m\u001b[0mnewx\u001b[0m\u001b[0;34m)\u001b[0m\u001b[0;34m,\u001b[0m \u001b[0;36m100\u001b[0m\u001b[0;34m)\u001b[0m\u001b[0;34m\u001b[0m\u001b[0;34m\u001b[0m\u001b[0m\n\u001b[1;32m     47\u001b[0m     \u001b[0mnewY\u001b[0m \u001b[0;34m=\u001b[0m \u001b[0mf\u001b[0m\u001b[0;34m(\u001b[0m\u001b[0mnewX\u001b[0m\u001b[0;34m)\u001b[0m\u001b[0;34m\u001b[0m\u001b[0;34m\u001b[0m\u001b[0m\n",
      "\u001b[0;32m~/opt/anaconda3/envs/earthenv/lib/python3.9/site-packages/scipy/interpolate/interpolate.py\u001b[0m in \u001b[0;36m__init__\u001b[0;34m(self, x, y, kind, axis, copy, bounds_error, fill_value, assume_sorted)\u001b[0m\n\u001b[1;32m    434\u001b[0m                  assume_sorted=False):\n\u001b[1;32m    435\u001b[0m         \u001b[0;34m\"\"\" Initialize a 1-D linear interpolation class.\"\"\"\u001b[0m\u001b[0;34m\u001b[0m\u001b[0;34m\u001b[0m\u001b[0m\n\u001b[0;32m--> 436\u001b[0;31m         \u001b[0m_Interpolator1D\u001b[0m\u001b[0;34m.\u001b[0m\u001b[0m__init__\u001b[0m\u001b[0;34m(\u001b[0m\u001b[0mself\u001b[0m\u001b[0;34m,\u001b[0m \u001b[0mx\u001b[0m\u001b[0;34m,\u001b[0m \u001b[0my\u001b[0m\u001b[0;34m,\u001b[0m \u001b[0maxis\u001b[0m\u001b[0;34m=\u001b[0m\u001b[0maxis\u001b[0m\u001b[0;34m)\u001b[0m\u001b[0;34m\u001b[0m\u001b[0;34m\u001b[0m\u001b[0m\n\u001b[0m\u001b[1;32m    437\u001b[0m \u001b[0;34m\u001b[0m\u001b[0m\n\u001b[1;32m    438\u001b[0m         \u001b[0mself\u001b[0m\u001b[0;34m.\u001b[0m\u001b[0mbounds_error\u001b[0m \u001b[0;34m=\u001b[0m \u001b[0mbounds_error\u001b[0m  \u001b[0;31m# used by fill_value setter\u001b[0m\u001b[0;34m\u001b[0m\u001b[0;34m\u001b[0m\u001b[0m\n",
      "\u001b[0;32m~/opt/anaconda3/envs/earthenv/lib/python3.9/site-packages/scipy/interpolate/polyint.py\u001b[0m in \u001b[0;36m__init__\u001b[0;34m(self, xi, yi, axis)\u001b[0m\n\u001b[1;32m     52\u001b[0m         \u001b[0mself\u001b[0m\u001b[0;34m.\u001b[0m\u001b[0mdtype\u001b[0m \u001b[0;34m=\u001b[0m \u001b[0;32mNone\u001b[0m\u001b[0;34m\u001b[0m\u001b[0;34m\u001b[0m\u001b[0m\n\u001b[1;32m     53\u001b[0m         \u001b[0;32mif\u001b[0m \u001b[0myi\u001b[0m \u001b[0;32mis\u001b[0m \u001b[0;32mnot\u001b[0m \u001b[0;32mNone\u001b[0m\u001b[0;34m:\u001b[0m\u001b[0;34m\u001b[0m\u001b[0;34m\u001b[0m\u001b[0m\n\u001b[0;32m---> 54\u001b[0;31m             \u001b[0mself\u001b[0m\u001b[0;34m.\u001b[0m\u001b[0m_set_yi\u001b[0m\u001b[0;34m(\u001b[0m\u001b[0myi\u001b[0m\u001b[0;34m,\u001b[0m \u001b[0mxi\u001b[0m\u001b[0;34m=\u001b[0m\u001b[0mxi\u001b[0m\u001b[0;34m,\u001b[0m \u001b[0maxis\u001b[0m\u001b[0;34m=\u001b[0m\u001b[0maxis\u001b[0m\u001b[0;34m)\u001b[0m\u001b[0;34m\u001b[0m\u001b[0;34m\u001b[0m\u001b[0m\n\u001b[0m\u001b[1;32m     55\u001b[0m \u001b[0;34m\u001b[0m\u001b[0m\n\u001b[1;32m     56\u001b[0m     \u001b[0;32mdef\u001b[0m \u001b[0m__call__\u001b[0m\u001b[0;34m(\u001b[0m\u001b[0mself\u001b[0m\u001b[0;34m,\u001b[0m \u001b[0mx\u001b[0m\u001b[0;34m)\u001b[0m\u001b[0;34m:\u001b[0m\u001b[0;34m\u001b[0m\u001b[0;34m\u001b[0m\u001b[0m\n",
      "\u001b[0;32m~/opt/anaconda3/envs/earthenv/lib/python3.9/site-packages/scipy/interpolate/polyint.py\u001b[0m in \u001b[0;36m_set_yi\u001b[0;34m(self, yi, xi, axis)\u001b[0m\n\u001b[1;32m    122\u001b[0m             \u001b[0mshape\u001b[0m \u001b[0;34m=\u001b[0m \u001b[0;34m(\u001b[0m\u001b[0;36m1\u001b[0m\u001b[0;34m,\u001b[0m\u001b[0;34m)\u001b[0m\u001b[0;34m\u001b[0m\u001b[0;34m\u001b[0m\u001b[0m\n\u001b[1;32m    123\u001b[0m         \u001b[0;32mif\u001b[0m \u001b[0mxi\u001b[0m \u001b[0;32mis\u001b[0m \u001b[0;32mnot\u001b[0m \u001b[0;32mNone\u001b[0m \u001b[0;32mand\u001b[0m \u001b[0mshape\u001b[0m\u001b[0;34m[\u001b[0m\u001b[0maxis\u001b[0m\u001b[0;34m]\u001b[0m \u001b[0;34m!=\u001b[0m \u001b[0mlen\u001b[0m\u001b[0;34m(\u001b[0m\u001b[0mxi\u001b[0m\u001b[0;34m)\u001b[0m\u001b[0;34m:\u001b[0m\u001b[0;34m\u001b[0m\u001b[0;34m\u001b[0m\u001b[0m\n\u001b[0;32m--> 124\u001b[0;31m             raise ValueError(\"x and y arrays must be equal in length along \"\n\u001b[0m\u001b[1;32m    125\u001b[0m                              \"interpolation axis.\")\n\u001b[1;32m    126\u001b[0m \u001b[0;34m\u001b[0m\u001b[0m\n",
      "\u001b[0;31mValueError\u001b[0m: x and y arrays must be equal in length along interpolation axis."
     ]
    }
   ],
   "source": [
    "filepath = '/users/marianne/documents/pe_snow_fires/data/watershed_masks/'\n",
    "files = os.listdir(filepath)\n",
    "tmp_list=[]\n",
    "outlines_list=[]\n",
    "for f in files:\n",
    "    try:\n",
    "        mask = h5py.File(filepath + f)\n",
    "        name = f.split('_watershed')[0]\n",
    "        outline = mask[name+'_watershed_outline_coords']\n",
    "        xs =outline['x'][0]\n",
    "        ys = outline['y'][0]\n",
    "        new_xs, new_ys = XYclean(xs,ys)\n",
    "\n",
    "        # find the leftmost point:\n",
    "        ind    = xs.argmin()\n",
    "\n",
    "        # assemble the x and y coordinates into a list of (x,y) tuples:\n",
    "        points = [(xx,yy)  for xx,yy in zip(xs,ys)]\n",
    "\n",
    "        # order the points based on the known first point:\n",
    "        points_new = order_points(points, ind)\n",
    "        xn,yn  = np.array(points_new).T\n",
    "\n",
    "        poly = Polygon(zip(xn,yn))\n",
    "        tmp_list.append({'geometry': poly,'name':name})\n",
    "    except:\n",
    "        continue\n",
    "\n"
   ]
  },
  {
   "cell_type": "code",
   "execution_count": 45,
   "metadata": {},
   "outputs": [],
   "source": [
    "#just for the cosumnes because the matlab file is a different version\n",
    "mask = loadmat(filepath + 'cosumnes_watershed_mask.mat')\n",
    "name = 'cosumnes'\n",
    "outline = mask[name+'_watershed_outline_coords']\n",
    "xs = outline['x'][0][0].flatten()\n",
    "ys = outline['y'][0][0].flatten()\n",
    "\n",
    "new_xs, new_ys = XYclean(xs,ys)\n",
    "# find the leftmost point:\n",
    "ind = xs.argmin()\n",
    "# assemble the x and y coordinates into a list of (x,y) tuples:\n",
    "points = [(xx,yy)  for xx,yy in zip(xs,ys)]\n",
    "# order the points based on the known first point:\n",
    "points_new = order_points(points, ind)\n",
    "xn,yn  = np.array(points_new).T\n",
    "poly = Polygon(zip(xn,yn))\n",
    "tmp_list.append({'geometry': poly,'name':name})\n",
    "\n"
   ]
  },
  {
   "cell_type": "code",
   "execution_count": 57,
   "metadata": {},
   "outputs": [],
   "source": [
    "gdf = gpd.GeoDataFrame(tmp_list,crs=26910)\n",
    "gdf.to_file('watersheds.gdf')\n",
    "watersheds = gpd.read_file('watersheds.gdf')\n",
    "\n"
   ]
  },
  {
   "cell_type": "code",
   "execution_count": 55,
   "metadata": {},
   "outputs": [
    {
     "data": {
      "text/plain": [
       "<AxesSubplot:>"
      ]
     },
     "execution_count": 55,
     "metadata": {},
     "output_type": "execute_result"
    },
    {
     "data": {
      "image/png": "[encoded data removed]",
      "text/plain": [
       "<Figure size 432x288 with 1 Axes>"
      ]
     },
     "metadata": {
      "needs_background": "light"
     },
     "output_type": "display_data"
    }
   ],
   "source": [
    "f,ax=plt.subplots()\n",
    "watersheds.boundary.plot(ax=ax)"
   ]
  },
  {
   "cell_type": "code",
   "execution_count": 56,
   "metadata": {},
   "outputs": [
    {
     "ename": "NameError",
     "evalue": "name 'swe' is not defined",
     "output_type": "error",
     "traceback": [
      "\u001b[0;31m---------------------------------------------------------------------------\u001b[0m",
      "\u001b[0;31mNameError\u001b[0m                                 Traceback (most recent call last)",
      "\u001b[0;32m/var/folders/pj/dwdbrbvs73j111lmlw52vz8m0000gn/T/ipykernel_92147/1203101972.py\u001b[0m in \u001b[0;36m<module>\u001b[0;34m\u001b[0m\n\u001b[1;32m      1\u001b[0m \u001b[0;31m# create data\u001b[0m\u001b[0;34m\u001b[0m\u001b[0;34m\u001b[0m\u001b[0;34m\u001b[0m\u001b[0m\n\u001b[0;32m----> 2\u001b[0;31m \u001b[0mdata\u001b[0m \u001b[0;34m=\u001b[0m \u001b[0mswe\u001b[0m\u001b[0;34m\u001b[0m\u001b[0;34m\u001b[0m\u001b[0m\n\u001b[0m\u001b[1;32m      3\u001b[0m \u001b[0;34m\u001b[0m\u001b[0m\n\u001b[1;32m      4\u001b[0m \u001b[0;31m# create coords\u001b[0m\u001b[0;34m\u001b[0m\u001b[0;34m\u001b[0m\u001b[0;34m\u001b[0m\u001b[0m\n\u001b[1;32m      5\u001b[0m \u001b[0mrows\u001b[0m \u001b[0;34m=\u001b[0m \u001b[0mlon\u001b[0m\u001b[0;34m\u001b[0m\u001b[0;34m\u001b[0m\u001b[0m\n",
      "\u001b[0;31mNameError\u001b[0m: name 'swe' is not defined"
     ]
    }
   ],
   "source": [
    "# create data\n",
    "data = swe\n",
    "\n",
    "# create coords\n",
    "rows = lon\n",
    "cols = lat\n",
    "\n",
    "# put data into a dataset\n",
    "ds = xr.Dataset(\n",
    "    data_vars=dict(\n",
    "        variable=([\"x\", \"y\"], data)\n",
    "    ),\n",
    "    coords=dict(\n",
    "        lon=([\"x\"], rows),\n",
    "        lat=([\"y\"], cols),\n",
    "    ),\n",
    "    attrs=dict(description=\"coords with vectors\"),\n",
    ")\n",
    "\n",
    "ds.to_raster(\"swe.tif\")\n",
    "# CHeck the CRS\n",
    "swe_ds=rio.read('swe.tif')\n",
    "#swe_ds.rio.crs"
   ]
  },
  {
   "cell_type": "code",
   "execution_count": 42,
   "metadata": {},
   "outputs": [
    {
     "name": "stdout",
     "output_type": "stream",
     "text": [
      "7634 7634\n",
      "[-0.00506683 -0.00506683 -0.00506683 ... -0.00506683 -0.00506683\n",
      " -0.00506683]\n"
     ]
    }
   ],
   "source": [
    "print(len(newx),len(newy))\n",
    "#f = interpolate.interp1d(newx, newy, kind='linear') \n",
    "#print (newx)\n",
    "print (newy.flatten())\n"
   ]
  },
  {
   "cell_type": "code",
   "execution_count": 34,
   "metadata": {},
   "outputs": [],
   "source": [
    "watersheds=gpd.read_file('watersheds.gdf')"
   ]
  },
  {
   "cell_type": "code",
   "execution_count": 6,
   "metadata": {},
   "outputs": [
    {
     "data": {
      "image/png": "[encoded data removed]",
      "text/plain": [
       "<Figure size 432x288 with 2 Axes>"
      ]
     },
     "metadata": {
      "needs_background": "light"
     },
     "output_type": "display_data"
    }
   ],
   "source": [
    "import earthpy.plot as ep\n",
    "from rasterio.plot import plotting_extent\n",
    "fp = os.path.join('/users/marianne/earth-analytics/data/MOD17/GeoTiff/Monthly_MOD17A2/MOD17A2_GPP.2004.M08.tif')\n",
    "modis_pre = rxr.open_rasterio(fp,\n",
    "                              masked=True)\n",
    "modis_clip = modis_pre.rio.clip(watersheds.geometry,\n",
    "                    all_touched=True)\n",
    "fig,ax=plt.subplots()\n",
    "modis_clip.plot(ax=ax)\n",
    "ax.plot(xn, yn)  # new (ordered) points\n",
    "plt.show()\n",
    "    "
   ]
  }
 ],
 "metadata": {
  "interpreter": {
   "hash": "aee8b7b246df8f9039afb4144a1f6fd8d2ca17a180786b69acc140d282b71a49"
  },
  "kernelspec": {
   "display_name": "Python 3.9.6 64-bit",
   "name": "python3"
  },
  "language_info": {
   "codemirror_mode": {
    "name": "ipython",
    "version": 3
   },
   "file_extension": ".py",
   "mimetype": "text/x-python",
   "name": "python",
   "nbconvert_exporter": "python",
   "pygments_lexer": "ipython3",
   "version": "3.9.6"
  }
 },
 "nbformat": 4,
 "nbformat_minor": 5
}

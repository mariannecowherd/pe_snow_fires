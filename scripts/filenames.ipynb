{
 "cells": [
  {
   "cell_type": "code",
   "execution_count": null,
   "source": [
    "['american','carson','feather','kaweah','kern']\r\n",
    "northwest = ['upper sacramento','feather','yuba','american','cosumnes','mokelumne','stanislaus']\r\n",
    "southwest = ['tuolumne','merced','san joaquin','kings','kaweah','tule','kern']\r\n",
    "southeast = ['owens','mono','walker']\r\n",
    "northeast = ['truckee','tahoe','carson']"
   ],
   "outputs": [],
   "metadata": {}
  }
 ],
 "metadata": {
  "orig_nbformat": 4,
  "language_info": {
   "name": "python"
  }
 },
 "nbformat": 4,
 "nbformat_minor": 2
}
{
 "cells": [
  {
   "cell_type": "code",
   "execution_count": 27,
   "metadata": {},
   "outputs": [],
   "source": [
    "import matplotlib.pyplot as plt\n",
    "# from netCDF4 import Dataset\n",
    "import numpy as np\n",
    "import os\n",
    "import rasterio as rio\n",
    "import geopandas as gpd\n",
    "import xarray as xr\n",
    "import rasterio"
   ]
  },
  {
   "cell_type": "code",
   "execution_count": 4,
   "metadata": {},
   "outputs": [],
   "source": [
    "dir = 'c:/users/marianne/documents/data/GOSIF/data.globalecology.unh.edu/data/GOSIF-GPP_v2/Monthly/Mean'"
   ]
  },
  {
   "cell_type": "code",
   "execution_count": 8,
   "metadata": {},
   "outputs": [
    {
     "data": {
      "text/plain": [
       "['GOSIF_GPP_2000.M03_Mean.tif',\n",
       " 'GOSIF_GPP_2000.M04_Mean.tif',\n",
       " 'GOSIF_GPP_2000.M05_Mean.tif',\n",
       " 'GOSIF_GPP_2000.M06_Mean.tif',\n",
       " 'GOSIF_GPP_2000.M07_Mean.tif',\n",
       " 'GOSIF_GPP_2000.M08_Mean.tif',\n",
       " 'GOSIF_GPP_2000.M09_Mean.tif',\n",
       " 'GOSIF_GPP_2000.M10_Mean.tif',\n",
       " 'GOSIF_GPP_2000.M11_Mean.tif',\n",
       " 'GOSIF_GPP_2000.M12_Mean.tif',\n",
       " 'GOSIF_GPP_2001.M01_Mean.tif',\n",
       " 'GOSIF_GPP_2001.M02_Mean.tif',\n",
       " 'GOSIF_GPP_2001.M03_Mean.tif',\n",
       " 'GOSIF_GPP_2001.M04_Mean.tif',\n",
       " 'GOSIF_GPP_2001.M05_Mean.tif',\n",
       " 'GOSIF_GPP_2001.M06_Mean.tif',\n",
       " 'GOSIF_GPP_2001.M07_Mean.tif',\n",
       " 'GOSIF_GPP_2001.M08_Mean.tif',\n",
       " 'GOSIF_GPP_2001.M09_Mean.tif',\n",
       " 'GOSIF_GPP_2001.M10_Mean.tif',\n",
       " 'GOSIF_GPP_2001.M11_Mean.tif',\n",
       " 'GOSIF_GPP_2001.M12_Mean.tif',\n",
       " 'GOSIF_GPP_2002.M01_Mean.tif',\n",
       " 'GOSIF_GPP_2002.M02_Mean.tif',\n",
       " 'GOSIF_GPP_2002.M03_Mean.tif',\n",
       " 'GOSIF_GPP_2002.M04_Mean.tif',\n",
       " 'GOSIF_GPP_2002.M05_Mean.tif',\n",
       " 'GOSIF_GPP_2002.M06_Mean.tif',\n",
       " 'GOSIF_GPP_2002.M07_Mean.tif',\n",
       " 'GOSIF_GPP_2002.M08_Mean.tif',\n",
       " 'GOSIF_GPP_2002.M09_Mean.tif',\n",
       " 'GOSIF_GPP_2002.M10_Mean.tif',\n",
       " 'GOSIF_GPP_2002.M11_Mean.tif',\n",
       " 'GOSIF_GPP_2002.M12_Mean.tif',\n",
       " 'GOSIF_GPP_2003.M01_Mean.tif',\n",
       " 'GOSIF_GPP_2003.M02_Mean.tif',\n",
       " 'GOSIF_GPP_2003.M03_Mean.tif',\n",
       " 'GOSIF_GPP_2003.M04_Mean.tif',\n",
       " 'GOSIF_GPP_2003.M05_Mean.tif',\n",
       " 'GOSIF_GPP_2003.M06_Mean.tif',\n",
       " 'GOSIF_GPP_2003.M07_Mean.tif',\n",
       " 'GOSIF_GPP_2003.M08_Mean.tif',\n",
       " 'GOSIF_GPP_2003.M09_Mean.tif',\n",
       " 'GOSIF_GPP_2003.M10_Mean.tif',\n",
       " 'GOSIF_GPP_2003.M11_Mean.tif',\n",
       " 'GOSIF_GPP_2003.M12_Mean.tif',\n",
       " 'GOSIF_GPP_2004.M01_Mean.tif',\n",
       " 'GOSIF_GPP_2004.M02_Mean.tif',\n",
       " 'GOSIF_GPP_2004.M03_Mean.tif',\n",
       " 'GOSIF_GPP_2004.M04_Mean.tif',\n",
       " 'GOSIF_GPP_2004.M05_Mean.tif',\n",
       " 'GOSIF_GPP_2004.M06_Mean.tif',\n",
       " 'GOSIF_GPP_2004.M07_Mean.tif',\n",
       " 'GOSIF_GPP_2004.M08_Mean.tif',\n",
       " 'GOSIF_GPP_2004.M09_Mean.tif',\n",
       " 'GOSIF_GPP_2004.M10_Mean.tif',\n",
       " 'GOSIF_GPP_2004.M11_Mean.tif',\n",
       " 'GOSIF_GPP_2004.M12_Mean.tif',\n",
       " 'GOSIF_GPP_2005.M01_Mean.tif',\n",
       " 'GOSIF_GPP_2005.M02_Mean.tif',\n",
       " 'GOSIF_GPP_2005.M03_Mean.tif',\n",
       " 'GOSIF_GPP_2005.M04_Mean.tif',\n",
       " 'GOSIF_GPP_2005.M05_Mean.tif',\n",
       " 'GOSIF_GPP_2005.M06_Mean.tif',\n",
       " 'GOSIF_GPP_2005.M07_Mean.tif',\n",
       " 'GOSIF_GPP_2005.M08_Mean.tif',\n",
       " 'GOSIF_GPP_2005.M09_Mean.tif',\n",
       " 'GOSIF_GPP_2005.M10_Mean.tif',\n",
       " 'GOSIF_GPP_2005.M11_Mean.tif',\n",
       " 'GOSIF_GPP_2005.M12_Mean.tif',\n",
       " 'GOSIF_GPP_2006.M01_Mean.tif',\n",
       " 'GOSIF_GPP_2006.M02_Mean.tif',\n",
       " 'GOSIF_GPP_2006.M03_Mean.tif',\n",
       " 'GOSIF_GPP_2006.M04_Mean.tif',\n",
       " 'GOSIF_GPP_2006.M05_Mean.tif',\n",
       " 'GOSIF_GPP_2006.M06_Mean.tif',\n",
       " 'GOSIF_GPP_2006.M07_Mean.tif',\n",
       " 'GOSIF_GPP_2006.M08_Mean.tif',\n",
       " 'GOSIF_GPP_2006.M09_Mean.tif',\n",
       " 'GOSIF_GPP_2006.M10_Mean.tif',\n",
       " 'GOSIF_GPP_2006.M11_Mean.tif',\n",
       " 'GOSIF_GPP_2006.M12_Mean.tif',\n",
       " 'GOSIF_GPP_2007.M01_Mean.tif',\n",
       " 'GOSIF_GPP_2007.M02_Mean.tif',\n",
       " 'GOSIF_GPP_2007.M03_Mean.tif',\n",
       " 'GOSIF_GPP_2007.M04_Mean.tif',\n",
       " 'GOSIF_GPP_2007.M05_Mean.tif',\n",
       " 'GOSIF_GPP_2007.M06_Mean.tif',\n",
       " 'GOSIF_GPP_2007.M07_Mean.tif',\n",
       " 'GOSIF_GPP_2007.M08_Mean.tif',\n",
       " 'GOSIF_GPP_2007.M09_Mean.tif',\n",
       " 'GOSIF_GPP_2007.M10_Mean.tif',\n",
       " 'GOSIF_GPP_2007.M11_Mean.tif',\n",
       " 'GOSIF_GPP_2007.M12_Mean.tif',\n",
       " 'GOSIF_GPP_2008.M01_Mean.tif',\n",
       " 'GOSIF_GPP_2008.M02_Mean.tif',\n",
       " 'GOSIF_GPP_2008.M03_Mean.tif',\n",
       " 'GOSIF_GPP_2008.M04_Mean.tif',\n",
       " 'GOSIF_GPP_2008.M05_Mean.tif',\n",
       " 'GOSIF_GPP_2008.M06_Mean.tif',\n",
       " 'GOSIF_GPP_2008.M07_Mean.tif',\n",
       " 'GOSIF_GPP_2008.M08_Mean.tif',\n",
       " 'GOSIF_GPP_2008.M09_Mean.tif',\n",
       " 'GOSIF_GPP_2008.M10_Mean.tif',\n",
       " 'GOSIF_GPP_2008.M11_Mean.tif',\n",
       " 'GOSIF_GPP_2008.M12_Mean.tif',\n",
       " 'GOSIF_GPP_2009.M01_Mean.tif',\n",
       " 'GOSIF_GPP_2009.M02_Mean.tif',\n",
       " 'GOSIF_GPP_2009.M03_Mean.tif',\n",
       " 'GOSIF_GPP_2009.M04_Mean.tif',\n",
       " 'GOSIF_GPP_2009.M05_Mean.tif',\n",
       " 'GOSIF_GPP_2009.M06_Mean.tif',\n",
       " 'GOSIF_GPP_2009.M07_Mean.tif',\n",
       " 'GOSIF_GPP_2009.M08_Mean.tif',\n",
       " 'GOSIF_GPP_2009.M09_Mean.tif',\n",
       " 'GOSIF_GPP_2009.M10_Mean.tif',\n",
       " 'GOSIF_GPP_2009.M11_Mean.tif',\n",
       " 'GOSIF_GPP_2009.M12_Mean.tif',\n",
       " 'GOSIF_GPP_2010.M01_Mean.tif',\n",
       " 'GOSIF_GPP_2010.M02_Mean.tif',\n",
       " 'GOSIF_GPP_2010.M03_Mean.tif',\n",
       " 'GOSIF_GPP_2010.M04_Mean.tif',\n",
       " 'GOSIF_GPP_2010.M05_Mean.tif',\n",
       " 'GOSIF_GPP_2010.M06_Mean.tif',\n",
       " 'GOSIF_GPP_2010.M07_Mean.tif',\n",
       " 'GOSIF_GPP_2010.M08_Mean.tif',\n",
       " 'GOSIF_GPP_2010.M09_Mean.tif',\n",
       " 'GOSIF_GPP_2010.M10_Mean.tif',\n",
       " 'GOSIF_GPP_2010.M11_Mean.tif',\n",
       " 'GOSIF_GPP_2010.M12_Mean.tif',\n",
       " 'GOSIF_GPP_2011.M01_Mean.tif',\n",
       " 'GOSIF_GPP_2011.M02_Mean.tif',\n",
       " 'GOSIF_GPP_2011.M03_Mean.tif',\n",
       " 'GOSIF_GPP_2011.M04_Mean.tif',\n",
       " 'GOSIF_GPP_2011.M05_Mean.tif',\n",
       " 'GOSIF_GPP_2011.M06_Mean.tif',\n",
       " 'GOSIF_GPP_2011.M07_Mean.tif',\n",
       " 'GOSIF_GPP_2011.M08_Mean.tif',\n",
       " 'GOSIF_GPP_2011.M09_Mean.tif',\n",
       " 'GOSIF_GPP_2011.M10_Mean.tif',\n",
       " 'GOSIF_GPP_2011.M11_Mean.tif',\n",
       " 'GOSIF_GPP_2011.M12_Mean.tif',\n",
       " 'GOSIF_GPP_2012.M01_Mean.tif',\n",
       " 'GOSIF_GPP_2012.M02_Mean.tif',\n",
       " 'GOSIF_GPP_2012.M03_Mean.tif',\n",
       " 'GOSIF_GPP_2012.M04_Mean.tif',\n",
       " 'GOSIF_GPP_2012.M05_Mean.tif',\n",
       " 'GOSIF_GPP_2012.M06_Mean.tif',\n",
       " 'GOSIF_GPP_2012.M07_Mean.tif',\n",
       " 'GOSIF_GPP_2012.M08_Mean.tif',\n",
       " 'GOSIF_GPP_2012.M09_Mean.tif',\n",
       " 'GOSIF_GPP_2012.M10_Mean.tif',\n",
       " 'GOSIF_GPP_2012.M11_Mean.tif',\n",
       " 'GOSIF_GPP_2012.M12_Mean.tif',\n",
       " 'GOSIF_GPP_2013.M01_Mean.tif',\n",
       " 'GOSIF_GPP_2013.M02_Mean.tif',\n",
       " 'GOSIF_GPP_2013.M03_Mean.tif',\n",
       " 'GOSIF_GPP_2013.M04_Mean.tif',\n",
       " 'GOSIF_GPP_2013.M05_Mean.tif',\n",
       " 'GOSIF_GPP_2013.M06_Mean.tif',\n",
       " 'GOSIF_GPP_2013.M07_Mean.tif',\n",
       " 'GOSIF_GPP_2013.M08_Mean.tif',\n",
       " 'GOSIF_GPP_2013.M09_Mean.tif',\n",
       " 'GOSIF_GPP_2013.M10_Mean.tif',\n",
       " 'GOSIF_GPP_2013.M11_Mean.tif',\n",
       " 'GOSIF_GPP_2013.M12_Mean.tif',\n",
       " 'GOSIF_GPP_2014.M01_Mean.tif',\n",
       " 'GOSIF_GPP_2014.M02_Mean.tif',\n",
       " 'GOSIF_GPP_2014.M03_Mean.tif',\n",
       " 'GOSIF_GPP_2014.M04_Mean.tif',\n",
       " 'GOSIF_GPP_2014.M05_Mean.tif',\n",
       " 'GOSIF_GPP_2014.M06_Mean.tif',\n",
       " 'GOSIF_GPP_2014.M07_Mean.tif',\n",
       " 'GOSIF_GPP_2014.M08_Mean.tif',\n",
       " 'GOSIF_GPP_2014.M09_Mean.tif',\n",
       " 'GOSIF_GPP_2014.M10_Mean.tif',\n",
       " 'GOSIF_GPP_2014.M11_Mean.tif',\n",
       " 'GOSIF_GPP_2014.M12_Mean.tif',\n",
       " 'GOSIF_GPP_2015.M01_Mean.tif',\n",
       " 'GOSIF_GPP_2015.M02_Mean.tif',\n",
       " 'GOSIF_GPP_2015.M03_Mean.tif',\n",
       " 'GOSIF_GPP_2015.M04_Mean.tif',\n",
       " 'GOSIF_GPP_2015.M05_Mean.tif',\n",
       " 'GOSIF_GPP_2015.M06_Mean.tif',\n",
       " 'GOSIF_GPP_2015.M07_Mean.tif',\n",
       " 'GOSIF_GPP_2015.M08_Mean.tif',\n",
       " 'GOSIF_GPP_2015.M09_Mean.tif',\n",
       " 'GOSIF_GPP_2015.M10_Mean.tif',\n",
       " 'GOSIF_GPP_2015.M11_Mean.tif',\n",
       " 'GOSIF_GPP_2015.M12_Mean.tif',\n",
       " 'GOSIF_GPP_2016.M01_Mean.tif',\n",
       " 'GOSIF_GPP_2016.M02_Mean.tif',\n",
       " 'GOSIF_GPP_2016.M03_Mean.tif',\n",
       " 'GOSIF_GPP_2016.M04_Mean.tif',\n",
       " 'GOSIF_GPP_2016.M05_Mean.tif',\n",
       " 'GOSIF_GPP_2016.M06_Mean.tif',\n",
       " 'GOSIF_GPP_2016.M07_Mean.tif',\n",
       " 'GOSIF_GPP_2016.M08_Mean.tif',\n",
       " 'GOSIF_GPP_2016.M09_Mean.tif',\n",
       " 'GOSIF_GPP_2016.M10_Mean.tif',\n",
       " 'GOSIF_GPP_2016.M11_Mean.tif',\n",
       " 'GOSIF_GPP_2016.M12_Mean.tif',\n",
       " 'GOSIF_GPP_2017.M01_Mean.tif',\n",
       " 'GOSIF_GPP_2017.M02_Mean.tif',\n",
       " 'GOSIF_GPP_2017.M03_Mean.tif',\n",
       " 'GOSIF_GPP_2017.M04_Mean.tif',\n",
       " 'GOSIF_GPP_2017.M05_Mean.tif',\n",
       " 'GOSIF_GPP_2017.M06_Mean.tif',\n",
       " 'GOSIF_GPP_2017.M07_Mean.tif',\n",
       " 'GOSIF_GPP_2017.M08_Mean.tif',\n",
       " 'GOSIF_GPP_2017.M09_Mean.tif',\n",
       " 'GOSIF_GPP_2017.M10_Mean.tif',\n",
       " 'GOSIF_GPP_2017.M11_Mean.tif',\n",
       " 'GOSIF_GPP_2017.M12_Mean.tif',\n",
       " 'GOSIF_GPP_2018.M01_Mean.tif',\n",
       " 'GOSIF_GPP_2018.M02_Mean.tif',\n",
       " 'GOSIF_GPP_2018.M03_Mean.tif',\n",
       " 'GOSIF_GPP_2018.M04_Mean.tif',\n",
       " 'GOSIF_GPP_2018.M05_Mean.tif',\n",
       " 'GOSIF_GPP_2018.M06_Mean.tif',\n",
       " 'GOSIF_GPP_2018.M07_Mean.tif',\n",
       " 'GOSIF_GPP_2018.M08_Mean.tif',\n",
       " 'GOSIF_GPP_2018.M09_Mean.tif',\n",
       " 'GOSIF_GPP_2018.M10_Mean.tif',\n",
       " 'GOSIF_GPP_2018.M11_Mean.tif',\n",
       " 'GOSIF_GPP_2018.M12_Mean.tif',\n",
       " 'GOSIF_GPP_2019.M01_Mean.tif',\n",
       " 'GOSIF_GPP_2019.M02_Mean.tif',\n",
       " 'GOSIF_GPP_2019.M03_Mean.tif',\n",
       " 'GOSIF_GPP_2019.M04_Mean.tif',\n",
       " 'GOSIF_GPP_2019.M05_Mean.tif',\n",
       " 'GOSIF_GPP_2019.M06_Mean.tif',\n",
       " 'GOSIF_GPP_2019.M07_Mean.tif',\n",
       " 'GOSIF_GPP_2019.M08_Mean.tif',\n",
       " 'GOSIF_GPP_2019.M09_Mean.tif',\n",
       " 'GOSIF_GPP_2019.M10_Mean.tif',\n",
       " 'GOSIF_GPP_2019.M11_Mean.tif',\n",
       " 'GOSIF_GPP_2019.M12_Mean.tif',\n",
       " 'GOSIF_GPP_2020.M01_Mean.tif',\n",
       " 'GOSIF_GPP_2020.M02_Mean.tif',\n",
       " 'GOSIF_GPP_2020.M03_Mean.tif',\n",
       " 'GOSIF_GPP_2020.M04_Mean.tif',\n",
       " 'GOSIF_GPP_2020.M05_Mean.tif',\n",
       " 'GOSIF_GPP_2020.M06_Mean.tif',\n",
       " 'GOSIF_GPP_2020.M07_Mean.tif',\n",
       " 'GOSIF_GPP_2020.M08_Mean.tif',\n",
       " 'GOSIF_GPP_2020.M09_Mean.tif',\n",
       " 'GOSIF_GPP_2020.M10_Mean.tif',\n",
       " 'GOSIF_GPP_2020.M11_Mean.tif',\n",
       " 'GOSIF_GPP_2020.M12_Mean.tif']"
      ]
     },
     "execution_count": 8,
     "metadata": {},
     "output_type": "execute_result"
    }
   ],
   "source": [
    "for f in os.listdir(dir):\n",
    "    "
   ]
  },
  {
   "cell_type": "code",
   "execution_count": 15,
   "metadata": {},
   "outputs": [],
   "source": [
    "file = (dir +'/'+ os.listdir(dir)[1])"
   ]
  },
  {
   "cell_type": "code",
   "execution_count": 29,
   "metadata": {},
   "outputs": [],
   "source": [
    "data = xr.open_rasterio(file)"
   ]
  },
  {
   "cell_type": "code",
   "execution_count": 23,
   "metadata": {},
   "outputs": [],
   "source": [
    "sn = gpd.read_file('data/sn_watersheds.shp')"
   ]
  },
  {
   "cell_type": "code",
   "execution_count": 32,
   "metadata": {},
   "outputs": [],
   "source": [
    "import rioxarray\n",
    "\n",
    "xds = rioxarray.open_rasterio(file)"
   ]
  },
  {
   "cell_type": "code",
   "execution_count": 34,
   "metadata": {},
   "outputs": [
    {
     "ename": "ValueError",
     "evalue": "No valid geometry objects found for rasterize",
     "output_type": "error",
     "traceback": [
      "\u001b[1;31m---------------------------------------------------------------------------\u001b[0m",
      "\u001b[1;31mValueError\u001b[0m                                Traceback (most recent call last)",
      "\u001b[1;32m~\\AppData\\Local\\Temp/ipykernel_9556/3981994656.py\u001b[0m in \u001b[0;36m<module>\u001b[1;34m\u001b[0m\n\u001b[1;32m----> 1\u001b[1;33m \u001b[0mclipped\u001b[0m \u001b[1;33m=\u001b[0m \u001b[0mxds\u001b[0m\u001b[1;33m.\u001b[0m\u001b[0mrio\u001b[0m\u001b[1;33m.\u001b[0m\u001b[0mclip\u001b[0m\u001b[1;33m(\u001b[0m\u001b[0msn\u001b[0m\u001b[1;33m)\u001b[0m\u001b[1;33m\u001b[0m\u001b[1;33m\u001b[0m\u001b[0m\n\u001b[0m",
      "\u001b[1;32m~\\anaconda3\\envs\\swe\\lib\\site-packages\\rioxarray\\raster_array.py\u001b[0m in \u001b[0;36mclip\u001b[1;34m(self, geometries, crs, all_touched, drop, invert, from_disk)\u001b[0m\n\u001b[0;32m    775\u001b[0m             )\n\u001b[0;32m    776\u001b[0m         \u001b[1;32mif\u001b[0m \u001b[0mcropped_ds\u001b[0m \u001b[1;32mis\u001b[0m \u001b[1;32mNone\u001b[0m\u001b[1;33m:\u001b[0m\u001b[1;33m\u001b[0m\u001b[1;33m\u001b[0m\u001b[0m\n\u001b[1;32m--> 777\u001b[1;33m             cropped_ds = _clip_xarray(\n\u001b[0m\u001b[0;32m    778\u001b[0m                 \u001b[0mself\u001b[0m\u001b[1;33m.\u001b[0m\u001b[0m_obj\u001b[0m\u001b[1;33m,\u001b[0m\u001b[1;33m\u001b[0m\u001b[1;33m\u001b[0m\u001b[0m\n\u001b[0;32m    779\u001b[0m                 \u001b[0mgeometries\u001b[0m\u001b[1;33m=\u001b[0m\u001b[0mgeometries\u001b[0m\u001b[1;33m,\u001b[0m\u001b[1;33m\u001b[0m\u001b[1;33m\u001b[0m\u001b[0m\n",
      "\u001b[1;32m~\\anaconda3\\envs\\swe\\lib\\site-packages\\rioxarray\\raster_array.py\u001b[0m in \u001b[0;36m_clip_xarray\u001b[1;34m(xds, geometries, all_touched, drop, invert)\u001b[0m\n\u001b[0;32m    171\u001b[0m     \u001b[0mclip\u001b[0m \u001b[0mthe\u001b[0m \u001b[0mxarray\u001b[0m \u001b[0mDataArray\u001b[0m\u001b[1;33m\u001b[0m\u001b[1;33m\u001b[0m\u001b[0m\n\u001b[0;32m    172\u001b[0m     \"\"\"\n\u001b[1;32m--> 173\u001b[1;33m     clip_mask_arr = geometry_mask(\n\u001b[0m\u001b[0;32m    174\u001b[0m         \u001b[0mgeometries\u001b[0m\u001b[1;33m=\u001b[0m\u001b[0mgeometries\u001b[0m\u001b[1;33m,\u001b[0m\u001b[1;33m\u001b[0m\u001b[1;33m\u001b[0m\u001b[0m\n\u001b[0;32m    175\u001b[0m         \u001b[0mout_shape\u001b[0m\u001b[1;33m=\u001b[0m\u001b[1;33m(\u001b[0m\u001b[0mint\u001b[0m\u001b[1;33m(\u001b[0m\u001b[0mxds\u001b[0m\u001b[1;33m.\u001b[0m\u001b[0mrio\u001b[0m\u001b[1;33m.\u001b[0m\u001b[0mheight\u001b[0m\u001b[1;33m)\u001b[0m\u001b[1;33m,\u001b[0m \u001b[0mint\u001b[0m\u001b[1;33m(\u001b[0m\u001b[0mxds\u001b[0m\u001b[1;33m.\u001b[0m\u001b[0mrio\u001b[0m\u001b[1;33m.\u001b[0m\u001b[0mwidth\u001b[0m\u001b[1;33m)\u001b[0m\u001b[1;33m)\u001b[0m\u001b[1;33m,\u001b[0m\u001b[1;33m\u001b[0m\u001b[1;33m\u001b[0m\u001b[0m\n",
      "\u001b[1;32m~\\anaconda3\\envs\\swe\\lib\\site-packages\\rasterio\\env.py\u001b[0m in \u001b[0;36mwrapper\u001b[1;34m(*args, **kwds)\u001b[0m\n\u001b[0;32m    385\u001b[0m         \u001b[1;32melse\u001b[0m\u001b[1;33m:\u001b[0m\u001b[1;33m\u001b[0m\u001b[1;33m\u001b[0m\u001b[0m\n\u001b[0;32m    386\u001b[0m             \u001b[1;32mwith\u001b[0m \u001b[0mEnv\u001b[0m\u001b[1;33m.\u001b[0m\u001b[0mfrom_defaults\u001b[0m\u001b[1;33m(\u001b[0m\u001b[1;33m)\u001b[0m\u001b[1;33m:\u001b[0m\u001b[1;33m\u001b[0m\u001b[1;33m\u001b[0m\u001b[0m\n\u001b[1;32m--> 387\u001b[1;33m                 \u001b[1;32mreturn\u001b[0m \u001b[0mf\u001b[0m\u001b[1;33m(\u001b[0m\u001b[1;33m*\u001b[0m\u001b[0margs\u001b[0m\u001b[1;33m,\u001b[0m \u001b[1;33m**\u001b[0m\u001b[0mkwds\u001b[0m\u001b[1;33m)\u001b[0m\u001b[1;33m\u001b[0m\u001b[1;33m\u001b[0m\u001b[0m\n\u001b[0m\u001b[0;32m    388\u001b[0m     \u001b[1;32mreturn\u001b[0m \u001b[0mwrapper\u001b[0m\u001b[1;33m\u001b[0m\u001b[1;33m\u001b[0m\u001b[0m\n\u001b[0;32m    389\u001b[0m \u001b[1;33m\u001b[0m\u001b[0m\n",
      "\u001b[1;32m~\\anaconda3\\envs\\swe\\lib\\site-packages\\rasterio\\features.py\u001b[0m in \u001b[0;36mgeometry_mask\u001b[1;34m(geometries, out_shape, transform, all_touched, invert)\u001b[0m\n\u001b[0;32m     65\u001b[0m     \u001b[0mfill\u001b[0m\u001b[1;33m,\u001b[0m \u001b[0mmask_value\u001b[0m \u001b[1;33m=\u001b[0m \u001b[1;33m(\u001b[0m\u001b[1;36m0\u001b[0m\u001b[1;33m,\u001b[0m \u001b[1;36m1\u001b[0m\u001b[1;33m)\u001b[0m \u001b[1;32mif\u001b[0m \u001b[0minvert\u001b[0m \u001b[1;32melse\u001b[0m \u001b[1;33m(\u001b[0m\u001b[1;36m1\u001b[0m\u001b[1;33m,\u001b[0m \u001b[1;36m0\u001b[0m\u001b[1;33m)\u001b[0m\u001b[1;33m\u001b[0m\u001b[1;33m\u001b[0m\u001b[0m\n\u001b[0;32m     66\u001b[0m \u001b[1;33m\u001b[0m\u001b[0m\n\u001b[1;32m---> 67\u001b[1;33m     return rasterize(\n\u001b[0m\u001b[0;32m     68\u001b[0m         \u001b[0mgeometries\u001b[0m\u001b[1;33m,\u001b[0m\u001b[1;33m\u001b[0m\u001b[1;33m\u001b[0m\u001b[0m\n\u001b[0;32m     69\u001b[0m         \u001b[0mout_shape\u001b[0m\u001b[1;33m=\u001b[0m\u001b[0mout_shape\u001b[0m\u001b[1;33m,\u001b[0m\u001b[1;33m\u001b[0m\u001b[1;33m\u001b[0m\u001b[0m\n",
      "\u001b[1;32m~\\anaconda3\\envs\\swe\\lib\\site-packages\\rasterio\\env.py\u001b[0m in \u001b[0;36mwrapper\u001b[1;34m(*args, **kwds)\u001b[0m\n\u001b[0;32m    382\u001b[0m     \u001b[1;32mdef\u001b[0m \u001b[0mwrapper\u001b[0m\u001b[1;33m(\u001b[0m\u001b[1;33m*\u001b[0m\u001b[0margs\u001b[0m\u001b[1;33m,\u001b[0m \u001b[1;33m**\u001b[0m\u001b[0mkwds\u001b[0m\u001b[1;33m)\u001b[0m\u001b[1;33m:\u001b[0m\u001b[1;33m\u001b[0m\u001b[1;33m\u001b[0m\u001b[0m\n\u001b[0;32m    383\u001b[0m         \u001b[1;32mif\u001b[0m \u001b[0mlocal\u001b[0m\u001b[1;33m.\u001b[0m\u001b[0m_env\u001b[0m\u001b[1;33m:\u001b[0m\u001b[1;33m\u001b[0m\u001b[1;33m\u001b[0m\u001b[0m\n\u001b[1;32m--> 384\u001b[1;33m             \u001b[1;32mreturn\u001b[0m \u001b[0mf\u001b[0m\u001b[1;33m(\u001b[0m\u001b[1;33m*\u001b[0m\u001b[0margs\u001b[0m\u001b[1;33m,\u001b[0m \u001b[1;33m**\u001b[0m\u001b[0mkwds\u001b[0m\u001b[1;33m)\u001b[0m\u001b[1;33m\u001b[0m\u001b[1;33m\u001b[0m\u001b[0m\n\u001b[0m\u001b[0;32m    385\u001b[0m         \u001b[1;32melse\u001b[0m\u001b[1;33m:\u001b[0m\u001b[1;33m\u001b[0m\u001b[1;33m\u001b[0m\u001b[0m\n\u001b[0;32m    386\u001b[0m             \u001b[1;32mwith\u001b[0m \u001b[0mEnv\u001b[0m\u001b[1;33m.\u001b[0m\u001b[0mfrom_defaults\u001b[0m\u001b[1;33m(\u001b[0m\u001b[1;33m)\u001b[0m\u001b[1;33m:\u001b[0m\u001b[1;33m\u001b[0m\u001b[1;33m\u001b[0m\u001b[0m\n",
      "\u001b[1;32m~\\anaconda3\\envs\\swe\\lib\\site-packages\\rasterio\\features.py\u001b[0m in \u001b[0;36mrasterize\u001b[1;34m(shapes, out_shape, fill, out, transform, all_touched, merge_alg, default_value, dtype)\u001b[0m\n\u001b[0;32m    319\u001b[0m \u001b[1;33m\u001b[0m\u001b[0m\n\u001b[0;32m    320\u001b[0m     \u001b[1;32mif\u001b[0m \u001b[1;32mnot\u001b[0m \u001b[0mvalid_shapes\u001b[0m\u001b[1;33m:\u001b[0m\u001b[1;33m\u001b[0m\u001b[1;33m\u001b[0m\u001b[0m\n\u001b[1;32m--> 321\u001b[1;33m         \u001b[1;32mraise\u001b[0m \u001b[0mValueError\u001b[0m\u001b[1;33m(\u001b[0m\u001b[1;34m'No valid geometry objects found for rasterize'\u001b[0m\u001b[1;33m)\u001b[0m\u001b[1;33m\u001b[0m\u001b[1;33m\u001b[0m\u001b[0m\n\u001b[0m\u001b[0;32m    322\u001b[0m \u001b[1;33m\u001b[0m\u001b[0m\n\u001b[0;32m    323\u001b[0m     \u001b[0mshape_values\u001b[0m \u001b[1;33m=\u001b[0m \u001b[0mnp\u001b[0m\u001b[1;33m.\u001b[0m\u001b[0marray\u001b[0m\u001b[1;33m(\u001b[0m\u001b[0mshape_values\u001b[0m\u001b[1;33m)\u001b[0m\u001b[1;33m\u001b[0m\u001b[1;33m\u001b[0m\u001b[0m\n",
      "\u001b[1;31mValueError\u001b[0m: No valid geometry objects found for rasterize"
     ]
    }
   ],
   "source": [
    "clipped = xds.rio.clip(sn)"
   ]
  },
  {
   "cell_type": "code",
   "execution_count": 41,
   "metadata": {},
   "outputs": [
    {
     "data": {
      "text/plain": [
       "<Geographic 2D CRS: EPSG:4326>\n",
       "Name: WGS 84\n",
       "Axis Info [ellipsoidal]:\n",
       "- Lat[north]: Geodetic latitude (degree)\n",
       "- Lon[east]: Geodetic longitude (degree)\n",
       "Area of Use:\n",
       "- name: World.\n",
       "- bounds: (-180.0, -90.0, 180.0, 90.0)\n",
       "Datum: World Geodetic System 1984 ensemble\n",
       "- Ellipsoid: WGS 84\n",
       "- Prime Meridian: Greenwich"
      ]
     },
     "execution_count": 41,
     "metadata": {},
     "output_type": "execute_result"
    }
   ],
   "source": [
    "xds.rio.crs\n",
    "sn.crs"
   ]
  },
  {
   "cell_type": "code",
   "execution_count": 25,
   "metadata": {},
   "outputs": [
    {
     "ename": "AttributeError",
     "evalue": "'DataArray' object has no attribute 'rio'",
     "output_type": "error",
     "traceback": [
      "\u001b[1;31m---------------------------------------------------------------------------\u001b[0m",
      "\u001b[1;31mAttributeError\u001b[0m                            Traceback (most recent call last)",
      "\u001b[1;32m~\\AppData\\Local\\Temp/ipykernel_9556/2509675912.py\u001b[0m in \u001b[0;36m<module>\u001b[1;34m\u001b[0m\n\u001b[1;32m----> 1\u001b[1;33m \u001b[0mclipped\u001b[0m \u001b[1;33m=\u001b[0m \u001b[0mdata\u001b[0m\u001b[1;33m.\u001b[0m\u001b[0mrio\u001b[0m\u001b[1;33m.\u001b[0m\u001b[0mclip\u001b[0m\u001b[1;33m(\u001b[0m\u001b[0msn\u001b[0m\u001b[1;33m)\u001b[0m\u001b[1;33m\u001b[0m\u001b[1;33m\u001b[0m\u001b[0m\n\u001b[0m",
      "\u001b[1;32m~\\anaconda3\\envs\\swe\\lib\\site-packages\\xarray\\core\\common.py\u001b[0m in \u001b[0;36m__getattr__\u001b[1;34m(self, name)\u001b[0m\n\u001b[0;32m    237\u001b[0m                 \u001b[1;32mwith\u001b[0m \u001b[0msuppress\u001b[0m\u001b[1;33m(\u001b[0m\u001b[0mKeyError\u001b[0m\u001b[1;33m)\u001b[0m\u001b[1;33m:\u001b[0m\u001b[1;33m\u001b[0m\u001b[1;33m\u001b[0m\u001b[0m\n\u001b[0;32m    238\u001b[0m                     \u001b[1;32mreturn\u001b[0m \u001b[0msource\u001b[0m\u001b[1;33m[\u001b[0m\u001b[0mname\u001b[0m\u001b[1;33m]\u001b[0m\u001b[1;33m\u001b[0m\u001b[1;33m\u001b[0m\u001b[0m\n\u001b[1;32m--> 239\u001b[1;33m         raise AttributeError(\n\u001b[0m\u001b[0;32m    240\u001b[0m             \u001b[1;34m\"{!r} object has no attribute {!r}\"\u001b[0m\u001b[1;33m.\u001b[0m\u001b[0mformat\u001b[0m\u001b[1;33m(\u001b[0m\u001b[0mtype\u001b[0m\u001b[1;33m(\u001b[0m\u001b[0mself\u001b[0m\u001b[1;33m)\u001b[0m\u001b[1;33m.\u001b[0m\u001b[0m__name__\u001b[0m\u001b[1;33m,\u001b[0m \u001b[0mname\u001b[0m\u001b[1;33m)\u001b[0m\u001b[1;33m\u001b[0m\u001b[1;33m\u001b[0m\u001b[0m\n\u001b[0;32m    241\u001b[0m         )\n",
      "\u001b[1;31mAttributeError\u001b[0m: 'DataArray' object has no attribute 'rio'"
     ]
    }
   ],
   "source": [
    "clipped = data.rio.clip(sn)"
   ]
  },
  {
   "cell_type": "code",
   "execution_count": 28,
   "metadata": {},
   "outputs": [
    {
     "ename": "AttributeError",
     "evalue": "'DataArray' object has no attribute 'rio'",
     "output_type": "error",
     "traceback": [
      "\u001b[1;31m---------------------------------------------------------------------------\u001b[0m",
      "\u001b[1;31mAttributeError\u001b[0m                            Traceback (most recent call last)",
      "\u001b[1;32m~\\AppData\\Local\\Temp/ipykernel_9556/1310159915.py\u001b[0m in \u001b[0;36m<module>\u001b[1;34m\u001b[0m\n\u001b[1;32m----> 1\u001b[1;33m \u001b[0mdata\u001b[0m\u001b[1;33m.\u001b[0m\u001b[0mrio\u001b[0m\u001b[1;33m\u001b[0m\u001b[1;33m\u001b[0m\u001b[0m\n\u001b[0m",
      "\u001b[1;32m~\\anaconda3\\envs\\swe\\lib\\site-packages\\xarray\\core\\common.py\u001b[0m in \u001b[0;36m__getattr__\u001b[1;34m(self, name)\u001b[0m\n\u001b[0;32m    237\u001b[0m                 \u001b[1;32mwith\u001b[0m \u001b[0msuppress\u001b[0m\u001b[1;33m(\u001b[0m\u001b[0mKeyError\u001b[0m\u001b[1;33m)\u001b[0m\u001b[1;33m:\u001b[0m\u001b[1;33m\u001b[0m\u001b[1;33m\u001b[0m\u001b[0m\n\u001b[0;32m    238\u001b[0m                     \u001b[1;32mreturn\u001b[0m \u001b[0msource\u001b[0m\u001b[1;33m[\u001b[0m\u001b[0mname\u001b[0m\u001b[1;33m]\u001b[0m\u001b[1;33m\u001b[0m\u001b[1;33m\u001b[0m\u001b[0m\n\u001b[1;32m--> 239\u001b[1;33m         raise AttributeError(\n\u001b[0m\u001b[0;32m    240\u001b[0m             \u001b[1;34m\"{!r} object has no attribute {!r}\"\u001b[0m\u001b[1;33m.\u001b[0m\u001b[0mformat\u001b[0m\u001b[1;33m(\u001b[0m\u001b[0mtype\u001b[0m\u001b[1;33m(\u001b[0m\u001b[0mself\u001b[0m\u001b[1;33m)\u001b[0m\u001b[1;33m.\u001b[0m\u001b[0m__name__\u001b[0m\u001b[1;33m,\u001b[0m \u001b[0mname\u001b[0m\u001b[1;33m)\u001b[0m\u001b[1;33m\u001b[0m\u001b[1;33m\u001b[0m\u001b[0m\n\u001b[0;32m    241\u001b[0m         )\n",
      "\u001b[1;31mAttributeError\u001b[0m: 'DataArray' object has no attribute 'rio'"
     ]
    }
   ],
   "source": [
    "data.rio"
   ]
  },
  {
   "cell_type": "code",
   "execution_count": null,
   "metadata": {},
   "outputs": [],
   "source": []
  }
 ],
 "metadata": {
  "interpreter": {
   "hash": "de5d231dad5132826100b9f4984636fcf38463b4e554017da8ead88e76106218"
  },
  "kernelspec": {
   "display_name": "Python 3.9.7 ('swe')",
   "language": "python",
   "name": "python3"
  },
  "language_info": {
   "codemirror_mode": {
    "name": "ipython",
    "version": 3
   },
   "file_extension": ".py",
   "mimetype": "text/x-python",
   "name": "python",
   "nbconvert_exporter": "python",
   "pygments_lexer": "ipython3",
   "version": "3.9.7"
  },
  "orig_nbformat": 4
 },
 "nbformat": 4,
 "nbformat_minor": 2
}

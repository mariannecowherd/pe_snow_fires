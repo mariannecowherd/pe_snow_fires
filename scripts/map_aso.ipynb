{
 "cells": [
  {
   "cell_type": "code",
   "execution_count": 1,
   "metadata": {},
   "outputs": [],
   "source": [
    "import matplotlib.pyplot as plt\n",
    "import os\n",
    "import numpy as np\n",
    "import rasterio\n",
    "from rasterio.plot import show\n",
    "import numpy as np\n",
    "import xarray as xr\n",
    "import matplotlib.colors\n",
    "from matplotlib import cm\n",
    "import h5py\n",
    "import rioxarray as rxr\n",
    "from rasterio.crs import CRS\n",
    "from constants import *\n",
    "import gc\n"
   ]
  },
  {
   "cell_type": "code",
   "execution_count": 2,
   "metadata": {},
   "outputs": [],
   "source": [
    "# print( #typo here to prevent accidentally running the entire cell and destroying the kernel\n",
    "fp = 'c:/users/marianne/documents/data/reanalysis/h5/'\n",
    "scripts_dir = 'c:/users/marianne/documents/pe_snow_fires/scripts/'\n",
    "end_day = 365\n",
    "\n",
    "tuol_outline = gpd.read_file(scripts_dir + 'aso_tuolumne_bounds.shp')\n",
    "tuol_outline_rp = tuol_outline.to_crs(CRS.from_epsg(4326))\n",
    "####\n",
    "\n",
    "daily_swe_mean = {} #key = year, value = array of daily avg swe values\n",
    "daily_swe_total = {} #key = year, value = array of daily total swe values\n",
    "for yr in range(1990, 2016): #range(1985 , 2016):\n",
    "    dailyswe = [] # mean swe of each day\n",
    "    dailyswe_total = [] \n",
    "    numpixels = [] # num swe measurements each da\n",
    "    hf = h5py.File(fp + 'SN_SWE_WY'+ str(yr) + '.h5', 'r')  \n",
    "    #converting a year's h5 file to .tif\n",
    "    year_list = []\n",
    "    lat = hf.get('lat')\n",
    "    lon = hf.get('lon')\n",
    "    swe = hf.get(\"SWE\")\n",
    "    rows = lon[:].flatten()\n",
    "    cols = lat[:].flatten()\n",
    "    for day in range(end_day):\n",
    "        data = swe[day,:,:]\n",
    "        data = np.float32(data)\n",
    "        data[data<0] = np.nan\n",
    "        single_day = xr.DataArray(data.transpose(), dims=('y', 'x'), \n",
    "              coords={'band': day, 'x': rows, 'y': cols})\n",
    "        single_day = single_day.assign_coords(coords={'day':day})\n",
    "        single_day = single_day.rio.write_crs(CRS.from_epsg(4326))\n",
    "        clipped = single_day.rio.clip(tuol_outline_rp.geometry, CRS.from_epsg(4326), all_touched=True)\n",
    "        swe_tmp = clipped.values\n",
    "        swe_tmp=swe_tmp[swe_tmp>0]\n",
    "        dailyswe.append(np.nanmean(swe_tmp))\n",
    "        dailyswe_total.append(np.nansum(swe_tmp))\n",
    "        numpixels.append(len(swe_tmp))\n",
    "        del single_day\n",
    "        del data\n",
    "        del clipped\n",
    "        del swe_tmp\n",
    "\n",
    "    dailyswe=np.array(dailyswe)\n",
    "    dailyswe_total = np.array(dailyswe_total)\n",
    "    numpixels = np.array(numpixels)\n",
    "    daily_swe_mean[yr] = dailyswe \n",
    "    daily_swe_total[yr] = dailyswe_total\n",
    "    del hf\n",
    "    del dailyswe\n",
    "    del numpixels\n",
    "    del lat\n",
    "    del lon\n",
    "    del rows\n",
    "    del cols\n",
    "    del swe\n",
    "    gc.collect()\n",
    "\n",
    "np.save('tb_daily_swe_total_2.npy',daily_swe_mean)\n",
    "np.save('tb_daily_swe_mean_2.npy',daily_swe_mean)"
   ]
  },
  {
   "cell_type": "code",
   "execution_count": 3,
   "metadata": {},
   "outputs": [
    {
     "name": "stderr",
     "output_type": "stream",
     "text": [
      "C:\\Users\\Marianne\\AppData\\Local\\Temp/ipykernel_17704/2369601479.py:35: RuntimeWarning: Mean of empty slice\n",
      "  dailyswe.append(np.nanmean(swe_tmp))\n"
     ]
    }
   ],
   "source": [
    "# print( #typo here to prevent accidentally running the entire cell and destroying the kernel\n",
    "fp = 'c:/users/marianne/documents/data/reanalysis/h5/'\n",
    "scripts_dir = 'c:/users/marianne/documents/pe_snow_fires/scripts/'\n",
    "end_day = 365\n",
    "\n",
    "tuol_outline = gpd.read_file(scripts_dir + 'aso_tuolumne_bounds.shp')\n",
    "tuol_outline_rp = tuol_outline.to_crs(CRS.from_epsg(4326))\n",
    "####\n",
    "\n",
    "daily_swe_mean = {} #key = year, value = array of daily avg swe values\n",
    "daily_swe_total = {} #key = year, value = array of daily total swe values\n",
    "for yr in range(1985, 2016): #range(1985 , 2016):\n",
    "    dailyswe = [] # mean swe of each day\n",
    "    dailyswe_total = [] \n",
    "    numpixels = [] # num swe measurements each da\n",
    "    hf = h5py.File(fp + 'SN_SWE_WY'+ str(yr) + '.h5', 'r')  \n",
    "    #converting a year's h5 file to .tif\n",
    "    year_list = []\n",
    "    lat = hf.get('lat')\n",
    "    lon = hf.get('lon')\n",
    "    swe = hf.get(\"SWE\")\n",
    "    rows = lon[:].flatten()\n",
    "    cols = lat[:].flatten()\n",
    "    for day in range(end_day):\n",
    "        data = swe[day,:,:]\n",
    "        data = np.float32(data)\n",
    "        data[data<0] = np.nan\n",
    "        single_day = xr.DataArray(data.transpose(), dims=('y', 'x'), \n",
    "              coords={'band': day, 'x': rows, 'y': cols})\n",
    "        single_day = single_day.assign_coords(coords={'day':day})\n",
    "        single_day = single_day.rio.write_crs(CRS.from_epsg(4326))\n",
    "        clipped = single_day.rio.clip(tuol_outline_rp.geometry, CRS.from_epsg(4326), all_touched=True)\n",
    "        swe_tmp = clipped.values\n",
    "        swe_tmp=swe_tmp[swe_tmp>0]\n",
    "        dailyswe.append(np.nanmean(swe_tmp))\n",
    "        dailyswe_total.append(np.nansum(swe_tmp))\n",
    "        numpixels.append(len(swe_tmp))\n",
    "        del single_day\n",
    "        del data\n",
    "        del clipped\n",
    "        del swe_tmp\n",
    "\n",
    "    dailyswe=np.array(dailyswe)\n",
    "    dailyswe_total = np.array(dailyswe_total)\n",
    "    numpixels = np.array(numpixels)\n",
    "    daily_swe_mean[yr] = dailyswe \n",
    "    daily_swe_total[yr] = dailyswe_total\n",
    "    del hf\n",
    "    del dailyswe\n",
    "    del numpixels\n",
    "    del lat\n",
    "    del lon\n",
    "    del rows\n",
    "    del cols\n",
    "    del swe\n",
    "    gc.collect()\n",
    "\n",
    "np.save('tb_daily_swe_total_all.npy',daily_swe_mean)\n",
    "np.save('tb_daily_swe_mean_all.npy',daily_swe_mean)"
   ]
  },
  {
   "cell_type": "code",
   "execution_count": 16,
   "metadata": {},
   "outputs": [],
   "source": [
    "np.save('tb_daily_swe_total_1.npy',daily_swe_mean)\n",
    "np.save('tb_daily_swe_mean_1.npy',daily_swe_mean)"
   ]
  },
  {
   "cell_type": "code",
   "execution_count": null,
   "metadata": {},
   "outputs": [],
   "source": [
    "import h5py\n",
    "import rasterio as rio\n",
    "import xarray as xr\n",
    "\n",
    "#change this to the folder where all your data are\n",
    "fp = 'c:/users/marianne/documents/data/'\n",
    "#max_day is an array with the day of water year that had the highest average swe for that year\n",
    "max_day = np.load(fp+'max_day.npy') \n",
    "daily_sum = np.load(fp + 'daily_swe_sum.npy')\n",
    "daily_mean = np.load(fp + 'daily_swe_mean.npy')\n",
    "\n",
    "daily_swe_mean = []\n",
    "#max_swe_map = {}\n",
    "i=0\n",
    "for yr in range(1985,2016):\n",
    "    hf = h5py.File(fp + 'reanalysis/h5/SN_SWE_WY'+ str(yr) + '.h5', 'r')\n",
    "    swe = hf.get('SWE')\n",
    "    idx = max_day[i]\n",
    "    i=i+1\n",
    "    tmp = swe[idx,:,:]\n",
    "    #max_swe_map[yr] = tmp\n",
    "    data = swe[idx,:,:]\n",
    "    #lat = hf.get('lat')\n",
    "    #lon = hf.get('lon')\n",
    "    data = np.float32(data)\n",
    "    data[data<0] = np.nan\n",
    "    #rows = lon[:].flatten()\n",
    "    #cols = lat[:].flatten()\n",
    "    daily_swe_mean.append(np.nanmean(data))\n",
    "    #im_save = xr.DataArray(data.transpose(), dims=('y', 'x'), \n",
    "    #        coords={'x': rows, 'y': cols})\n",
    "    #im_save.rio.to_raster(fp + 'max_swe'+str(yr)+'.tif')\n",
    "#np.save('data/max_swe_map.npy',max_swe_map)\n",
    "\n",
    "np.save(daily_swe_mean, )"
   ]
  },
  {
   "cell_type": "code",
   "execution_count": 14,
   "metadata": {},
   "outputs": [],
   "source": [
    "from constants import *\n",
    "filepath = 'c:/users/marianne/documents/data/'\n",
    "file = filepath + 'max_swe2000.tif'\n",
    "tuolumne = sn_watersheds[sn_watersheds['name']=='Upper Tuolumne']"
   ]
  },
  {
   "cell_type": "code",
   "execution_count": 9,
   "metadata": {},
   "outputs": [],
   "source": [
    "import rioxarray \n",
    "data = rioxarray.open_rasterio(file)\n",
    "data = data.rio.write_crs('epsg:4326')"
   ]
  },
  {
   "cell_type": "code",
   "execution_count": 11,
   "metadata": {},
   "outputs": [
    {
     "name": "stdout",
     "output_type": "stream",
     "text": [
      "max_day:  [179 167 174 111 169 164 177 143 153 149 175 165 119 196 192 162 156 175\n",
      " 220 153 180 198 151 147 156 163 178 196 119 183 132]\n"
     ]
    },
    {
     "data": {
      "image/png": "[encoded data removed]",
      "text/plain": [
       "<Figure size 432x288 with 1 Axes>"
      ]
     },
     "metadata": {
      "needs_background": "light"
     },
     "output_type": "display_data"
    },
    {
     "data": {
      "image/png": "[encoded data removed]",
      "text/plain": [
       "<Figure size 432x288 with 1 Axes>"
      ]
     },
     "metadata": {
      "needs_background": "light"
     },
     "output_type": "display_data"
    }
   ],
   "source": [
    "max_day = np.load(pe_data_dir + 'max_day.npy') \n",
    "print(\"max_day: \", max_day)\n",
    "fp = 'c:/users/marianne/documents/data/ASO/'\n",
    "\n",
    "daily_sum = np.load(pe_data_dir + 'daily_swe_sum.npy',  allow_pickle=True)\n",
    "daily_mean = np.load(pe_data_dir + 'daily_swe_mean.npy',  allow_pickle=True)\n",
    "\n",
    "tuolumne = rxr.open_rasterio(fp + 'ASO_50M_SWE_USCATB_20130608.tif')\n",
    "\n",
    "tuolumne = tuolumne.rio.reproject(CRS.from_epsg(4326))\n",
    "f,ax=plt.subplots()\n",
    "x =  tuolumne.x\n",
    "y= tuolumne.y\n",
    "x_, y_ = np.meshgrid(x, y)\n",
    "z_grid = np.array(tuolumne.values[0,:,:])\n",
    "z_grid[z_grid<0] = np.nan\n",
    "z_grid[z_grid>40000] = np.nan\n",
    "# .reshape(len(lat),len(lon))\n",
    "ax.contourf(x_,y_,z_grid,cmap='Blues')\n",
    "\n",
    "import rasterio\n",
    "from rasterio.features import shapes\n",
    "\n",
    "tuol_data = fp + 'ASO_50M_SWE_USCATB_20130608.tif'\n",
    "with rasterio.Env():\n",
    "    with rasterio.open(tuol_data) as src:\n",
    "        image = src.read(1) # first band\n",
    "        results = (\n",
    "        {'properties': {'raster_val': v}, 'geometry': s}\n",
    "        for i, (s, v) \n",
    "            in enumerate(\n",
    "                shapes(image, transform=src.transform)))\n",
    "geoms = list(results)\n",
    "import geopandas as gp\n",
    "tuol_polygons  = gp.GeoDataFrame.from_features(geoms)\n",
    "\n",
    "ce_data = fp + 'ASO_50M_SWE_USCACE_20160426.tif'\n",
    "\n",
    "with rasterio.Env():\n",
    "    with rasterio.open(ce_data) as src:\n",
    "        image = src.read(1) # first band\n",
    "        results = (\n",
    "        {'properties': {'raster_val': v}, 'geometry': s}\n",
    "        for i, (s, v) \n",
    "            in enumerate(\n",
    "                shapes(image, transform=src.transform)))\n",
    "geoms = list(results)\n",
    "import geopandas as gp\n",
    "ce_polygons  = gp.GeoDataFrame.from_features(geoms)\n",
    "\n",
    "\n",
    "\n",
    "\n",
    "\n",
    "from shapely.ops import unary_union\n",
    "tuol_outline = unary_union(tuol_polygons[tuol_polygons.raster_val>src.nodata].geometry)\n",
    "d = {'name': ['aso_in_tuol'], 'geometry': [tuol_outline]}\n",
    "gdf = gpd.GeoDataFrame(d)\n",
    "gdf.plot()\n",
    "gdf.to_file('aso_tuolumne_bounds.shp',crs=CRS.from_epsg(32611))"
   ]
  },
  {
   "cell_type": "code",
   "execution_count": 2,
   "metadata": {},
   "outputs": [
    {
     "name": "stderr",
     "output_type": "stream",
     "text": [
      "C:\\Users\\Marianne\\AppData\\Local\\Temp/ipykernel_10140/2692493378.py:39: RuntimeWarning: Mean of empty slice\n",
      "  dailyswe.append(np.nanmean(swe_tmp))\n"
     ]
    },
    {
     "ename": "MemoryError",
     "evalue": "Unable to allocate 35.9 MiB for an array with shape (6601, 5701) and data type bool",
     "output_type": "error",
     "traceback": [
      "\u001b[1;31m---------------------------------------------------------------------------\u001b[0m",
      "\u001b[1;31mMemoryError\u001b[0m                               Traceback (most recent call last)",
      "\u001b[1;32m~\\AppData\\Local\\Temp/ipykernel_10140/2692493378.py\u001b[0m in \u001b[0;36m<module>\u001b[1;34m\u001b[0m\n\u001b[0;32m     34\u001b[0m         \u001b[0msingle_day\u001b[0m \u001b[1;33m=\u001b[0m \u001b[0msingle_day\u001b[0m\u001b[1;33m.\u001b[0m\u001b[0massign_coords\u001b[0m\u001b[1;33m(\u001b[0m\u001b[0mcoords\u001b[0m\u001b[1;33m=\u001b[0m\u001b[1;33m{\u001b[0m\u001b[1;34m'day'\u001b[0m\u001b[1;33m:\u001b[0m\u001b[0mday\u001b[0m\u001b[1;33m}\u001b[0m\u001b[1;33m)\u001b[0m\u001b[1;33m\u001b[0m\u001b[1;33m\u001b[0m\u001b[0m\n\u001b[0;32m     35\u001b[0m         \u001b[0msingle_day\u001b[0m \u001b[1;33m=\u001b[0m \u001b[0msingle_day\u001b[0m\u001b[1;33m.\u001b[0m\u001b[0mrio\u001b[0m\u001b[1;33m.\u001b[0m\u001b[0mwrite_crs\u001b[0m\u001b[1;33m(\u001b[0m\u001b[0mCRS\u001b[0m\u001b[1;33m.\u001b[0m\u001b[0mfrom_epsg\u001b[0m\u001b[1;33m(\u001b[0m\u001b[1;36m4326\u001b[0m\u001b[1;33m)\u001b[0m\u001b[1;33m)\u001b[0m\u001b[1;33m\u001b[0m\u001b[1;33m\u001b[0m\u001b[0m\n\u001b[1;32m---> 36\u001b[1;33m         \u001b[0mclipped\u001b[0m \u001b[1;33m=\u001b[0m \u001b[0msingle_day\u001b[0m\u001b[1;33m.\u001b[0m\u001b[0mrio\u001b[0m\u001b[1;33m.\u001b[0m\u001b[0mclip\u001b[0m\u001b[1;33m(\u001b[0m\u001b[0mtuol_outline_rp\u001b[0m\u001b[1;33m.\u001b[0m\u001b[0mgeometry\u001b[0m\u001b[1;33m,\u001b[0m \u001b[0mCRS\u001b[0m\u001b[1;33m.\u001b[0m\u001b[0mfrom_epsg\u001b[0m\u001b[1;33m(\u001b[0m\u001b[1;36m4326\u001b[0m\u001b[1;33m)\u001b[0m\u001b[1;33m,\u001b[0m \u001b[0mall_touched\u001b[0m\u001b[1;33m=\u001b[0m\u001b[1;32mTrue\u001b[0m\u001b[1;33m)\u001b[0m\u001b[1;33m\u001b[0m\u001b[1;33m\u001b[0m\u001b[0m\n\u001b[0m\u001b[0;32m     37\u001b[0m         \u001b[0mswe_tmp\u001b[0m \u001b[1;33m=\u001b[0m \u001b[0mclipped\u001b[0m\u001b[1;33m.\u001b[0m\u001b[0mvalues\u001b[0m\u001b[1;33m\u001b[0m\u001b[1;33m\u001b[0m\u001b[0m\n\u001b[0;32m     38\u001b[0m         \u001b[0mswe_tmp\u001b[0m\u001b[1;33m=\u001b[0m\u001b[0mswe_tmp\u001b[0m\u001b[1;33m[\u001b[0m\u001b[0mswe_tmp\u001b[0m\u001b[1;33m>\u001b[0m\u001b[1;36m0\u001b[0m\u001b[1;33m]\u001b[0m\u001b[1;33m\u001b[0m\u001b[1;33m\u001b[0m\u001b[0m\n",
      "\u001b[1;32m~\\anaconda3\\envs\\swe\\lib\\site-packages\\rioxarray\\raster_array.py\u001b[0m in \u001b[0;36mclip\u001b[1;34m(self, geometries, crs, all_touched, drop, invert, from_disk)\u001b[0m\n\u001b[0;32m    775\u001b[0m             )\n\u001b[0;32m    776\u001b[0m         \u001b[1;32mif\u001b[0m \u001b[0mcropped_ds\u001b[0m \u001b[1;32mis\u001b[0m \u001b[1;32mNone\u001b[0m\u001b[1;33m:\u001b[0m\u001b[1;33m\u001b[0m\u001b[1;33m\u001b[0m\u001b[0m\n\u001b[1;32m--> 777\u001b[1;33m             cropped_ds = _clip_xarray(\n\u001b[0m\u001b[0;32m    778\u001b[0m                 \u001b[0mself\u001b[0m\u001b[1;33m.\u001b[0m\u001b[0m_obj\u001b[0m\u001b[1;33m,\u001b[0m\u001b[1;33m\u001b[0m\u001b[1;33m\u001b[0m\u001b[0m\n\u001b[0;32m    779\u001b[0m                 \u001b[0mgeometries\u001b[0m\u001b[1;33m=\u001b[0m\u001b[0mgeometries\u001b[0m\u001b[1;33m,\u001b[0m\u001b[1;33m\u001b[0m\u001b[1;33m\u001b[0m\u001b[0m\n",
      "\u001b[1;32m~\\anaconda3\\envs\\swe\\lib\\site-packages\\rioxarray\\raster_array.py\u001b[0m in \u001b[0;36m_clip_xarray\u001b[1;34m(xds, geometries, all_touched, drop, invert)\u001b[0m\n\u001b[0;32m    188\u001b[0m         )\n\u001b[0;32m    189\u001b[0m         cropped_ds = cropped_ds.rio.isel_window(\n\u001b[1;32m--> 190\u001b[1;33m             rasterio.windows.get_data_window(\n\u001b[0m\u001b[0;32m    191\u001b[0m                 \u001b[0mnp\u001b[0m\u001b[1;33m.\u001b[0m\u001b[0mma\u001b[0m\u001b[1;33m.\u001b[0m\u001b[0mmasked_array\u001b[0m\u001b[1;33m(\u001b[0m\u001b[0mclip_mask_arr\u001b[0m\u001b[1;33m,\u001b[0m \u001b[1;33m~\u001b[0m\u001b[0mclip_mask_arr\u001b[0m\u001b[1;33m)\u001b[0m\u001b[1;33m\u001b[0m\u001b[1;33m\u001b[0m\u001b[0m\n\u001b[0;32m    192\u001b[0m             )\n",
      "\u001b[1;32m~\\anaconda3\\envs\\swe\\lib\\site-packages\\rasterio\\windows.py\u001b[0m in \u001b[0;36mget_data_window\u001b[1;34m(arr, nodata)\u001b[0m\n\u001b[0;32m    155\u001b[0m \u001b[1;33m\u001b[0m\u001b[0m\n\u001b[0;32m    156\u001b[0m     \u001b[1;32mif\u001b[0m \u001b[0mnum_dims\u001b[0m \u001b[1;33m==\u001b[0m \u001b[1;36m2\u001b[0m\u001b[1;33m:\u001b[0m\u001b[1;33m\u001b[0m\u001b[1;33m\u001b[0m\u001b[0m\n\u001b[1;32m--> 157\u001b[1;33m         \u001b[0mdata_rows\u001b[0m\u001b[1;33m,\u001b[0m \u001b[0mdata_cols\u001b[0m \u001b[1;33m=\u001b[0m \u001b[0mnp\u001b[0m\u001b[1;33m.\u001b[0m\u001b[0mwhere\u001b[0m\u001b[1;33m(\u001b[0m\u001b[0mnp\u001b[0m\u001b[1;33m.\u001b[0m\u001b[0mequal\u001b[0m\u001b[1;33m(\u001b[0m\u001b[0marr\u001b[0m\u001b[1;33m.\u001b[0m\u001b[0mmask\u001b[0m\u001b[1;33m,\u001b[0m \u001b[1;32mFalse\u001b[0m\u001b[1;33m)\u001b[0m\u001b[1;33m)\u001b[0m\u001b[1;33m\u001b[0m\u001b[1;33m\u001b[0m\u001b[0m\n\u001b[0m\u001b[0;32m    158\u001b[0m     \u001b[1;32melse\u001b[0m\u001b[1;33m:\u001b[0m\u001b[1;33m\u001b[0m\u001b[1;33m\u001b[0m\u001b[0m\n\u001b[0;32m    159\u001b[0m         data_rows, data_cols = np.where(\n",
      "\u001b[1;31mMemoryError\u001b[0m: Unable to allocate 35.9 MiB for an array with shape (6601, 5701) and data type bool"
     ]
    }
   ],
   "source": [
    "# print( #typo here to prevent accidentally running the entire cell and destroying the kernel\n",
    "fp = 'c:/users/marianne/documents/data/reanalysis/h5/'\n",
    "scripts_dir = 'c:/users/marianne/documents/pe_snow_fires/scripts/'\n",
    "end_day = 365\n",
    "\n",
    "tuol_outline = gpd.read_file(scripts_dir + 'aso_tuolumne_bounds.shp')\n",
    "tuol_outline_rp = tuol_outline.to_crs(CRS.from_epsg(4326))\n",
    "####\n",
    "\n",
    "daily_swe_mean = {} #key = year, value = array of daily avg swe values\n",
    "daily_swe_total = {} #key = year, value = array of daily total swe values\n",
    "for yr in range(1985, 2016): #range(1985 , 2016):\n",
    "    dailyswe = [] # mean swe of each day\n",
    "    dailyswe_total = [] \n",
    "    numpixels = [] # num swe measurements each da\n",
    "    hf = h5py.File(fp + 'SN_SWE_WY'+ str(yr) + '.h5', 'r')\n",
    "    \n",
    "    #converting a year's h5 file to .tif\n",
    "    year_list = []\n",
    "    lat = hf.get('lat')\n",
    "    lon = hf.get('lon')\n",
    "    swe = hf.get(\"SWE\")\n",
    "    for day in range(end_day):\n",
    "        data = swe[day,:,:]\n",
    "        data = np.float32(data)\n",
    "        data[data<0] = np.nan\n",
    "        rows = lon[:].flatten()\n",
    "        cols = lat[:].flatten()\n",
    "        single_day = xr.DataArray(data.transpose(), dims=('y', 'x'), \n",
    "              coords={'band': day, 'x': rows, 'y': cols})\n",
    "        single_day = single_day.assign_coords(coords={'day':day})\n",
    "        single_day = single_day.rio.write_crs(CRS.from_epsg(4326))\n",
    "        clipped = single_day.rio.clip(tuol_outline_rp.geometry, CRS.from_epsg(4326), all_touched=True)\n",
    "        swe_tmp = clipped.values\n",
    "        swe_tmp=swe_tmp[swe_tmp>0]\n",
    "        dailyswe.append(np.nanmean(swe_tmp))\n",
    "        dailyswe_total.append(np.nansum(swe_tmp))\n",
    "        numpixels.append(len(swe_tmp))\n",
    "\n",
    "    dailyswe=np.array(dailyswe)\n",
    "    dailyswe_total = np.array(dailyswe_total)\n",
    "    numpixels = np.array(numpixels)\n",
    "    daily_swe_mean[yr] = dailyswe \n",
    "    daily_swe_total[yr] = dailyswe_total\n",
    " "
   ]
  },
  {
   "cell_type": "code",
   "execution_count": 136,
   "metadata": {},
   "outputs": [
    {
     "ename": "KeyError",
     "evalue": "1985",
     "output_type": "error",
     "traceback": [
      "\u001b[1;31m---------------------------------------------------------------------------\u001b[0m",
      "\u001b[1;31mKeyError\u001b[0m                                  Traceback (most recent call last)",
      "\u001b[1;32m~\\AppData\\Local\\Temp/ipykernel_22656/148793256.py\u001b[0m in \u001b[0;36m<module>\u001b[1;34m\u001b[0m\n\u001b[1;32m----> 1\u001b[1;33m \u001b[0mplt\u001b[0m\u001b[1;33m.\u001b[0m\u001b[0mplot\u001b[0m\u001b[1;33m(\u001b[0m\u001b[0mdaily_swe_mean\u001b[0m\u001b[1;33m[\u001b[0m\u001b[1;36m1985\u001b[0m\u001b[1;33m]\u001b[0m\u001b[1;33m)\u001b[0m\u001b[1;33m\u001b[0m\u001b[1;33m\u001b[0m\u001b[0m\n\u001b[0m\u001b[0;32m      2\u001b[0m \u001b[0mplt\u001b[0m\u001b[1;33m.\u001b[0m\u001b[0mshow\u001b[0m\u001b[1;33m(\u001b[0m\u001b[1;33m)\u001b[0m\u001b[1;33m\u001b[0m\u001b[1;33m\u001b[0m\u001b[0m\n",
      "\u001b[1;31mKeyError\u001b[0m: 1985"
     ]
    }
   ],
   "source": [
    "plt.plot(daily_swe_mean[1985])\n",
    "plt.show()"
   ]
  },
  {
   "cell_type": "code",
   "execution_count": 3,
   "metadata": {},
   "outputs": [
    {
     "data": {
      "text/plain": [
       "1986"
      ]
     },
     "execution_count": 3,
     "metadata": {},
     "output_type": "execute_result"
    }
   ],
   "source": [
    "yr"
   ]
  },
  {
   "cell_type": "code",
   "execution_count": 4,
   "metadata": {},
   "outputs": [
    {
     "data": {
      "text/plain": [
       "262"
      ]
     },
     "execution_count": 4,
     "metadata": {},
     "output_type": "execute_result"
    }
   ],
   "source": [
    "day"
   ]
  },
  {
   "cell_type": "code",
   "execution_count": 17,
   "metadata": {},
   "outputs": [],
   "source": []
  },
  {
   "cell_type": "code",
   "execution_count": null,
   "metadata": {},
   "outputs": [],
   "source": []
  }
 ],
 "metadata": {
  "interpreter": {
   "hash": "de5d231dad5132826100b9f4984636fcf38463b4e554017da8ead88e76106218"
  },
  "kernelspec": {
   "display_name": "Python 3.9.7 64-bit ('swe': conda)",
   "name": "python3"
  },
  "language_info": {
   "codemirror_mode": {
    "name": "ipython",
    "version": 3
   },
   "file_extension": ".py",
   "mimetype": "text/x-python",
   "name": "python",
   "nbconvert_exporter": "python",
   "pygments_lexer": "ipython3",
   "version": "3.9.7"
  },
  "orig_nbformat": 4
 },
 "nbformat": 4,
 "nbformat_minor": 2
}

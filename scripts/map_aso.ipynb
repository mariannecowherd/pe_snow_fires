{
 "cells": [
  {
   "cell_type": "code",
   "execution_count": 1,
   "metadata": {},
   "outputs": [],
   "source": [
    "import matplotlib.pyplot as plt\n",
    "import os\n",
    "import numpy as np\n",
    "import rasterio\n",
    "from rasterio.plot import show\n",
    "import numpy as np\n",
    "import matplotlib.colors\n",
    "from matplotlib import cm"
   ]
  },
  {
   "cell_type": "code",
   "execution_count": null,
   "metadata": {},
   "outputs": [],
   "source": [
    "filepath = ' '  # edit this!!\n",
    "filename = ' '  # add file name!"
   ]
  },
  {
   "cell_type": "code",
   "execution_count": null,
   "metadata": {},
   "outputs": [],
   "source": [
    "os.chdir(filepath)\n",
    "data = rasterio.open(filename)"
   ]
  },
  {
   "cell_type": "code",
   "execution_count": null,
   "metadata": {},
   "outputs": [],
   "source": [
    "blues = cm.get_cmap('Blues', 256)\n",
    "newcolors = blues(np.linspace(0, 1.5, 256))\n",
    "pink = np.array([248/256, 24/256, 148/256, 1])\n",
    "white = np.array([1,1,1,0])\n",
    "newcolors[:10, :] = white\n",
    "newcmp = matplotlib.colors.ListedColormap(newcolors)\n",
    " \n",
    "kwargs = {\"cmap\": newcmp, \"vmax\": 1}\n",
    "\n",
    "fig, ax = plt.subplots(figsize=(15, 10))\n",
    "swe_plot = show((data,1),ax=ax,vmin=0.1,**kwargs)\n",
    "colorbar = fig.colorbar(swe_plot,ax=ax)\n",
    "ax.set_xlabel('easting [m]')\n",
    "ax.set_ylabel('northing [m]')\n",
    "fig.colorbar(cm.ScalarMappable(norm=None, cmap=newcmp), ax=ax)\n",
    "plt.show()"
   ]
  }
 ],
 "metadata": {
  "interpreter": {
   "hash": "de5d231dad5132826100b9f4984636fcf38463b4e554017da8ead88e76106218"
  },
  "kernelspec": {
   "display_name": "Python 3.9.7 64-bit ('swe': conda)",
   "name": "python3"
  },
  "language_info": {
   "codemirror_mode": {
    "name": "ipython",
    "version": 3
   },
   "file_extension": ".py",
   "mimetype": "text/x-python",
   "name": "python",
   "nbconvert_exporter": "python",
   "pygments_lexer": "ipython3",
   "version": "3.9.7"
  },
  "orig_nbformat": 4
 },
 "nbformat": 4,
 "nbformat_minor": 2
}

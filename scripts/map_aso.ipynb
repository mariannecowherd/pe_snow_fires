{
 "cells": [
  {
   "cell_type": "code",
   "execution_count": 1,
   "metadata": {},
   "outputs": [],
   "source": [
    "import matplotlib.pyplot as plt\n",
    "import os\n",
    "import numpy as np\n",
    "import rasterio\n",
    "from rasterio.plot import show\n",
    "import numpy as np\n",
    "import matplotlib.colors\n",
    "from matplotlib import cm"
   ]
  },
  {
   "cell_type": "code",
   "execution_count": null,
   "metadata": {},
   "outputs": [],
   "source": [
    "filepath = ' '  # edit this!!\n",
    "filename = ' '  # add file name!"
   ]
  },
  {
   "cell_type": "code",
   "execution_count": null,
   "metadata": {},
   "outputs": [],
   "source": [
    "os.chdir(filepath)\n",
    "data = rasterio.open(filename)"
   ]
  },
  {
   "cell_type": "code",
   "execution_count": null,
   "metadata": {},
   "outputs": [],
   "source": [
    "blues = cm.get_cmap('Blues', 256)\n",
    "newcolors = blues(np.linspace(0, 1.5, 256))\n",
    "pink = np.array([248/256, 24/256, 148/256, 1])\n",
    "white = np.array([1,1,1,0])\n",
    "newcolors[:10, :] = white\n",
    "newcmp = matplotlib.colors.ListedColormap(newcolors)\n",
    " \n",
    "kwargs = {\"cmap\": newcmp, \"vmax\": 1}\n",
    "\n",
    "fig, ax = plt.subplots(figsize=(15, 10))\n",
    "swe_plot = show((data,1),ax=ax,vmin=0.1,**kwargs)\n",
    "colorbar = fig.colorbar(swe_plot,ax=ax)\n",
    "ax.set_xlabel('easting [m]')\n",
    "ax.set_ylabel('northing [m]')\n",
    "fig.colorbar(cm.ScalarMappable(norm=None, cmap=newcmp), ax=ax)\n",
    "plt.show()"
   ]
  },
  {
   "cell_type": "code",
   "execution_count": null,
   "metadata": {},
   "outputs": [],
   "source": [
    "import h5py\n",
    "import rasterio as rio\n",
    "import xarray as xr\n",
    "\n",
    "#change this to the folder where all your data are\n",
    "fp = 'c:/users/marianne/documents/data/'\n",
    "#max_day is an array with the day of water year that had the highest average swe for that year\n",
    "max_day = np.load(fp+'max_day.npy') \n",
    "daily_sum = np.load(fp + 'daily_swe_sum.npy')\n",
    "daily_mean = np.load(fp + 'daily_swe_mean.npy')\n",
    "\n",
    "max_swe_map = {}\n",
    "i=0\n",
    "for yr in range(1985,2016):\n",
    "    hf = h5py.File(fp + 'reanalysis/h5/SN_SWE_WY'+ str(yr) + '.h5', 'r')\n",
    "    swe = hf.get('SWE')\n",
    "    idx = max_day[i]\n",
    "    i=i+1\n",
    "    tmp = swe[idx,:,:]\n",
    "    max_swe_map[yr] = tmp\n",
    "    data = swe[idx,:,:]\n",
    "    lat = hf.get('lat')\n",
    "    lon = hf.get('lon')\n",
    "    data = np.float32(data)\n",
    "    data[data<0] = np.nan\n",
    "    rows = lon[:].flatten()\n",
    "    cols = lat[:].flatten()\n",
    "    im_save = xr.DataArray(data.transpose(), dims=('y', 'x'), \n",
    "            coords={'x': rows, 'y': cols})\n",
    "    im_save.rio.to_raster(fp + 'max_swe'+str(yr)+'.tif')\n",
    "np.save('data/max_swe_map.npy',max_swe_map)"
   ]
  }
 ],
 "metadata": {
  "interpreter": {
   "hash": "de5d231dad5132826100b9f4984636fcf38463b4e554017da8ead88e76106218"
  },
  "kernelspec": {
   "display_name": "Python 3.9.7 64-bit ('swe': conda)",
   "name": "python3"
  },
  "language_info": {
   "codemirror_mode": {
    "name": "ipython",
    "version": 3
   },
   "file_extension": ".py",
   "mimetype": "text/x-python",
   "name": "python",
   "nbconvert_exporter": "python",
   "pygments_lexer": "ipython3",
   "version": "3.9.7"
  },
  "orig_nbformat": 4
 },
 "nbformat": 4,
 "nbformat_minor": 2
}

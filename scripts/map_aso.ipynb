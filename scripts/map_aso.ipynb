{
 "cells": [
  {
   "cell_type": "code",
   "execution_count": null,
   "source": [
    "import matplotlib.pyplot as plt\r\n",
    "import geopandas as gpd\r\n",
    "import os\r\n",
    "import rasterio\r\n",
    "from rasterio.plot import show\r\n",
    "import rioxarray as rxr\r\n",
    "import xarray as xr\r\n",
    "from shapely.geometry import mapping\r\n",
    "import numpy as np\r\n",
    "import matplotlib.colors\r\n",
    "from matplotlib import cm"
   ],
   "outputs": [],
   "metadata": {}
  },
  {
   "cell_type": "code",
   "execution_count": null,
   "source": [
    "filepath = ' '  # edit this!!\r\n",
    "filename = ' '  # add file name!"
   ],
   "outputs": [],
   "metadata": {}
  },
  {
   "cell_type": "code",
   "execution_count": null,
   "source": [
    "os.chdir(filepath)\r\n",
    "data = rasterio.open(filename)"
   ],
   "outputs": [],
   "metadata": {}
  },
  {
   "cell_type": "code",
   "execution_count": null,
   "source": [
    "blues = cm.get_cmap('Blues', 256)\r\n",
    "newcolors = blues(np.linspace(0, 1.5, 256))\r\n",
    "pink = np.array([248/256, 24/256, 148/256, 1])\r\n",
    "white = np.array([1,1,1,0])\r\n",
    "newcolors[:10, :] = white\r\n",
    "newcmp = matplotlib.colors.ListedColormap(newcolors)\r\n",
    "\r\n",
    "kwargs = {\"cmap\": newcmp, \"vmax\": 1}\r\n",
    "\r\n",
    "fig, ax = plt.subplots(figsize=(15, 10))\r\n",
    "swe_plot = show((data,1),ax=ax,vmin=0.1,**kwargs)\r\n",
    "colorbar = fig.colorbar(swe_plot,ax=ax)\r\n",
    "ax.set_xlabel('easting [m]')\r\n",
    "ax.set_ylabel('northing [m]')\r\n",
    "fig.colorbar(cm.ScalarMappable(norm=None, cmap=newcmp), ax=ax)\r\n",
    "plt.show()"
   ],
   "outputs": [],
   "metadata": {}
  }
 ],
 "metadata": {
  "orig_nbformat": 4,
  "language_info": {
   "name": "python"
  }
 },
 "nbformat": 4,
 "nbformat_minor": 2
}
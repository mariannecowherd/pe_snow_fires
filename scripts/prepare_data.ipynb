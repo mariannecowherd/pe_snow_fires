{
 "cells": [
  {
   "cell_type": "code",
   "execution_count": 3,
   "metadata": {},
   "outputs": [],
   "source": [
    "from glob import glob\n",
    "import os\n",
    "import numpy as np\n",
    "import numpy.ma as ma\n",
    "import matplotlib.pyplot as plt\n",
    "from matplotlib import cm\n",
    "import geopandas as gpd\n",
    "import rioxarray as rxr\n",
    "import xarray as xr\n",
    "from rasterio.plot import plotting_extent\n",
    "import h5py\n",
    "from shapely.geometry import box\n",
    "from osgeo import gdal\n",
    "# optional - turn off warnings\n",
    "import warnings\n",
    "warnings.filterwarnings('ignore')\n",
    "\n",
    "from constants import *\n",
    "os.chdir(home_dir)"
   ]
  },
  {
   "cell_type": "code",
   "execution_count": null,
   "metadata": {},
   "outputs": [],
   "source": [
    "### read in SWE data and save as npy file\n",
    "'''\n",
    "years = range(1987,2017)\n",
    "months = ['Oct', 'Nov', 'Dec','Jan', 'Feb', 'Mar', 'Apr', 'May', 'Jun', 'Jul', 'Aug', 'Sep']\n",
    "m_num = range(1,13)\n",
    "days_in_month = [31, 30, 31, 31, 28, 31, 30, 31, 30, 31, 31, 30]\n",
    "os.chdir('/users/marianne/documents/data/reanalysis')\n",
    "for yr in years:\n",
    "    hf = h5py.File('SN_SWE_WY'+ str(yr) + '.h5', 'r')\n",
    "    swe = hf.get('SWE')\n",
    "    lat = hf.get('lat')\n",
    "    lon = hf.get('lon')\n",
    "    for i in range(len(days_in_month)):\n",
    "        start = sum(days_in_month[0:i-1])\n",
    "        end = start + days_in_month[i]\n",
    "        tmp = swe[start:end,0:2850,:]\n",
    "        tmp = tmp.astype('float')\n",
    "        for a in range(days_in_month[i]):\n",
    "            for b in range(2850):\n",
    "                for c in range(6601):\n",
    "                    try:\n",
    "                        if tmp[a,b,c]<0:\n",
    "                            tmp[a,b,c] = np.nan\n",
    "                    except:\n",
    "                        continue\n",
    "        da = xr.DataArray(\n",
    "                data = np.nanmean(tmp,axis=0),\n",
    "                dims = [\"lon\",\"lat\"],\n",
    "                coords = dict(\n",
    "                    lon=(lon[:2850,0]),\n",
    "                    lat=(lat[0,:]),\n",
    "                )\n",
    "            )\n",
    "        np.save('swe_'+str(yr)+'_'+months[i]+'_N.npy',da,allow_pickle=True)\n",
    "\n",
    "    for i in range(len(days_in_month)):\n",
    "        start = sum(days_in_month[0:i-1])\n",
    "        end = start + days_in_month[i]\n",
    "        tmp = swe[start:end,2850:,:]\n",
    "        tmp = tmp.astype('float32')/1000\n",
    "        for a in range(days_in_month[i]):\n",
    "            for b in range(2850,2850*2):\n",
    "                for c in range(6601):\n",
    "                    try: \n",
    "                        if tmp[a,b,c]<0:\n",
    "                            tmp[a,b,c] = np.nan\n",
    "                    except:\n",
    "                        continue\n",
    "        da = xr.DataArray(\n",
    "                data = np.nanmean(tmp,axis=0),\n",
    "                dims = [\"lon\",\"lat\"],\n",
    "                coords = dict(\n",
    "                    lon=(lon[2850:,0]),\n",
    "                    lat=(lat[0,:]),\n",
    "                )\n",
    "            )\n",
    "        np.save('swe_'+str(yr)+'_'+months[i]+'_S.npy',da,allow_pickle=True)\n",
    "'''"
   ]
  },
  {
   "cell_type": "code",
   "execution_count": 3,
   "metadata": {},
   "outputs": [],
   "source": [
    "### getr max swe for each year and save\n",
    "\n",
    "fp = 'c:/users/marianne/documents/data/reanalysis/h5/'\n",
    "# daily_swe = {}\n",
    "#daily_swe_total = {}\n",
    "#max_day = []\n",
    "#max_swe = []\n",
    "daily_swe_mean = {}\n",
    "for yr in range(1985 , 2016):\n",
    "    hf = h5py.File(fp + 'SN_SWE_WY'+ str(yr) + '.h5', 'r')\n",
    "    swe = hf.get('SWE')\n",
    "    dailyswe = []\n",
    "    numpixels = []\n",
    "    for i in range(365):\n",
    "        swe_tmp = np.array(swe[i,:,:])\n",
    "        swe_tmp=swe_tmp[swe_tmp>0]\n",
    "        dailyswe.append(np.nanmean(swe_tmp))\n",
    "        numpixels.append(len(swe_tmp))\n",
    "    dailyswe=np.array(dailyswe)\n",
    "    numpixels = np.array(numpixels)\n",
    "    #maxswe = np.nanmax(dailyswe[numpixels>1e6])\n",
    "    #maxday = np.where(dailyswe == maxswe)[0][0]\n",
    "    daily_swe_mean[yr] = dailyswe\n",
    "    #max_day.append(maxday)\n",
    "    #max_swe.append(maxswe)\n",
    "\n",
    "\n",
    "## save to npy files in home directory\n",
    "np.save('data/daily_swe_mean.npy',daily_swe_mean)\n",
    "#np.save('data/daily_swe_sum.npy',daily_swe_total)\n",
    "#np.save('data/max_day.npy',max_day)\n",
    "#np.save('data/max_swe.npy',max_swe)\n"
   ]
  },
  {
   "cell_type": "code",
   "execution_count": 10,
   "metadata": {},
   "outputs": [],
   "source": [
    "max_day = np.load('data/max_day.npy')"
   ]
  },
  {
   "cell_type": "code",
   "execution_count": 11,
   "metadata": {},
   "outputs": [],
   "source": [
    "import h5py\n",
    "max_path = 'c:/users/marianne/documents/data/'\n",
    "\n",
    "max_swe_map = {}\n",
    "i=0\n",
    "for yr in range(1985,1986):\n",
    "    #file = 'data/data'+str(yr)+'.npy'\n",
    "    #data =np.load(file,allow_pickle=True).reshape((1))[0]\n",
    "    hf = h5py.File('/users/marianne/documents/data/reanalysis/h5/SN_SWE_WY'+ str(yr) + '.h5', 'r')\n",
    "    swe = hf.get('SWE')\n",
    "    idx = max_day[i]\n",
    "    i=i+1\n",
    "    tmp = swe[idx,:,:]\n",
    "    max_swe_map[yr] = tmp\n",
    "    data = swe[idx,:,:]\n",
    "    lat = hf.get('lat')\n",
    "    lon = hf.get('lon')\n",
    "    data = np.float32(data)\n",
    "    data[data<0] = np.nan\n",
    "    rows = lon[:].flatten()\n",
    "    cols = lat[:].flatten()\n",
    "    im_save = xr.DataArray(data.transpose(), dims=('y', 'x'), \n",
    "            coords={'x': rows, 'y': cols})\n",
    "    #im_save.rio.to_raster(max_path + 'max_swe'+str(yr)+'.tif')\n",
    "    #rio.to_raster('c:/users/marianne/documents/data/swe_max/swe_max_'+str(yr)+'.tif')\n",
    "#np.save('data/max_swe_map.npy',max_swe_map)"
   ]
  },
  {
   "cell_type": "code",
   "execution_count": 25,
   "metadata": {},
   "outputs": [],
   "source": [
    "shapefile = gpd.read_file('data/sn_watersheds.shp')\n",
    "\n",
    "#test_clipped = test.rio.clip(shapefile.geometry, all_touched=True,from_disk=True)\n"
   ]
  },
  {
   "cell_type": "code",
   "execution_count": 47,
   "metadata": {},
   "outputs": [
    {
     "data": {
      "text/plain": [
       "<matplotlib.collections.QuadMesh at 0x18ca501ddc0>"
      ]
     },
     "execution_count": 47,
     "metadata": {},
     "output_type": "execute_result"
    },
    {
     "data": {
      "image/png": "[encoded data removed]",
      "text/plain": [
       "<Figure size 432x288 with 2 Axes>"
      ]
     },
     "metadata": {
      "needs_background": "light"
     },
     "output_type": "display_data"
    }
   ],
   "source": [
    "test = test.rio.write_crs(tmp.crs)\n",
    "tmp = shapefile[shapefile['name'] == 'Upper Tuolumne']\n",
    "clipped = test.rio.clip(tmp.geometry,all_touched=True)\n",
    "clipped.plot()"
   ]
  },
  {
   "cell_type": "code",
   "execution_count": 45,
   "metadata": {},
   "outputs": [],
   "source": [
    "test = test.rio.write_crs(tmp.crs)"
   ]
  },
  {
   "cell_type": "code",
   "execution_count": null,
   "metadata": {},
   "outputs": [],
   "source": [
    "## save data as lat lon\n",
    "days = range(90,200,10)\n",
    "for yr in range(1985,2017):\n",
    "    hf = h5py.File(filepath + 'SN_SWE_WY'+str(yr)+ '.h5', 'r')\n",
    "    swe = hf.get('SWE')\n",
    "    lat = hf.get('lat')\n",
    "    lon = hf.get('lon')\n",
    "    data = {}\n",
    "    for i in days:\n",
    "        tmp = np.array(swe[i,:,:]).flatten()\n",
    "        tmp = tmp[np.where((tmp>0) & (tmp<2000))]\n",
    "        data[i]=tmp\n",
    "    np.save('data'+str(yr)+'.npy',data,allow_pickle=True)"
   ]
  },
  {
   "cell_type": "code",
   "execution_count": null,
   "metadata": {},
   "outputs": [],
   "source": [
    "\n",
    "yr = 2000\n",
    "dataset = rxr.open_rasterio('\\\\users\\\\marianne\\\\documents\\\\data\\\\pe_snow_fires_data\\\\max-ndvi\\\\max-ndvi-'+str(yr)+'.tif')\n",
    "show(dataset)\n",
    "\n",
    "summer = cm.get_cmap('summer', 256)\n",
    "newcolors = summer(np.linspace(0, 1, 256))\n",
    "white = np.array([1,1,1,0])\n",
    "newcolors[:10, :] = white\n",
    "newcmp = matplotlib.colors.ListedColormap(newcolors)\n",
    "\n",
    "sn_geom = sn_watersheds.to_crs(dataset.rio.crs)\n",
    "f,ax=plt.subplots(1,2)\n",
    "yr = 2004\n",
    "dataset = rxr.open_rasterio('\\\\users\\\\marianne\\\\documents\\\\data\\\\pe_snow_fires_data\\\\max-ndvi\\\\max-ndvi-'+str(yr)+'.tif')\n",
    "avhrr_clip = dataset.rio.clip(sn_geom.geometry,\n",
    "            all_touched=True,\n",
    "            from_disk=True)\n",
    "ax[0].imshow(avhrr_clip[0,:,:],\n",
    "            # ax=ax[0],\n",
    "            # title = 'max NDVI ' + str(yr),\n",
    "            cmap = newcmp)\n",
    "yr=2013\n",
    "dataset = rxr.open_rasterio('\\\\users\\\\marianne\\\\documents\\\\data\\\\pe_snow_fires_data\\\\max-ndvi\\\\max-ndvi-'+str(yr)+'.tif')\n",
    "avhrr_clip = dataset.rio.clip(sn_geom.geometry,\n",
    "            all_touched=True,\n",
    "            from_disk=True)\n",
    "\n",
    "ax[1].imshow(avhrr_clip[0,:,:],\n",
    "            # ax=ax[1],\n",
    "            # title = 'max NDVI ' + str(yr),\n",
    "            cmap = newcmp)\n",
    "\n",
    "max_ndvi=[]\n",
    "for yr in range(1980,2016):\n",
    "    dataset = rxr.open_rasterio('\\\\users\\\\marianne\\\\documents\\\\data\\\\pe_snow_fires_data\\\\max-ndvi\\\\max-ndvi-'+str(yr)+'.tif')\n",
    "    avhrr_clip = dataset.rio.clip(sn_geom.geometry,\n",
    "            all_touched=True,\n",
    "            from_disk=True)\n",
    "    max_ndvi.append(np.nanmean(avhrr_clip.values))\n",
    "    # print(np.nanmean(avhrr_clip.values))\n",
    "\n",
    "\n",
    "np.save('max_ndvi_years.npy',max_ndvi)"
   ]
  }
 ],
 "metadata": {
  "interpreter": {
   "hash": "de5d231dad5132826100b9f4984636fcf38463b4e554017da8ead88e76106218"
  },
  "kernelspec": {
   "display_name": "Python 3.9.7 64-bit ('swe': conda)",
   "name": "python3"
  },
  "language_info": {
   "codemirror_mode": {
    "name": "ipython",
    "version": 3
   },
   "file_extension": ".py",
   "mimetype": "text/x-python",
   "name": "python",
   "nbconvert_exporter": "python",
   "pygments_lexer": "ipython3",
   "version": "3.9.7"
  },
  "orig_nbformat": 4
 },
 "nbformat": 4,
 "nbformat_minor": 2
}
